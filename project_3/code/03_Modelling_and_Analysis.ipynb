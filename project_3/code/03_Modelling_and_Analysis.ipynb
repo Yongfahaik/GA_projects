{
 "cells": [
  {
   "cell_type": "markdown",
   "id": "462f48e0",
   "metadata": {},
   "source": [
    "<div>\n",
    "<img src=\"http://imgur.com/1ZcRyrc.png\" style=\"float: left; margin: 20px; height: 55px\" width=100>\n",
    "</div>\n",
    "\n",
    "# Project 3: Web APIs & NLP"
   ]
  },
  {
   "cell_type": "markdown",
   "id": "734c5f4a",
   "metadata": {},
   "source": [
    "## Background\n",
    "\n",
    "[Reddit](https:www.reddit.com) is a network of communities where people can dive into their interests, hobbies and passions. Subreddits are user-created channels where discussion on the topic of interest, hobby or passion are organized. From [Metrics For Reddit](https://frontpagemetrics.com/history), there are over 3.2 million subreddits as of December 2021, with hundreds of subreddits being created every day. \n",
    "\n",
    "1. Using [Pushshift's](https://github.com/pushshift/api) API, posts are collected from the two subreddits of [nosleep](https://www.reddit.com/r/nosleep/) and [paranormal](https://www.reddit.com/r/paranormal/).\n",
    "2. `You'll then use NLP to train a classifier on which subreddit a given post came from.`"
   ]
  },
  {
   "cell_type": "markdown",
   "id": "714a6a4c",
   "metadata": {},
   "source": [
    "## Problem Statement\n",
    "\n",
    "As there are many different subreddits on Reddit, and since interests, hobbies and passions can be similar, there are always various subreddits that are similar to each other. Without a doubt, anyone who is new to writing and posting to Reddit can be confused as to which subreddit to post to. In this project, the aim is to assist the new Reddit user in the decision of which subreddit to make the post in.\n",
    "\n",
    "For the context of this project, the post is in the form of a scary experience, and the choices of the two of the subreddits are [nosleep](https://www.reddit.com/r/nosleep/) and [paranormal](https://www.reddit.com/r/paranormal/), two subreddits that cater to scary personal experiences and paranormal experiences, thoughts and theories."
   ]
  },
  {
   "cell_type": "markdown",
   "id": "043e4dc0",
   "metadata": {},
   "source": [
    "## Progress so far\n",
    "\n",
    "Using the [Pushshift's](https://github.com/pushshift/api) API, posts are collected from the two subreddits of [nosleep](https://www.reddit.com/r/nosleep/) and [paranormal](https://www.reddit.com/r/paranormal/), and then compiled into CSVs.\n",
    "\n",
    "`At this point in time, `"
   ]
  },
  {
   "cell_type": "markdown",
   "id": "826d3b1e",
   "metadata": {},
   "source": [
    "## Part 3: Modelling and Analysis"
   ]
  },
  {
   "cell_type": "markdown",
   "id": "c51b2a57",
   "metadata": {},
   "source": [
    "### Imports (All imported libraries are added here)"
   ]
  },
  {
   "cell_type": "code",
   "execution_count": 39,
   "id": "3562f958",
   "metadata": {},
   "outputs": [],
   "source": [
    "import pandas as pd\n",
    "import matplotlib.pyplot as plt\n",
    "\n",
    "from sklearn.feature_extraction.text import CountVectorizer, TfidfVectorizer\n",
    "from sklearn.metrics import confusion_matrix, ConfusionMatrixDisplay\n",
    "from sklearn.model_selection import train_test_split, GridSearchCV\n",
    "from sklearn.pipeline import Pipeline\n",
    "from sklearn.naive_bayes import MultinomialNB\n",
    "from sklearn.linear_model import LogisticRegression\n",
    "from sklearn.neighbors import KNeighborsClassifier"
   ]
  },
  {
   "cell_type": "markdown",
   "id": "c0ac62a3",
   "metadata": {},
   "source": [
    "### Importing the Dataset"
   ]
  },
  {
   "cell_type": "code",
   "execution_count": 2,
   "id": "35a35498",
   "metadata": {},
   "outputs": [],
   "source": [
    "# Importing the preprocessed dataset\n",
    "df = pd.read_csv('../datasets/data_model.csv')"
   ]
  },
  {
   "cell_type": "code",
   "execution_count": 3,
   "id": "77f85f9d",
   "metadata": {},
   "outputs": [
    {
     "data": {
      "text/html": [
       "<div>\n",
       "<style scoped>\n",
       "    .dataframe tbody tr th:only-of-type {\n",
       "        vertical-align: middle;\n",
       "    }\n",
       "\n",
       "    .dataframe tbody tr th {\n",
       "        vertical-align: top;\n",
       "    }\n",
       "\n",
       "    .dataframe thead th {\n",
       "        text-align: right;\n",
       "    }\n",
       "</style>\n",
       "<table border=\"1\" class=\"dataframe\">\n",
       "  <thead>\n",
       "    <tr style=\"text-align: right;\">\n",
       "      <th></th>\n",
       "      <th>subreddit</th>\n",
       "      <th>text</th>\n",
       "      <th>text_stoptokens</th>\n",
       "      <th>text_lem</th>\n",
       "      <th>text_stem</th>\n",
       "      <th>text_stemlem</th>\n",
       "    </tr>\n",
       "  </thead>\n",
       "  <tbody>\n",
       "    <tr>\n",
       "      <th>0</th>\n",
       "      <td>1</td>\n",
       "      <td>I created a new plant. It's gonna hurt a lot o...</td>\n",
       "      <td>['created', 'new', 'plant', 'gonna', 'hurt', '...</td>\n",
       "      <td>created new plant gonna hurt lot people create...</td>\n",
       "      <td>creat new plant gonna hurt lot peopl creat new...</td>\n",
       "      <td>creat new plant gonna hurt lot peopl creat new...</td>\n",
       "    </tr>\n",
       "    <tr>\n",
       "      <th>1</th>\n",
       "      <td>1</td>\n",
       "      <td>The people I kill won't stay dead. I'm not wri...</td>\n",
       "      <td>['people', 'kill', 'stay', 'dead', 'writing', ...</td>\n",
       "      <td>people kill stay dead writing sort confession ...</td>\n",
       "      <td>peopl kill stay dead write sort confess event ...</td>\n",
       "      <td>peopl kill stay dead write sort confess event ...</td>\n",
       "    </tr>\n",
       "    <tr>\n",
       "      <th>2</th>\n",
       "      <td>1</td>\n",
       "      <td>Don't got to the Magic Show at the Gypsy Carni...</td>\n",
       "      <td>['got', 'magic', 'show', 'gypsy', 'carnival', ...</td>\n",
       "      <td>got magic show gypsy carnival final part 1 l p...</td>\n",
       "      <td>got magic show gypsi carniv final part 1 l par...</td>\n",
       "      <td>got magic show gypsi carniv final part 1 l par...</td>\n",
       "    </tr>\n",
       "    <tr>\n",
       "      <th>3</th>\n",
       "      <td>1</td>\n",
       "      <td>\"Intent: The Truth\" - Randonauting is not that...</td>\n",
       "      <td>['intent', 'truth', 'randonauting', 'fun', 'he...</td>\n",
       "      <td>intent truth randonauting fun hell ella exclai...</td>\n",
       "      <td>intent truth randonaut fun hell ella exclaim w...</td>\n",
       "      <td>intent truth randonaut fun hell ella exclaim w...</td>\n",
       "    </tr>\n",
       "    <tr>\n",
       "      <th>4</th>\n",
       "      <td>1</td>\n",
       "      <td>Accused in the Woods I have had the privilege ...</td>\n",
       "      <td>['accused', 'woods', 'privilege', 'living', 'a...</td>\n",
       "      <td>accused wood privilege living america country ...</td>\n",
       "      <td>accus wood privileg live america countri one f...</td>\n",
       "      <td>accus wood privileg live america countri one f...</td>\n",
       "    </tr>\n",
       "  </tbody>\n",
       "</table>\n",
       "</div>"
      ],
      "text/plain": [
       "   subreddit                                               text  \\\n",
       "0          1  I created a new plant. It's gonna hurt a lot o...   \n",
       "1          1  The people I kill won't stay dead. I'm not wri...   \n",
       "2          1  Don't got to the Magic Show at the Gypsy Carni...   \n",
       "3          1  \"Intent: The Truth\" - Randonauting is not that...   \n",
       "4          1  Accused in the Woods I have had the privilege ...   \n",
       "\n",
       "                                     text_stoptokens  \\\n",
       "0  ['created', 'new', 'plant', 'gonna', 'hurt', '...   \n",
       "1  ['people', 'kill', 'stay', 'dead', 'writing', ...   \n",
       "2  ['got', 'magic', 'show', 'gypsy', 'carnival', ...   \n",
       "3  ['intent', 'truth', 'randonauting', 'fun', 'he...   \n",
       "4  ['accused', 'woods', 'privilege', 'living', 'a...   \n",
       "\n",
       "                                            text_lem  \\\n",
       "0  created new plant gonna hurt lot people create...   \n",
       "1  people kill stay dead writing sort confession ...   \n",
       "2  got magic show gypsy carnival final part 1 l p...   \n",
       "3  intent truth randonauting fun hell ella exclai...   \n",
       "4  accused wood privilege living america country ...   \n",
       "\n",
       "                                           text_stem  \\\n",
       "0  creat new plant gonna hurt lot peopl creat new...   \n",
       "1  peopl kill stay dead write sort confess event ...   \n",
       "2  got magic show gypsi carniv final part 1 l par...   \n",
       "3  intent truth randonaut fun hell ella exclaim w...   \n",
       "4  accus wood privileg live america countri one f...   \n",
       "\n",
       "                                        text_stemlem  \n",
       "0  creat new plant gonna hurt lot peopl creat new...  \n",
       "1  peopl kill stay dead write sort confess event ...  \n",
       "2  got magic show gypsi carniv final part 1 l par...  \n",
       "3  intent truth randonaut fun hell ella exclaim w...  \n",
       "4  accus wood privileg live america countri one f...  "
      ]
     },
     "execution_count": 3,
     "metadata": {},
     "output_type": "execute_result"
    }
   ],
   "source": [
    "# Checking the first 5 rows \n",
    "df.head()"
   ]
  },
  {
   "cell_type": "code",
   "execution_count": 4,
   "id": "88cdc43a",
   "metadata": {},
   "outputs": [
    {
     "data": {
      "text/plain": [
       "(1450, 6)"
      ]
     },
     "execution_count": 4,
     "metadata": {},
     "output_type": "execute_result"
    }
   ],
   "source": [
    "# Checking the shape of dataframe\n",
    "df.shape"
   ]
  },
  {
   "cell_type": "markdown",
   "id": "94bdf87c",
   "metadata": {},
   "source": [
    "### Modelling\n",
    "\n",
    "For the modelling process, since we are attempting to train our model based solely on the text content of the subreddit post, the only feature (ie X variable) will be one of the above `text` columns. The four `text` columns are namely the `text` columns that have undergone text preprocessing of: None, Lemmentization, Stemming, or Lemmentization and Stemming.\n",
    "\n",
    "In the modelling process, we will be using one of the two transformers `CountVectorizer` or `TFIDVectorizer`, and one of the following estimators: `MultinomialNB`, `LogisticRegression`, `KNeighborsClassifier`."
   ]
  },
  {
   "cell_type": "markdown",
   "id": "1a616543",
   "metadata": {},
   "source": [
    "#### Set up the data for modelling\n",
    "\n",
    "For now, the target variable is the `subreddit` column, and the feature column chosen will be the `text_stemlem` column. The value of 1 for `subreddit` is for `nosleep` and the value of 0 is for `paranormal`."
   ]
  },
  {
   "cell_type": "code",
   "execution_count": 5,
   "id": "97cc5c48",
   "metadata": {},
   "outputs": [],
   "source": [
    "# determining the X and y variables\n",
    "X = df['text_stemlem']\n",
    "y = df['subreddit']"
   ]
  },
  {
   "cell_type": "code",
   "execution_count": 6,
   "id": "ce84d551",
   "metadata": {},
   "outputs": [],
   "source": [
    "# Split the data into the training and testing sets.\n",
    "X_train, X_test, y_train, y_test = train_test_split(X,\n",
    "                                                    y,\n",
    "                                                    test_size = 0.25,\n",
    "                                                    stratify = y,\n",
    "                                                    random_state = 42)"
   ]
  },
  {
   "cell_type": "code",
   "execution_count": 7,
   "id": "5aa3eb89",
   "metadata": {
    "scrolled": false
   },
   "outputs": [
    {
     "data": {
      "text/plain": [
       "0    0.568966\n",
       "1    0.431034\n",
       "Name: subreddit, dtype: float64"
      ]
     },
     "execution_count": 7,
     "metadata": {},
     "output_type": "execute_result"
    }
   ],
   "source": [
    "# baseline accuracy\n",
    "y.value_counts(normalize=True)"
   ]
  },
  {
   "cell_type": "markdown",
   "id": "5126dd21",
   "metadata": {},
   "source": [
    "At this point in time, let's do a quick check on the top occurring words for the X variable. We will be using `CountVectorizer` to do this."
   ]
  },
  {
   "cell_type": "code",
   "execution_count": 8,
   "id": "a70d5494",
   "metadata": {},
   "outputs": [],
   "source": [
    "# Instantiate a CountVectorizer.\n",
    "cvec = CountVectorizer()\n",
    "\n",
    "# Fit the vectorizer on our corpus.\n",
    "cvec.fit(X_train)\n",
    "\n",
    "# Transform the X variable, Z_train is used so that we do not have to redefine the train/test split again\n",
    "Z_train = cvec.transform(X_train)\n",
    "Z_test = cvec.transform(X_test)"
   ]
  },
  {
   "cell_type": "code",
   "execution_count": 9,
   "id": "1d3f77b9",
   "metadata": {},
   "outputs": [
    {
     "data": {
      "image/png": "[encoded data removed]",
      "text/plain": [
       "<Figure size 432x288 with 1 Axes>"
      ]
     },
     "metadata": {
      "needs_background": "light"
     },
     "output_type": "display_data"
    }
   ],
   "source": [
    "# Convert Z_train into a DataFrame.\n",
    "Z_train_df = pd.DataFrame(Z_train.todense(), \n",
    "                          columns=cvec.get_feature_names_out(Z_train))\n",
    "\n",
    "# plot top occuring words\n",
    "Z_train_df.sum().sort_values(ascending = False).head(10).plot(kind = 'barh');"
   ]
  },
  {
   "cell_type": "code",
   "execution_count": 10,
   "id": "46044349",
   "metadata": {},
   "outputs": [
    {
     "data": {
      "image/png": "[encoded data removed]",
      "text/plain": [
       "<Figure size 432x288 with 1 Axes>"
      ]
     },
     "metadata": {
      "needs_background": "light"
     },
     "output_type": "display_data"
    }
   ],
   "source": [
    "# Convert Z_test into a DataFrame.\n",
    "Z_test_df = pd.DataFrame(Z_test.todense(), \n",
    "                          columns=cvec.get_feature_names_out(Z_test))\n",
    "\n",
    "# plot top occuring words\n",
    "Z_test_df.sum().sort_values(ascending = False).head(10).plot(kind = 'barh');"
   ]
  },
  {
   "cell_type": "markdown",
   "id": "caf63f5e",
   "metadata": {},
   "source": [
    "### 1. Naive Bayes Model"
   ]
  },
  {
   "cell_type": "markdown",
   "id": "85b3e787",
   "metadata": {},
   "source": [
    "#### 1.1 Naive Bayes Model with CountVectorizer"
   ]
  },
  {
   "cell_type": "code",
   "execution_count": 11,
   "id": "1806b662",
   "metadata": {},
   "outputs": [],
   "source": [
    "# Instantiate a Pipeline with CountVectorizer (Transformer) and MultinomialNB (Estimator)\n",
    "pipe_nb_cvec = Pipeline([\n",
    "    ('cvec', CountVectorizer(stop_words='english')),\n",
    "    ('nb', MultinomialNB())\n",
    "])\n",
    "\n",
    "# Hyperparameters for the above pipeline\n",
    "pipe_nb_cvec_params = {\n",
    "    'cvec__max_features': [2_000, 3_000, 4_000],\n",
    "    'cvec__min_df': [1, 3, 5],\n",
    "    'cvec__max_df': [.7, .8, .9],\n",
    "    'cvec__ngram_range': [(1,1), (1,2)]    \n",
    "}"
   ]
  },
  {
   "cell_type": "code",
   "execution_count": 12,
   "id": "5cb00346",
   "metadata": {},
   "outputs": [],
   "source": [
    "# Instantiate GridSearchCV with pipeline of CountVectorizer (Transformer) and MultinomialNB (Estimator)\n",
    "gs_nb_cvec = GridSearchCV(pipe_nb_cvec, pipe_nb_cvec_params, cv = 5)"
   ]
  },
  {
   "cell_type": "code",
   "execution_count": 13,
   "id": "09a1c8eb",
   "metadata": {},
   "outputs": [
    {
     "name": "stdout",
     "output_type": "stream",
     "text": [
      "Wall time: 4min 11s\n"
     ]
    },
    {
     "data": {
      "text/plain": [
       "{'cvec__max_df': 0.7,\n",
       " 'cvec__max_features': 4000,\n",
       " 'cvec__min_df': 3,\n",
       " 'cvec__ngram_range': (1, 1)}"
      ]
     },
     "execution_count": 13,
     "metadata": {},
     "output_type": "execute_result"
    }
   ],
   "source": [
    "%%time\n",
    "# Fit GridSearch to training data.\n",
    "gs_nb_cvec.fit(X_train, y_train)\n",
    "\n",
    "# best parameters from the GridSearch\n",
    "gs_nb_cvec.best_params_"
   ]
  },
  {
   "cell_type": "code",
   "execution_count": 14,
   "id": "399d8d29",
   "metadata": {},
   "outputs": [
    {
     "name": "stdout",
     "output_type": "stream",
     "text": [
      "0.9457221711131555\n",
      "0.9449035812672176\n"
     ]
    }
   ],
   "source": [
    "# Score model on training set\n",
    "print(gs_nb_cvec.score(X_train, y_train))\n",
    "\n",
    "# Score model on testing set\n",
    "print(gs_nb_cvec.score(X_test, y_test))"
   ]
  },
  {
   "cell_type": "code",
   "execution_count": 15,
   "id": "07fa0633",
   "metadata": {},
   "outputs": [
    {
     "data": {
      "image/png": "[encoded data removed]",
      "text/plain": [
       "<Figure size 432x288 with 2 Axes>"
      ]
     },
     "metadata": {
      "needs_background": "light"
     },
     "output_type": "display_data"
    }
   ],
   "source": [
    "# Get predictions from model\n",
    "pred_nb_cvec = gs_nb_cvec.predict(X_test)\n",
    "\n",
    "# Save confusion matrix values of model\n",
    "tn, fp, fn, tp = confusion_matrix(y_test, pred_nb_cvec).ravel()\n",
    "\n",
    "# View confusion matrix\n",
    "ConfusionMatrixDisplay.from_predictions(y_test, pred_nb_cvec, cmap='Blues', values_format='d');"
   ]
  },
  {
   "cell_type": "code",
   "execution_count": 16,
   "id": "8e3655ad",
   "metadata": {},
   "outputs": [
    {
     "name": "stdout",
     "output_type": "stream",
     "text": [
      "Specificity:  0.961\n",
      "Sensitivity:  0.923\n"
     ]
    }
   ],
   "source": [
    "# Calculate the specificity\n",
    "spec_nb_cvec = round(tn / (tn + fp), 3)\n",
    "print('Specificity: ', spec_nb_cvec)\n",
    "\n",
    "# Calculate the specificity\n",
    "sens_nb_cvec = round(tp / (tp + fn), 3)\n",
    "print('Sensitivity: ', sens_nb_cvec)"
   ]
  },
  {
   "cell_type": "markdown",
   "id": "9ff5cb09",
   "metadata": {},
   "source": [
    "#### 1.2 Naive Bayes Model with TfidfVectorizer"
   ]
  },
  {
   "cell_type": "code",
   "execution_count": 17,
   "id": "a3505034",
   "metadata": {},
   "outputs": [],
   "source": [
    "# Instantiate a Pipeline with TfidfVectorizer (Transformer) and MultinomialNB (Estimator)\n",
    "pipe_nb_tvec = Pipeline([\n",
    "    ('tvec', TfidfVectorizer(stop_words='english')),\n",
    "    ('nb', MultinomialNB())\n",
    "])\n",
    "\n",
    "# Hyperparameters for the above pipeline\n",
    "pipe_nb_tvec_params = {\n",
    "    'tvec__max_features': [2_000, 3_000, 4_000],\n",
    "    'tvec__min_df': [1, 3, 5],\n",
    "    'tvec__max_df': [.7, .8, .9],\n",
    "    'tvec__ngram_range': [(1,1), (1,2)]    \n",
    "}"
   ]
  },
  {
   "cell_type": "code",
   "execution_count": 18,
   "id": "351dac81",
   "metadata": {},
   "outputs": [],
   "source": [
    "# Instantiate GridSearchCV with pipeline of TfidfVectorizer (Transformer) and MultinomialNB (Estimator)\n",
    "gs_nb_tvec = GridSearchCV(pipe_nb_tvec, pipe_nb_tvec_params, cv = 5)"
   ]
  },
  {
   "cell_type": "code",
   "execution_count": 19,
   "id": "c38a218b",
   "metadata": {},
   "outputs": [
    {
     "name": "stdout",
     "output_type": "stream",
     "text": [
      "Wall time: 4min 17s\n"
     ]
    },
    {
     "data": {
      "text/plain": [
       "{'tvec__max_df': 0.7,\n",
       " 'tvec__max_features': 4000,\n",
       " 'tvec__min_df': 5,\n",
       " 'tvec__ngram_range': (1, 1)}"
      ]
     },
     "execution_count": 19,
     "metadata": {},
     "output_type": "execute_result"
    }
   ],
   "source": [
    "%%time\n",
    "# Fit GridSearch to training data.\n",
    "gs_nb_tvec.fit(X_train, y_train)\n",
    "\n",
    "# best parameters from the GridSearch\n",
    "gs_nb_tvec.best_params_"
   ]
  },
  {
   "cell_type": "code",
   "execution_count": 20,
   "id": "857070e5",
   "metadata": {},
   "outputs": [
    {
     "name": "stdout",
     "output_type": "stream",
     "text": [
      "0.9512419503219871\n",
      "0.9393939393939394\n"
     ]
    }
   ],
   "source": [
    "# Score model on training set\n",
    "print(gs_nb_tvec.score(X_train, y_train))\n",
    "\n",
    "# Score model on testing set\n",
    "print(gs_nb_tvec.score(X_test, y_test))"
   ]
  },
  {
   "cell_type": "code",
   "execution_count": 21,
   "id": "7c97977e",
   "metadata": {},
   "outputs": [
    {
     "data": {
      "image/png": "[encoded data removed]",
      "text/plain": [
       "<Figure size 432x288 with 2 Axes>"
      ]
     },
     "metadata": {
      "needs_background": "light"
     },
     "output_type": "display_data"
    }
   ],
   "source": [
    "# Get predictions from model\n",
    "pred_nb_tvec = gs_nb_tvec.predict(X_test)\n",
    "\n",
    "# Save confusion matrix values of model\n",
    "tn, fp, fn, tp = confusion_matrix(y_test, pred_nb_tvec).ravel()\n",
    "\n",
    "# View confusion matrix\n",
    "ConfusionMatrixDisplay.from_predictions(y_test, pred_nb_tvec, cmap='Blues', values_format='d');"
   ]
  },
  {
   "cell_type": "code",
   "execution_count": 24,
   "id": "4f26aeb4",
   "metadata": {},
   "outputs": [
    {
     "name": "stdout",
     "output_type": "stream",
     "text": [
      "Specificity:  0.971\n",
      "Sensitivity:  0.897\n"
     ]
    }
   ],
   "source": [
    "# Calculate the specificity\n",
    "spec_nb_tvec = round(tn / (tn + fp), 3)\n",
    "print('Specificity: ', spec_nb_tvec)\n",
    "\n",
    "# Calculate the specificity\n",
    "sens_nb_tvec = round(tp / (tp + fn), 3)\n",
    "print('Sensitivity: ', sens_nb_tvec)"
   ]
  },
  {
   "cell_type": "markdown",
   "id": "96f1da17",
   "metadata": {},
   "source": [
    "### 2. Logistic Regression Model"
   ]
  },
  {
   "cell_type": "markdown",
   "id": "c6b71847",
   "metadata": {},
   "source": [
    "#### 2.1 Logistic Regression Model with CountVectorizer"
   ]
  },
  {
   "cell_type": "code",
   "execution_count": 22,
   "id": "b8886797",
   "metadata": {},
   "outputs": [],
   "source": [
    "# Instantiate a Pipeline with CountVectorizer (Transformer) and LogisticRegression (Estimator)\n",
    "pipe_logreg_cvec = Pipeline([\n",
    "    ('cvec', CountVectorizer(stop_words='english')),\n",
    "    ('logreg', LogisticRegression(solver='liblinear'))\n",
    "])\n",
    "\n",
    "# Hyperparameters for the above pipeline\n",
    "pipe_logreg_cvec_params = {\n",
    "    'cvec__max_features': [2_000, 3_000, 4_000],\n",
    "    'cvec__min_df': [1, 3, 5],\n",
    "    'cvec__max_df': [.7, .8, .9],\n",
    "    'cvec__ngram_range': [(1,1), (1,2)]    \n",
    "}"
   ]
  },
  {
   "cell_type": "code",
   "execution_count": 26,
   "id": "fd6c5f21",
   "metadata": {},
   "outputs": [],
   "source": [
    "# Instantiate GridSearchCV with pipeline of CountVectorizer (Transformer) and LogisticRegression (Estimator)\n",
    "gs_logreg_cvec = GridSearchCV(pipe_logreg_cvec, pipe_logreg_cvec_params, cv = 5)"
   ]
  },
  {
   "cell_type": "code",
   "execution_count": 27,
   "id": "b3382f62",
   "metadata": {},
   "outputs": [
    {
     "name": "stdout",
     "output_type": "stream",
     "text": [
      "Wall time: 4min 24s\n"
     ]
    },
    {
     "data": {
      "text/plain": [
       "{'cvec__max_df': 0.8,\n",
       " 'cvec__max_features': 3000,\n",
       " 'cvec__min_df': 1,\n",
       " 'cvec__ngram_range': (1, 1)}"
      ]
     },
     "execution_count": 27,
     "metadata": {},
     "output_type": "execute_result"
    }
   ],
   "source": [
    "%%time\n",
    "# Fit GridSearch to training data.\n",
    "gs_logreg_cvec.fit(X_train, y_train)\n",
    "\n",
    "# best parameters from the GridSearch\n",
    "gs_logreg_cvec.best_params_"
   ]
  },
  {
   "cell_type": "code",
   "execution_count": 28,
   "id": "5f1d9d55",
   "metadata": {},
   "outputs": [
    {
     "name": "stdout",
     "output_type": "stream",
     "text": [
      "0.9990800367985281\n",
      "0.9559228650137741\n"
     ]
    }
   ],
   "source": [
    "# Score model on training set\n",
    "print(gs_logreg_cvec.score(X_train, y_train))\n",
    "\n",
    "# Score model on testing set\n",
    "print(gs_logreg_cvec.score(X_test, y_test))"
   ]
  },
  {
   "cell_type": "code",
   "execution_count": 31,
   "id": "48624de4",
   "metadata": {},
   "outputs": [
    {
     "data": {
      "image/png": "[encoded data removed]",
      "text/plain": [
       "<Figure size 432x288 with 2 Axes>"
      ]
     },
     "metadata": {
      "needs_background": "light"
     },
     "output_type": "display_data"
    }
   ],
   "source": [
    "# Get predictions from model\n",
    "pred_logreg_cvec = gs_logreg_cvec.predict(X_test)\n",
    "\n",
    "# Save confusion matrix values of model\n",
    "tn, fp, fn, tp = confusion_matrix(y_test, pred_logreg_cvec).ravel()\n",
    "\n",
    "# View confusion matrix\n",
    "ConfusionMatrixDisplay.from_predictions(y_test, pred_logreg_cvec, cmap='Blues', values_format='d');"
   ]
  },
  {
   "cell_type": "code",
   "execution_count": 32,
   "id": "1fa11cb5",
   "metadata": {},
   "outputs": [
    {
     "name": "stdout",
     "output_type": "stream",
     "text": [
      "Specificity:  0.976\n",
      "Sensitivity:  0.929\n"
     ]
    }
   ],
   "source": [
    "# Calculate the specificity\n",
    "spec_logreg_cvec = round(tn / (tn + fp), 3)\n",
    "print('Specificity: ', spec_logreg_cvec)\n",
    "\n",
    "# Calculate the specificity\n",
    "sens_logreg_cvec = round(tp / (tp + fn), 3)\n",
    "print('Sensitivity: ', sens_logreg_cvec)"
   ]
  },
  {
   "cell_type": "markdown",
   "id": "a942cf87",
   "metadata": {},
   "source": [
    "#### 2.2 Logistic Regression Model with TfidfVectorizer"
   ]
  },
  {
   "cell_type": "code",
   "execution_count": 33,
   "id": "546ca74e",
   "metadata": {},
   "outputs": [],
   "source": [
    "# Instantiate a Pipeline with TfidfVectorizer (Transformer) and LogisticRegression (Estimator)\n",
    "pipe_logreg_tvec = Pipeline([\n",
    "    ('tvec', TfidfVectorizer(stop_words='english')),\n",
    "    ('logreg', LogisticRegression(solver='liblinear'))\n",
    "])\n",
    "\n",
    "# Hyperparameters for the above pipeline\n",
    "pipe_logreg_tvec_params = {\n",
    "    'tvec__max_features': [2_000, 3_000, 4_000],\n",
    "    'tvec__min_df': [1, 3, 5],\n",
    "    'tvec__max_df': [.7, .8, .9],\n",
    "    'tvec__ngram_range': [(1,1), (1,2)]    \n",
    "}"
   ]
  },
  {
   "cell_type": "code",
   "execution_count": 34,
   "id": "fd8b1672",
   "metadata": {},
   "outputs": [],
   "source": [
    "# Instantiate GridSearchCV with pipeline of TfidfVectorizer (Transformer) and LogisticRegression (Estimator)\n",
    "gs_logreg_tvec = GridSearchCV(pipe_logreg_tvec, pipe_logreg_tvec_params, cv = 5)"
   ]
  },
  {
   "cell_type": "code",
   "execution_count": 35,
   "id": "32be681c",
   "metadata": {},
   "outputs": [
    {
     "name": "stdout",
     "output_type": "stream",
     "text": [
      "Wall time: 4min 22s\n"
     ]
    },
    {
     "data": {
      "text/plain": [
       "{'tvec__max_df': 0.7,\n",
       " 'tvec__max_features': 2000,\n",
       " 'tvec__min_df': 1,\n",
       " 'tvec__ngram_range': (1, 2)}"
      ]
     },
     "execution_count": 35,
     "metadata": {},
     "output_type": "execute_result"
    }
   ],
   "source": [
    "%%time\n",
    "# Fit GridSearch to training data.\n",
    "gs_logreg_tvec.fit(X_train, y_train)\n",
    "\n",
    "# best parameters from the GridSearch\n",
    "gs_logreg_tvec.best_params_"
   ]
  },
  {
   "cell_type": "code",
   "execution_count": 36,
   "id": "5ab5069c",
   "metadata": {
    "scrolled": true
   },
   "outputs": [
    {
     "name": "stdout",
     "output_type": "stream",
     "text": [
      "0.968721251149954\n",
      "0.953168044077135\n"
     ]
    }
   ],
   "source": [
    "# Score model on training set\n",
    "print(gs_logreg_tvec.score(X_train, y_train))\n",
    "\n",
    "# Score model on testing set\n",
    "print(gs_logreg_tvec.score(X_test, y_test))"
   ]
  },
  {
   "cell_type": "code",
   "execution_count": 37,
   "id": "fcbd324a",
   "metadata": {},
   "outputs": [
    {
     "data": {
      "image/png": "[encoded data removed]",
      "text/plain": [
       "<Figure size 432x288 with 2 Axes>"
      ]
     },
     "metadata": {
      "needs_background": "light"
     },
     "output_type": "display_data"
    }
   ],
   "source": [
    "# Get predictions from model\n",
    "pred_logreg_tvec = gs_logreg_tvec.predict(X_test)\n",
    "\n",
    "# Save confusion matrix values of model\n",
    "tn, fp, fn, tp = confusion_matrix(y_test, pred_logreg_tvec).ravel()\n",
    "\n",
    "# View confusion matrix\n",
    "ConfusionMatrixDisplay.from_predictions(y_test, pred_logreg_tvec, cmap='Blues', values_format='d');"
   ]
  },
  {
   "cell_type": "code",
   "execution_count": 38,
   "id": "ab0d9cb4",
   "metadata": {},
   "outputs": [
    {
     "name": "stdout",
     "output_type": "stream",
     "text": [
      "Specificity:  0.976\n",
      "Sensitivity:  0.923\n"
     ]
    }
   ],
   "source": [
    "# Calculate the specificity\n",
    "spec_logreg_tvec = round(tn / (tn + fp), 3)\n",
    "print('Specificity: ', spec_logreg_tvec)\n",
    "\n",
    "# Calculate the specificity\n",
    "sens_logreg_tvec = round(tp / (tp + fn), 3)\n",
    "print('Sensitivity: ', sens_logreg_tvec)"
   ]
  },
  {
   "cell_type": "markdown",
   "id": "f56574be",
   "metadata": {},
   "source": [
    "### 3. K Nearest Neighbors Model"
   ]
  },
  {
   "cell_type": "markdown",
   "id": "8dab9c5c",
   "metadata": {},
   "source": [
    "#### 3.1 K Nearest Neighbors Model with CountVectorizer"
   ]
  },
  {
   "cell_type": "code",
   "execution_count": 40,
   "id": "2a8771bc",
   "metadata": {},
   "outputs": [],
   "source": [
    "# Instantiate a Pipeline with CountVectorizer (Transformer) and KNeighborsClassifier (Estimator)\n",
    "pipe_knn_cvec = Pipeline([\n",
    "    ('cvec', CountVectorizer(stop_words='english')),\n",
    "    ('knn', KNeighborsClassifier())\n",
    "])\n",
    "\n",
    "# Hyperparameters for the above pipeline\n",
    "pipe_knn_cvec_params = {\n",
    "    'cvec__max_features': [2_000, 3_000, 4_000],\n",
    "    'cvec__min_df': [1, 3, 5],\n",
    "    'cvec__max_df': [.7, .8, .9],\n",
    "    'cvec__ngram_range': [(1,1), (1,2)]    \n",
    "}"
   ]
  },
  {
   "cell_type": "code",
   "execution_count": 41,
   "id": "31ca15da",
   "metadata": {},
   "outputs": [],
   "source": [
    "# Instantiate GridSearchCV with pipeline of CountVectorizer (Transformer) and KNeighborsClassifier (Estimator)\n",
    "gs_knn_cvec = GridSearchCV(pipe_knn_cvec, pipe_knn_cvec_params, cv = 5)"
   ]
  },
  {
   "cell_type": "code",
   "execution_count": 42,
   "id": "7f8f9571",
   "metadata": {},
   "outputs": [
    {
     "name": "stdout",
     "output_type": "stream",
     "text": [
      "Wall time: 4min 21s\n"
     ]
    },
    {
     "data": {
      "text/plain": [
       "{'cvec__max_df': 0.8,\n",
       " 'cvec__max_features': 2000,\n",
       " 'cvec__min_df': 5,\n",
       " 'cvec__ngram_range': (1, 2)}"
      ]
     },
     "execution_count": 42,
     "metadata": {},
     "output_type": "execute_result"
    }
   ],
   "source": [
    "%%time\n",
    "# Fit GridSearch to training data.\n",
    "gs_knn_cvec.fit(X_train, y_train)\n",
    "\n",
    "# best parameters from the GridSearch\n",
    "gs_knn_cvec.best_params_"
   ]
  },
  {
   "cell_type": "code",
   "execution_count": 43,
   "id": "bbcf3184",
   "metadata": {},
   "outputs": [
    {
     "name": "stdout",
     "output_type": "stream",
     "text": [
      "0.7948482060717571\n",
      "0.790633608815427\n"
     ]
    }
   ],
   "source": [
    "# Score model on training set\n",
    "print(gs_knn_cvec.score(X_train, y_train))\n",
    "\n",
    "# Score model on testing set\n",
    "print(gs_knn_cvec.score(X_test, y_test))"
   ]
  },
  {
   "cell_type": "code",
   "execution_count": 44,
   "id": "7fa5aaeb",
   "metadata": {},
   "outputs": [
    {
     "data": {
      "image/png": "[encoded data removed]",
      "text/plain": [
       "<Figure size 432x288 with 2 Axes>"
      ]
     },
     "metadata": {
      "needs_background": "light"
     },
     "output_type": "display_data"
    }
   ],
   "source": [
    "# Get predictions from model\n",
    "pred_knn_cvec = gs_knn_cvec.predict(X_test)\n",
    "\n",
    "# Save confusion matrix values of model\n",
    "tn, fp, fn, tp = confusion_matrix(y_test, pred_knn_cvec).ravel()\n",
    "\n",
    "# View confusion matrix\n",
    "ConfusionMatrixDisplay.from_predictions(y_test, pred_knn_cvec, cmap='Blues', values_format='d');"
   ]
  },
  {
   "cell_type": "code",
   "execution_count": 46,
   "id": "7df5ba84",
   "metadata": {},
   "outputs": [
    {
     "name": "stdout",
     "output_type": "stream",
     "text": [
      "Specificity:  1.0\n",
      "Sensitivity:  0.513\n"
     ]
    }
   ],
   "source": [
    "# Calculate the specificity\n",
    "spec_knn_cvec = round(tn / (tn + fp), 3)\n",
    "print('Specificity: ', spec_knn_cvec)\n",
    "\n",
    "# Calculate the specificity\n",
    "sens_knn_cvec = round(tp / (tp + fn), 3)\n",
    "print('Sensitivity: ', sens_knn_cvec)"
   ]
  },
  {
   "cell_type": "markdown",
   "id": "977b5b20",
   "metadata": {},
   "source": [
    "#### 3.2 KNeighborsClassifier Model with TfidfVectorizer"
   ]
  },
  {
   "cell_type": "code",
   "execution_count": 50,
   "id": "4f55b70a",
   "metadata": {},
   "outputs": [],
   "source": [
    "# Instantiate a Pipeline with TfidfVectorizer (Transformer) and KNeighborsClassifier (Estimator)\n",
    "pipe_knn_tvec = Pipeline([\n",
    "    ('tvec', TfidfVectorizer(stop_words='english')),\n",
    "    ('knn', KNeighborsClassifier())\n",
    "])\n",
    "\n",
    "# Hyperparameters for the above pipeline\n",
    "pipe_knn_tvec_params = {\n",
    "    'tvec__max_features': [2_000, 3_000, 4_000],\n",
    "    'tvec__min_df': [1, 3, 5],\n",
    "    'tvec__max_df': [.7, .8, .9],\n",
    "    'tvec__ngram_range': [(1,1), (1,2)]    \n",
    "}"
   ]
  },
  {
   "cell_type": "code",
   "execution_count": 51,
   "id": "293ea7a4",
   "metadata": {},
   "outputs": [],
   "source": [
    "# Instantiate GridSearchCV with pipeline of TfidfVectorizer (Transformer) and KNeighborsClassifier (Estimator)\n",
    "gs_knn_tvec = GridSearchCV(pipe_knn_tvec, pipe_knn_tvec_params, cv = 5)"
   ]
  },
  {
   "cell_type": "code",
   "execution_count": 52,
   "id": "06ff4723",
   "metadata": {},
   "outputs": [
    {
     "name": "stdout",
     "output_type": "stream",
     "text": [
      "Wall time: 4min 24s\n"
     ]
    },
    {
     "data": {
      "text/plain": [
       "{'tvec__max_df': 0.8,\n",
       " 'tvec__max_features': 4000,\n",
       " 'tvec__min_df': 1,\n",
       " 'tvec__ngram_range': (1, 1)}"
      ]
     },
     "execution_count": 52,
     "metadata": {},
     "output_type": "execute_result"
    }
   ],
   "source": [
    "%%time\n",
    "# Fit GridSearch to training data.\n",
    "gs_knn_tvec.fit(X_train, y_train)\n",
    "\n",
    "# best parameters from the GridSearch\n",
    "gs_knn_tvec.best_params_"
   ]
  },
  {
   "cell_type": "code",
   "execution_count": 53,
   "id": "4f9ee9b1",
   "metadata": {
    "scrolled": true
   },
   "outputs": [
    {
     "name": "stdout",
     "output_type": "stream",
     "text": [
      "0.968721251149954\n",
      "0.953168044077135\n"
     ]
    }
   ],
   "source": [
    "# Score model on training set\n",
    "print(gs_knn_tvec.score(X_train, y_train))\n",
    "\n",
    "# Score model on testing set\n",
    "print(gs_knn_tvec.score(X_test, y_test))"
   ]
  },
  {
   "cell_type": "code",
   "execution_count": 54,
   "id": "a16b8c68",
   "metadata": {},
   "outputs": [
    {
     "data": {
      "image/png": "[encoded data removed]",
      "text/plain": [
       "<Figure size 432x288 with 2 Axes>"
      ]
     },
     "metadata": {
      "needs_background": "light"
     },
     "output_type": "display_data"
    }
   ],
   "source": [
    "# Get predictions from model\n",
    "pred_knn_tvec = gs_knn_tvec.predict(X_test)\n",
    "\n",
    "# Save confusion matrix values of model\n",
    "tn, fp, fn, tp = confusion_matrix(y_test, pred_knn_tvec).ravel()\n",
    "\n",
    "# View confusion matrix\n",
    "ConfusionMatrixDisplay.from_predictions(y_test, pred_knn_tvec, cmap='Blues', values_format='d');"
   ]
  },
  {
   "cell_type": "code",
   "execution_count": 55,
   "id": "0ad74c9d",
   "metadata": {},
   "outputs": [
    {
     "name": "stdout",
     "output_type": "stream",
     "text": [
      "Specificity:  0.865\n",
      "Sensitivity:  0.865\n"
     ]
    }
   ],
   "source": [
    "# Calculate the specificity\n",
    "spec_knn_tvec = round(tn / (tn + fp), 3)\n",
    "print('Specificity: ', spec_knn_tvec)\n",
    "\n",
    "# Calculate the specificity\n",
    "sens_knn_tvec = round(tp / (tp + fn), 3)\n",
    "print('Sensitivity: ', sens_knn_tvec)"
   ]
  }
 ],
 "metadata": {
  "kernelspec": {
   "display_name": "Python 3 (ipykernel)",
   "language": "python",
   "name": "python3"
  },
  "language_info": {
   "codemirror_mode": {
    "name": "ipython",
    "version": 3
   },
   "file_extension": ".py",
   "mimetype": "text/x-python",
   "name": "python",
   "nbconvert_exporter": "python",
   "pygments_lexer": "ipython3",
   "version": "3.8.12"
  }
 },
 "nbformat": 4,
 "nbformat_minor": 5
}
