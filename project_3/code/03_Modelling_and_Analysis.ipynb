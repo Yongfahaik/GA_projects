{
 "cells": [
  {
   "cell_type": "markdown",
   "id": "462f48e0",
   "metadata": {},
   "source": [
    "<div>\n",
    "<img src=\"http://imgur.com/1ZcRyrc.png\" style=\"float: left; margin: 20px; height: 55px\" width=100>\n",
    "</div>\n",
    "\n",
    "# Project 3: Web APIs & NLP"
   ]
  },
  {
   "cell_type": "markdown",
   "id": "734c5f4a",
   "metadata": {},
   "source": [
    "## Background\n",
    "\n",
    "[Reddit](https:www.reddit.com) is a network of communities where people can dive into their interests, hobbies and passions. Subreddits are user-created channels where discussion on the topic of interest, hobby or passion are organized. From [Metrics For Reddit](https://frontpagemetrics.com/history), there are over 3.2 million subreddits as of December 2021, with hundreds of subreddits being created every day. \n",
    "\n",
    "1. Using [Pushshift's](https://github.com/pushshift/api) API, posts are collected from the two subreddits of [nosleep](https://www.reddit.com/r/nosleep/) and [paranormal](https://www.reddit.com/r/paranormal/).\n",
    "2. NLP is then utilized in order to train a classifier on which subreddit a given post came from."
   ]
  },
  {
   "cell_type": "markdown",
   "id": "714a6a4c",
   "metadata": {},
   "source": [
    "## Problem Statement\n",
    "\n",
    "As there are many different subreddits on Reddit, and since interests, hobbies and passions can be similar, there are always various subreddits that are similar to each other. Without a doubt, anyone who is new to writing and posting to Reddit can be confused as to which subreddit to post to. In this project, the aim is to assist the new Reddit user in the decision of which subreddit to make the post in.\n",
    "\n",
    "For the context of this project, the post is in the form of a scary experience, and the choices of the two of the subreddits are [nosleep](https://www.reddit.com/r/nosleep/) and [paranormal](https://www.reddit.com/r/paranormal/), two subreddits that cater to scary personal experiences and paranormal experiences, thoughts and theories."
   ]
  },
  {
   "cell_type": "markdown",
   "id": "043e4dc0",
   "metadata": {},
   "source": [
    "## Progress so far\n",
    "\n",
    "Using the [Pushshift's](https://github.com/pushshift/api) API, posts are collected from the two subreddits of [nosleep](https://www.reddit.com/r/nosleep/) and [paranormal](https://www.reddit.com/r/paranormal/), and then compiled into CSVs.\n",
    "\n",
    "`At this point in time, `"
   ]
  },
  {
   "cell_type": "markdown",
   "id": "826d3b1e",
   "metadata": {},
   "source": [
    "## Part 3: Modelling and Analysis"
   ]
  },
  {
   "cell_type": "markdown",
   "id": "c51b2a57",
   "metadata": {},
   "source": [
    "### Imports (All imported libraries are added here)"
   ]
  },
  {
   "cell_type": "code",
   "execution_count": 1,
   "id": "3562f958",
   "metadata": {},
   "outputs": [],
   "source": [
    "import pandas as pd\n",
    "import matplotlib.pyplot as plt\n",
    "\n",
    "from sklearn.feature_extraction.text import CountVectorizer, TfidfVectorizer\n",
    "from sklearn.metrics import confusion_matrix, ConfusionMatrixDisplay\n",
    "from sklearn.model_selection import train_test_split, GridSearchCV\n",
    "from sklearn.pipeline import Pipeline\n",
    "from sklearn.naive_bayes import MultinomialNB\n",
    "from sklearn.linear_model import LogisticRegression\n",
    "from sklearn.neighbors import KNeighborsClassifier"
   ]
  },
  {
   "cell_type": "markdown",
   "id": "c0ac62a3",
   "metadata": {},
   "source": [
    "### Importing the Dataset"
   ]
  },
  {
   "cell_type": "code",
   "execution_count": 2,
   "id": "35a35498",
   "metadata": {},
   "outputs": [],
   "source": [
    "# Importing the preprocessed dataset\n",
    "df = pd.read_csv('../datasets/data_model.csv')"
   ]
  },
  {
   "cell_type": "code",
   "execution_count": 3,
   "id": "77f85f9d",
   "metadata": {},
   "outputs": [
    {
     "data": {
      "text/html": [
       "<div>\n",
       "<style scoped>\n",
       "    .dataframe tbody tr th:only-of-type {\n",
       "        vertical-align: middle;\n",
       "    }\n",
       "\n",
       "    .dataframe tbody tr th {\n",
       "        vertical-align: top;\n",
       "    }\n",
       "\n",
       "    .dataframe thead th {\n",
       "        text-align: right;\n",
       "    }\n",
       "</style>\n",
       "<table border=\"1\" class=\"dataframe\">\n",
       "  <thead>\n",
       "    <tr style=\"text-align: right;\">\n",
       "      <th></th>\n",
       "      <th>subreddit</th>\n",
       "      <th>text</th>\n",
       "      <th>text_stoptokens</th>\n",
       "      <th>text_lem</th>\n",
       "      <th>text_stem</th>\n",
       "      <th>text_stemlem</th>\n",
       "    </tr>\n",
       "  </thead>\n",
       "  <tbody>\n",
       "    <tr>\n",
       "      <th>0</th>\n",
       "      <td>1</td>\n",
       "      <td>I created a new plant. It's gonna hurt a lot o...</td>\n",
       "      <td>['created', 'new', 'plant', 'gonna', 'hurt', '...</td>\n",
       "      <td>created new plant gonna hurt lot people create...</td>\n",
       "      <td>creat new plant gonna hurt lot peopl creat new...</td>\n",
       "      <td>creat new plant gonna hurt lot peopl creat new...</td>\n",
       "    </tr>\n",
       "    <tr>\n",
       "      <th>1</th>\n",
       "      <td>1</td>\n",
       "      <td>The people I kill won't stay dead. I'm not wri...</td>\n",
       "      <td>['people', 'kill', 'stay', 'dead', 'writing', ...</td>\n",
       "      <td>people kill stay dead writing sort confession ...</td>\n",
       "      <td>peopl kill stay dead write sort confess event ...</td>\n",
       "      <td>peopl kill stay dead write sort confess event ...</td>\n",
       "    </tr>\n",
       "    <tr>\n",
       "      <th>2</th>\n",
       "      <td>1</td>\n",
       "      <td>Don't got to the Magic Show at the Gypsy Carni...</td>\n",
       "      <td>['got', 'magic', 'show', 'gypsy', 'carnival', ...</td>\n",
       "      <td>got magic show gypsy carnival final part 1 l p...</td>\n",
       "      <td>got magic show gypsi carniv final part 1 l par...</td>\n",
       "      <td>got magic show gypsi carniv final part 1 l par...</td>\n",
       "    </tr>\n",
       "    <tr>\n",
       "      <th>3</th>\n",
       "      <td>1</td>\n",
       "      <td>\"Intent: The Truth\" - Randonauting is not that...</td>\n",
       "      <td>['intent', 'truth', 'randonauting', 'fun', 'he...</td>\n",
       "      <td>intent truth randonauting fun hell ella exclai...</td>\n",
       "      <td>intent truth randonaut fun hell ella exclaim w...</td>\n",
       "      <td>intent truth randonaut fun hell ella exclaim w...</td>\n",
       "    </tr>\n",
       "    <tr>\n",
       "      <th>4</th>\n",
       "      <td>1</td>\n",
       "      <td>Accused in the Woods I have had the privilege ...</td>\n",
       "      <td>['accused', 'woods', 'privilege', 'living', 'a...</td>\n",
       "      <td>accused wood privilege living america country ...</td>\n",
       "      <td>accus wood privileg live america countri one f...</td>\n",
       "      <td>accus wood privileg live america countri one f...</td>\n",
       "    </tr>\n",
       "  </tbody>\n",
       "</table>\n",
       "</div>"
      ],
      "text/plain": [
       "   subreddit                                               text  \\\n",
       "0          1  I created a new plant. It's gonna hurt a lot o...   \n",
       "1          1  The people I kill won't stay dead. I'm not wri...   \n",
       "2          1  Don't got to the Magic Show at the Gypsy Carni...   \n",
       "3          1  \"Intent: The Truth\" - Randonauting is not that...   \n",
       "4          1  Accused in the Woods I have had the privilege ...   \n",
       "\n",
       "                                     text_stoptokens  \\\n",
       "0  ['created', 'new', 'plant', 'gonna', 'hurt', '...   \n",
       "1  ['people', 'kill', 'stay', 'dead', 'writing', ...   \n",
       "2  ['got', 'magic', 'show', 'gypsy', 'carnival', ...   \n",
       "3  ['intent', 'truth', 'randonauting', 'fun', 'he...   \n",
       "4  ['accused', 'woods', 'privilege', 'living', 'a...   \n",
       "\n",
       "                                            text_lem  \\\n",
       "0  created new plant gonna hurt lot people create...   \n",
       "1  people kill stay dead writing sort confession ...   \n",
       "2  got magic show gypsy carnival final part 1 l p...   \n",
       "3  intent truth randonauting fun hell ella exclai...   \n",
       "4  accused wood privilege living america country ...   \n",
       "\n",
       "                                           text_stem  \\\n",
       "0  creat new plant gonna hurt lot peopl creat new...   \n",
       "1  peopl kill stay dead write sort confess event ...   \n",
       "2  got magic show gypsi carniv final part 1 l par...   \n",
       "3  intent truth randonaut fun hell ella exclaim w...   \n",
       "4  accus wood privileg live america countri one f...   \n",
       "\n",
       "                                        text_stemlem  \n",
       "0  creat new plant gonna hurt lot peopl creat new...  \n",
       "1  peopl kill stay dead write sort confess event ...  \n",
       "2  got magic show gypsi carniv final part 1 l par...  \n",
       "3  intent truth randonaut fun hell ella exclaim w...  \n",
       "4  accus wood privileg live america countri one f...  "
      ]
     },
     "execution_count": 3,
     "metadata": {},
     "output_type": "execute_result"
    }
   ],
   "source": [
    "# Checking the first 5 rows \n",
    "df.head()"
   ]
  },
  {
   "cell_type": "code",
   "execution_count": 4,
   "id": "88cdc43a",
   "metadata": {},
   "outputs": [
    {
     "data": {
      "text/plain": [
       "(1450, 6)"
      ]
     },
     "execution_count": 4,
     "metadata": {},
     "output_type": "execute_result"
    }
   ],
   "source": [
    "# Checking the shape of dataframe\n",
    "df.shape"
   ]
  },
  {
   "cell_type": "markdown",
   "id": "7ce1725b",
   "metadata": {},
   "source": [
    "### Top Word Features\n",
    "\n",
    "At this point in time, let's do a quick check on the top occurring words for the two datasets. We will be using `CountVectorizer` to do this."
   ]
  },
  {
   "cell_type": "code",
   "execution_count": 5,
   "id": "d91428f6",
   "metadata": {},
   "outputs": [],
   "source": [
    "# Instantiate a CountVectorizer with stop words\n",
    "cvec_nosleep = CountVectorizer(stop_words='english')\n",
    "\n",
    "# Fit the vectorizer on our corpus.\n",
    "cvec_nosleep.fit(df[df['subreddit'] == 1]['text_stemlem'])\n",
    "\n",
    "# Transform \n",
    "Z_nosleep = cvec_nosleep.transform(df[df['subreddit'] == 1]['text_stemlem'])"
   ]
  },
  {
   "cell_type": "code",
   "execution_count": 6,
   "id": "75a51d56",
   "metadata": {},
   "outputs": [
    {
     "data": {
      "text/plain": [
       "(625, 17298)"
      ]
     },
     "metadata": {},
     "output_type": "display_data"
    },
    {
     "data": {
      "image/png": "[encoded data removed]",
      "text/plain": [
       "<Figure size 432x288 with 1 Axes>"
      ]
     },
     "metadata": {
      "needs_background": "light"
     },
     "output_type": "display_data"
    }
   ],
   "source": [
    "# Convert Z_nosleep into a DataFrame.\n",
    "Z_nosleep_df = pd.DataFrame(Z_nosleep.todense(), \n",
    "                            columns=cvec_nosleep.get_feature_names_out())\n",
    "\n",
    "# display shape of Z_nosleep_df\n",
    "display(Z_nosleep_df.shape)\n",
    "\n",
    "# plot top occuring words\n",
    "Z_nosleep_df.sum().sort_values(ascending = False).head(20).plot(kind = 'barh');"
   ]
  },
  {
   "cell_type": "code",
   "execution_count": 7,
   "id": "e1e417ed",
   "metadata": {},
   "outputs": [],
   "source": [
    "# Instantiate a CountVectorizer with stop words\n",
    "cvec_paranormal = CountVectorizer(stop_words='english')\n",
    "\n",
    "# Fit the vectorizer on our corpus.\n",
    "cvec_paranormal.fit(df[df['subreddit'] == 0]['text_stemlem'])\n",
    "\n",
    "# Transform \n",
    "Z_paranormal = cvec_paranormal.transform(df[df['subreddit'] == 0]['text_stemlem'])"
   ]
  },
  {
   "cell_type": "code",
   "execution_count": 8,
   "id": "09cedbc1",
   "metadata": {},
   "outputs": [
    {
     "data": {
      "text/plain": [
       "(825, 6900)"
      ]
     },
     "metadata": {},
     "output_type": "display_data"
    },
    {
     "data": {
      "image/png": "[encoded data removed]",
      "text/plain": [
       "<Figure size 432x288 with 1 Axes>"
      ]
     },
     "metadata": {
      "needs_background": "light"
     },
     "output_type": "display_data"
    }
   ],
   "source": [
    "# Convert Z_paranormal into a DataFrame.\n",
    "Z_paranormal_df = pd.DataFrame(Z_paranormal.todense(), \n",
    "                              columns=cvec_paranormal.get_feature_names_out())\n",
    "\n",
    "# display shape of Z_nosleep_df\n",
    "display(Z_paranormal_df.shape)\n",
    "\n",
    "# plot top occuring words\n",
    "Z_paranormal_df.sum().sort_values(ascending = False).head(20).plot(kind = 'barh');"
   ]
  },
  {
   "cell_type": "markdown",
   "id": "94bdf87c",
   "metadata": {},
   "source": [
    "### Modelling\n",
    "\n",
    "For the modelling process, since we are attempting to train our model based solely on the text content of the subreddit post, the only feature (ie X variable) will be one of the above `text` columns. The four `text` columns are namely the `text` columns that have undergone text preprocessing of: None, Lemmentization, Stemming, or Lemmentization and Stemming.\n",
    "\n",
    "In the modelling process, we will be using one of the two transformers `CountVectorizer` or `TFIDVectorizer`, and one of the following estimators: `MultinomialNB`, `LogisticRegression`, `KNeighborsClassifier`."
   ]
  },
  {
   "cell_type": "markdown",
   "id": "1a616543",
   "metadata": {},
   "source": [
    "#### Set up the data for modelling\n",
    "\n",
    "For now, the target variable is the `subreddit` column, and the feature column chosen will be the `text_stemlem` column. The value of 1 for `subreddit` is for `nosleep` and the value of 0 is for `paranormal`."
   ]
  },
  {
   "cell_type": "code",
   "execution_count": 9,
   "id": "97cc5c48",
   "metadata": {},
   "outputs": [
    {
     "data": {
      "text/plain": [
       "(1450,)"
      ]
     },
     "metadata": {},
     "output_type": "display_data"
    },
    {
     "data": {
      "text/plain": [
       "(1450,)"
      ]
     },
     "metadata": {},
     "output_type": "display_data"
    }
   ],
   "source": [
    "# determining the X and y variables\n",
    "X = df['text_stemlem']\n",
    "y = df['subreddit']\n",
    "\n",
    "# shape of X and y variables\n",
    "display(X.shape)\n",
    "display(y.shape)"
   ]
  },
  {
   "cell_type": "code",
   "execution_count": 10,
   "id": "ce84d551",
   "metadata": {},
   "outputs": [],
   "source": [
    "# Split the data into the training and testing sets.\n",
    "X_train, X_test, y_train, y_test = train_test_split(X,\n",
    "                                                    y,\n",
    "                                                    test_size = 0.25,\n",
    "                                                    stratify = y,\n",
    "                                                    random_state = 42)"
   ]
  },
  {
   "cell_type": "code",
   "execution_count": 11,
   "id": "5aa3eb89",
   "metadata": {
    "scrolled": true
   },
   "outputs": [
    {
     "name": "stdout",
     "output_type": "stream",
     "text": [
      "0    0.568537\n",
      "1    0.431463\n",
      "Name: subreddit, dtype: float64\n",
      "0    0.570248\n",
      "1    0.429752\n",
      "Name: subreddit, dtype: float64\n"
     ]
    }
   ],
   "source": [
    "# baseline accuracy\n",
    "print(y_train.value_counts(normalize=True))\n",
    "print(y_test.value_counts(normalize=True))"
   ]
  },
  {
   "cell_type": "markdown",
   "id": "0904b669",
   "metadata": {},
   "source": [
    "|Model|Transformer|Train Score|Test Score| TN | FP | FN | TP | Specificity | Sensitivity | \n",
    "|:--:|:--:|:--:|:--:|:--:|:--:|:--:|:--:|:--:|:--:|\n",
    "|**Baseline**|**None**| 0.431463 | 0.429752 | -- | -- | -- | -- | -- | -- |\n",
    "\n",
    "Taking the baseline model through the act of just declaring that every post is from the targetted subreddit, we have the above scores. This is just to act as a baseline to compare the results of the modelling."
   ]
  },
  {
   "cell_type": "markdown",
   "id": "caf63f5e",
   "metadata": {},
   "source": [
    "### 1. Naive Bayes Model"
   ]
  },
  {
   "cell_type": "markdown",
   "id": "85b3e787",
   "metadata": {},
   "source": [
    "#### 1.1 Naive Bayes Model with CountVectorizer"
   ]
  },
  {
   "cell_type": "code",
   "execution_count": 12,
   "id": "1806b662",
   "metadata": {},
   "outputs": [],
   "source": [
    "# Instantiate a Pipeline with CountVectorizer (Transformer) and MultinomialNB (Estimator)\n",
    "pipe_nb_cvec = Pipeline([\n",
    "    ('cvec', CountVectorizer(stop_words='english')),\n",
    "    ('nb', MultinomialNB())\n",
    "])\n",
    "\n",
    "# Hyperparameters for the above pipeline\n",
    "pipe_nb_cvec_params = {\n",
    "    'cvec__max_features': [2_000, 3_000, 4_000],\n",
    "    'cvec__min_df': [1, 3, 5],\n",
    "    'cvec__max_df': [.7, .8, .9],\n",
    "    'cvec__ngram_range': [(1,1), (1,2)]    \n",
    "}"
   ]
  },
  {
   "cell_type": "code",
   "execution_count": 13,
   "id": "5cb00346",
   "metadata": {},
   "outputs": [],
   "source": [
    "# Instantiate GridSearchCV with pipeline of CountVectorizer (Transformer) and MultinomialNB (Estimator)\n",
    "gs_nb_cvec = GridSearchCV(pipe_nb_cvec, pipe_nb_cvec_params, cv = 5)"
   ]
  },
  {
   "cell_type": "code",
   "execution_count": 14,
   "id": "09a1c8eb",
   "metadata": {},
   "outputs": [
    {
     "name": "stdout",
     "output_type": "stream",
     "text": [
      "Wall time: 4min 16s\n"
     ]
    },
    {
     "data": {
      "text/plain": [
       "{'cvec__max_df': 0.7,\n",
       " 'cvec__max_features': 4000,\n",
       " 'cvec__min_df': 3,\n",
       " 'cvec__ngram_range': (1, 1)}"
      ]
     },
     "execution_count": 14,
     "metadata": {},
     "output_type": "execute_result"
    }
   ],
   "source": [
    "%%time\n",
    "# Fit GridSearch to training data.\n",
    "gs_nb_cvec.fit(X_train, y_train)\n",
    "\n",
    "# best parameters from the GridSearch\n",
    "gs_nb_cvec.best_params_"
   ]
  },
  {
   "cell_type": "code",
   "execution_count": 15,
   "id": "399d8d29",
   "metadata": {},
   "outputs": [
    {
     "name": "stdout",
     "output_type": "stream",
     "text": [
      "0.9457\n",
      "0.9449\n"
     ]
    }
   ],
   "source": [
    "# Score model on training set\n",
    "print(round(gs_nb_cvec.score(X_train, y_train), 4))\n",
    "\n",
    "# Score model on testing set\n",
    "print(round(gs_nb_cvec.score(X_test, y_test), 4))"
   ]
  },
  {
   "cell_type": "code",
   "execution_count": 16,
   "id": "07fa0633",
   "metadata": {},
   "outputs": [
    {
     "data": {
      "image/png": "[encoded data removed]",
      "text/plain": [
       "<Figure size 432x288 with 2 Axes>"
      ]
     },
     "metadata": {
      "needs_background": "light"
     },
     "output_type": "display_data"
    }
   ],
   "source": [
    "# Get predictions from model\n",
    "pred_nb_cvec = gs_nb_cvec.predict(X_test)\n",
    "\n",
    "# Save confusion matrix values of model\n",
    "tn, fp, fn, tp = confusion_matrix(y_test, pred_nb_cvec).ravel()\n",
    "\n",
    "# View confusion matrix\n",
    "ConfusionMatrixDisplay.from_predictions(y_test, pred_nb_cvec, cmap='Blues', values_format='d');"
   ]
  },
  {
   "cell_type": "code",
   "execution_count": 17,
   "id": "8e3655ad",
   "metadata": {
    "scrolled": true
   },
   "outputs": [
    {
     "name": "stdout",
     "output_type": "stream",
     "text": [
      "Specificity:  0.9614\n",
      "Sensitivity:  0.9231\n"
     ]
    }
   ],
   "source": [
    "# Calculate the specificity\n",
    "spec_nb_cvec = round(tn / (tn + fp), 4)\n",
    "print('Specificity: ', spec_nb_cvec)\n",
    "\n",
    "# Calculate the sensitivity\n",
    "sens_nb_cvec = round(tp / (tp + fn), 4)\n",
    "print('Sensitivity: ', sens_nb_cvec)"
   ]
  },
  {
   "cell_type": "markdown",
   "id": "5b7c0bac",
   "metadata": {},
   "source": [
    "|Model|Transformer|Train Score|Test Score| TN | FP | FN | TP | Specificity | Sensitivity | \n",
    "|:--:|:--:|:--:|:--:|:--:|:--:|:--:|:--:|:--:|:--:|\n",
    "|**Baseline**|**None**| 0.431463 | 0.429752 | -- | -- | -- | -- | -- | -- |\n",
    "|**Naive Bayes**|**CountVectorizer**| 0.9457 | 0.9449 | 199 | 8 | 12 | 144 | 0.9614 | 0.9231 |\n",
    "\n",
    "From the above, we can see that the Naive Bayes Model with CountVectorizer has improved a lot on the baseline. But as this is the first model, we cannot make any decisions on whether this model is the best or not. At this point, there is little to no overfitting of the model, so this is a good model for now."
   ]
  },
  {
   "cell_type": "markdown",
   "id": "9ff5cb09",
   "metadata": {},
   "source": [
    "#### 1.2 Naive Bayes Model with TfidfVectorizer"
   ]
  },
  {
   "cell_type": "code",
   "execution_count": 18,
   "id": "a3505034",
   "metadata": {},
   "outputs": [],
   "source": [
    "# Instantiate a Pipeline with TfidfVectorizer (Transformer) and MultinomialNB (Estimator)\n",
    "pipe_nb_tvec = Pipeline([\n",
    "    ('tvec', TfidfVectorizer(stop_words='english')),\n",
    "    ('nb', MultinomialNB())\n",
    "])\n",
    "\n",
    "# Hyperparameters for the above pipeline\n",
    "pipe_nb_tvec_params = {\n",
    "    'tvec__max_features': [2_000, 3_000, 4_000],\n",
    "    'tvec__min_df': [1, 3, 5],\n",
    "    'tvec__max_df': [.7, .8, .9],\n",
    "    'tvec__ngram_range': [(1,1), (1,2)]    \n",
    "}"
   ]
  },
  {
   "cell_type": "code",
   "execution_count": 19,
   "id": "351dac81",
   "metadata": {},
   "outputs": [],
   "source": [
    "# Instantiate GridSearchCV with pipeline of TfidfVectorizer (Transformer) and MultinomialNB (Estimator)\n",
    "gs_nb_tvec = GridSearchCV(pipe_nb_tvec, pipe_nb_tvec_params, cv = 5)"
   ]
  },
  {
   "cell_type": "code",
   "execution_count": 20,
   "id": "c38a218b",
   "metadata": {},
   "outputs": [
    {
     "name": "stdout",
     "output_type": "stream",
     "text": [
      "Wall time: 4min 18s\n"
     ]
    },
    {
     "data": {
      "text/plain": [
       "{'tvec__max_df': 0.7,\n",
       " 'tvec__max_features': 4000,\n",
       " 'tvec__min_df': 5,\n",
       " 'tvec__ngram_range': (1, 1)}"
      ]
     },
     "execution_count": 20,
     "metadata": {},
     "output_type": "execute_result"
    }
   ],
   "source": [
    "%%time\n",
    "# Fit GridSearch to training data.\n",
    "gs_nb_tvec.fit(X_train, y_train)\n",
    "\n",
    "# best parameters from the GridSearch\n",
    "gs_nb_tvec.best_params_"
   ]
  },
  {
   "cell_type": "code",
   "execution_count": 21,
   "id": "857070e5",
   "metadata": {},
   "outputs": [
    {
     "name": "stdout",
     "output_type": "stream",
     "text": [
      "0.9512\n",
      "0.9394\n"
     ]
    }
   ],
   "source": [
    "# Score model on training set\n",
    "print(round(gs_nb_tvec.score(X_train, y_train), 4))\n",
    "\n",
    "# Score model on testing set\n",
    "print(round(gs_nb_tvec.score(X_test, y_test), 4))"
   ]
  },
  {
   "cell_type": "code",
   "execution_count": 22,
   "id": "7c97977e",
   "metadata": {},
   "outputs": [
    {
     "data": {
      "image/png": "[encoded data removed]",
      "text/plain": [
       "<Figure size 432x288 with 2 Axes>"
      ]
     },
     "metadata": {
      "needs_background": "light"
     },
     "output_type": "display_data"
    }
   ],
   "source": [
    "# Get predictions from model\n",
    "pred_nb_tvec = gs_nb_tvec.predict(X_test)\n",
    "\n",
    "# Save confusion matrix values of model\n",
    "tn, fp, fn, tp = confusion_matrix(y_test, pred_nb_tvec).ravel()\n",
    "\n",
    "# View confusion matrix\n",
    "ConfusionMatrixDisplay.from_predictions(y_test, pred_nb_tvec, cmap='Blues', values_format='d');"
   ]
  },
  {
   "cell_type": "code",
   "execution_count": 23,
   "id": "5c74d170",
   "metadata": {},
   "outputs": [
    {
     "name": "stdout",
     "output_type": "stream",
     "text": [
      "Specificity:  0.971\n",
      "Sensitivity:  0.8974\n"
     ]
    }
   ],
   "source": [
    "# Calculate the specificity\n",
    "spec_nb_tvec = round(tn / (tn + fp), 4)\n",
    "print('Specificity: ', spec_nb_tvec)\n",
    "\n",
    "# Calculate the sensitivity\n",
    "sens_nb_tvec = round(tp / (tp + fn), 4)\n",
    "print('Sensitivity: ', sens_nb_tvec)"
   ]
  },
  {
   "cell_type": "markdown",
   "id": "87b79ed1",
   "metadata": {},
   "source": [
    "|Model|Transformer|Train Score|Test Score| TN | FP | FN | TP | Specificity | Sensitivity | \n",
    "|:--:|:--:|:--:|:--:|:--:|:--:|:--:|:--:|:--:|:--:|\n",
    "|**Baseline**|**None**| 0.431463 | 0.429752 | -- | -- | -- | -- | -- | -- |\n",
    "|**Naive Bayes**|**CountVectorizer**| 0.9457 | 0.9449 | 199 | 8 | 12 | 144 | 0.9614 | 0.9231 |\n",
    "|**Naive Bayes**|**TfidfVectorizer**| 0.9512 | 0.9394 | 201 | 6 | 16 | 140 | 0.971 | 0.8974 |\n",
    "\n",
    "From the start, the Naive Bayes Model with TfidfVectorizer shows signs of overfitting as the test score is slightly worse. As such, the accuracy of the model falls off a little. It should be noted that this model scores better in specificity, but worse off in sensitivity. Thus, this model with TfidfVectorizer does not seem to do better than the other model with CountVectorizer. "
   ]
  },
  {
   "cell_type": "markdown",
   "id": "96f1da17",
   "metadata": {},
   "source": [
    "### 2. Logistic Regression Model"
   ]
  },
  {
   "cell_type": "markdown",
   "id": "c6b71847",
   "metadata": {},
   "source": [
    "#### 2.1 Logistic Regression Model with CountVectorizer"
   ]
  },
  {
   "cell_type": "code",
   "execution_count": 24,
   "id": "b8886797",
   "metadata": {},
   "outputs": [],
   "source": [
    "# Instantiate a Pipeline with CountVectorizer (Transformer) and LogisticRegression (Estimator)\n",
    "pipe_logreg_cvec = Pipeline([\n",
    "    ('cvec', CountVectorizer(stop_words='english')),\n",
    "    ('logreg', LogisticRegression(solver='liblinear'))\n",
    "])\n",
    "\n",
    "# Hyperparameters for the above pipeline\n",
    "pipe_logreg_cvec_params = {\n",
    "    'cvec__max_features': [2_000, 3_000, 4_000],\n",
    "    'cvec__min_df': [1, 3, 5],\n",
    "    'cvec__max_df': [.7, .8, .9],\n",
    "    'cvec__ngram_range': [(1,1), (1,2)]    \n",
    "}"
   ]
  },
  {
   "cell_type": "code",
   "execution_count": 25,
   "id": "fd6c5f21",
   "metadata": {},
   "outputs": [],
   "source": [
    "# Instantiate GridSearchCV with pipeline of CountVectorizer (Transformer) and LogisticRegression (Estimator)\n",
    "gs_logreg_cvec = GridSearchCV(pipe_logreg_cvec, pipe_logreg_cvec_params, cv = 5)"
   ]
  },
  {
   "cell_type": "code",
   "execution_count": 26,
   "id": "b3382f62",
   "metadata": {},
   "outputs": [
    {
     "name": "stdout",
     "output_type": "stream",
     "text": [
      "Wall time: 4min 22s\n"
     ]
    },
    {
     "data": {
      "text/plain": [
       "{'cvec__max_df': 0.8,\n",
       " 'cvec__max_features': 3000,\n",
       " 'cvec__min_df': 1,\n",
       " 'cvec__ngram_range': (1, 1)}"
      ]
     },
     "execution_count": 26,
     "metadata": {},
     "output_type": "execute_result"
    }
   ],
   "source": [
    "%%time\n",
    "# Fit GridSearch to training data.\n",
    "gs_logreg_cvec.fit(X_train, y_train)\n",
    "\n",
    "# best parameters from the GridSearch\n",
    "gs_logreg_cvec.best_params_"
   ]
  },
  {
   "cell_type": "code",
   "execution_count": 27,
   "id": "5f1d9d55",
   "metadata": {},
   "outputs": [
    {
     "name": "stdout",
     "output_type": "stream",
     "text": [
      "0.9991\n",
      "0.9559\n"
     ]
    }
   ],
   "source": [
    "# Score model on training set\n",
    "print(round(gs_logreg_cvec.score(X_train, y_train), 4))\n",
    "\n",
    "# Score model on testing set\n",
    "print(round(gs_logreg_cvec.score(X_test, y_test), 4))"
   ]
  },
  {
   "cell_type": "code",
   "execution_count": 28,
   "id": "48624de4",
   "metadata": {},
   "outputs": [
    {
     "data": {
      "image/png": "[encoded data removed]",
      "text/plain": [
       "<Figure size 432x288 with 2 Axes>"
      ]
     },
     "metadata": {
      "needs_background": "light"
     },
     "output_type": "display_data"
    }
   ],
   "source": [
    "# Get predictions from model\n",
    "pred_logreg_cvec = gs_logreg_cvec.predict(X_test)\n",
    "\n",
    "# Save confusion matrix values of model\n",
    "tn, fp, fn, tp = confusion_matrix(y_test, pred_logreg_cvec).ravel()\n",
    "\n",
    "# View confusion matrix\n",
    "ConfusionMatrixDisplay.from_predictions(y_test, pred_logreg_cvec, cmap='Blues', values_format='d');"
   ]
  },
  {
   "cell_type": "code",
   "execution_count": 29,
   "id": "1fa11cb5",
   "metadata": {},
   "outputs": [
    {
     "name": "stdout",
     "output_type": "stream",
     "text": [
      "Specificity:  0.9758\n",
      "Sensitivity:  0.9295\n"
     ]
    }
   ],
   "source": [
    "# Calculate the specificity\n",
    "spec_logreg_cvec = round(tn / (tn + fp), 4)\n",
    "print('Specificity: ', spec_logreg_cvec)\n",
    "\n",
    "# Calculate the sensitivity\n",
    "sens_logreg_cvec = round(tp / (tp + fn), 4)\n",
    "print('Sensitivity: ', sens_logreg_cvec)"
   ]
  },
  {
   "cell_type": "markdown",
   "id": "c858dcbd",
   "metadata": {},
   "source": [
    "|Model|Transformer|Train Score|Test Score| TN | FP | FN | TP | Specificity | Sensitivity | \n",
    "|:--:|:--:|:--:|:--:|:--:|:--:|:--:|:--:|:--:|:--:|\n",
    "|**Baseline**|**None**| 0.431463 | 0.429752 | -- | -- | -- | -- | -- | -- |\n",
    "|**Naive Bayes**|**CountVectorizer**| 0.9457 | 0.9449 | 199 | 8 | 12 | 144 | 0.9614 | 0.9231 |\n",
    "|**Naive Bayes**|**TfidfVectorizer**| 0.9512 | 0.9394 | 201 | 6 | 16 | 140 | 0.971 | 0.8974 |\n",
    "|**Logistics Regression**|**CountVectorizer**| 0.9991 | 0.9559 | 202 | 5 | 11 | 145 | 0.9758 | 0.9295 |\n",
    "\n",
    "As before, this model is quite overfit to the training data. But it should be noted here that scores for accuracy, specificity and sensitivity is the best among the three models thus far. However, this model can be further improved by making it less overfit."
   ]
  },
  {
   "cell_type": "markdown",
   "id": "163b067c",
   "metadata": {},
   "source": [
    "#### 2.2 Logistic Regression Model with TfidfVectorizer"
   ]
  },
  {
   "cell_type": "code",
   "execution_count": 30,
   "id": "511a75ae",
   "metadata": {},
   "outputs": [],
   "source": [
    "# Instantiate a Pipeline with TfidfVectorizer (Transformer) and LogisticRegression (Estimator)\n",
    "pipe_logreg_tvec = Pipeline([\n",
    "    ('tvec', TfidfVectorizer(stop_words='english')),\n",
    "    ('logreg', LogisticRegression(solver='liblinear'))\n",
    "])\n",
    "\n",
    "# Hyperparameters for the above pipeline\n",
    "pipe_logreg_tvec_params = {\n",
    "    'tvec__max_features': [2_000, 3_000, 4_000],\n",
    "    'tvec__min_df': [1, 3, 5],\n",
    "    'tvec__max_df': [.7, .8, .9],\n",
    "    'tvec__ngram_range': [(1,1), (1,2)]    \n",
    "}"
   ]
  },
  {
   "cell_type": "code",
   "execution_count": 31,
   "id": "0557d1a7",
   "metadata": {},
   "outputs": [],
   "source": [
    "# Instantiate GridSearchCV with pipeline of TfidfVectorizer (Transformer) and LogisticRegression (Estimator)\n",
    "gs_logreg_tvec = GridSearchCV(pipe_logreg_tvec, pipe_logreg_tvec_params, cv = 5)"
   ]
  },
  {
   "cell_type": "code",
   "execution_count": 32,
   "id": "9c8ae258",
   "metadata": {},
   "outputs": [
    {
     "name": "stdout",
     "output_type": "stream",
     "text": [
      "Wall time: 4min 13s\n"
     ]
    },
    {
     "data": {
      "text/plain": [
       "{'tvec__max_df': 0.7,\n",
       " 'tvec__max_features': 2000,\n",
       " 'tvec__min_df': 1,\n",
       " 'tvec__ngram_range': (1, 2)}"
      ]
     },
     "execution_count": 32,
     "metadata": {},
     "output_type": "execute_result"
    }
   ],
   "source": [
    "%%time\n",
    "# Fit GridSearch to training data.\n",
    "gs_logreg_tvec.fit(X_train, y_train)\n",
    "\n",
    "# best parameters from the GridSearch\n",
    "gs_logreg_tvec.best_params_"
   ]
  },
  {
   "cell_type": "code",
   "execution_count": 33,
   "id": "78cc6134",
   "metadata": {
    "scrolled": true
   },
   "outputs": [
    {
     "name": "stdout",
     "output_type": "stream",
     "text": [
      "0.9687\n",
      "0.9532\n"
     ]
    }
   ],
   "source": [
    "# Score model on training set\n",
    "print(round(gs_logreg_tvec.score(X_train, y_train), 4))\n",
    "\n",
    "# Score model on testing set\n",
    "print(round(gs_logreg_tvec.score(X_test, y_test), 4))"
   ]
  },
  {
   "cell_type": "code",
   "execution_count": 34,
   "id": "ae265dc6",
   "metadata": {},
   "outputs": [
    {
     "data": {
      "image/png": "[encoded data removed]",
      "text/plain": [
       "<Figure size 432x288 with 2 Axes>"
      ]
     },
     "metadata": {
      "needs_background": "light"
     },
     "output_type": "display_data"
    }
   ],
   "source": [
    "# Get predictions from model\n",
    "pred_logreg_tvec = gs_logreg_tvec.predict(X_test)\n",
    "\n",
    "# Save confusion matrix values of model\n",
    "tn, fp, fn, tp = confusion_matrix(y_test, pred_logreg_tvec).ravel()\n",
    "\n",
    "# View confusion matrix\n",
    "ConfusionMatrixDisplay.from_predictions(y_test, pred_logreg_tvec, cmap='Blues', values_format='d');"
   ]
  },
  {
   "cell_type": "code",
   "execution_count": 35,
   "id": "0db558fd",
   "metadata": {},
   "outputs": [
    {
     "name": "stdout",
     "output_type": "stream",
     "text": [
      "Specificity:  0.9758\n",
      "Sensitivity:  0.9231\n"
     ]
    }
   ],
   "source": [
    "# Calculate the specificity\n",
    "spec_logreg_tvec = round(tn / (tn + fp), 4)\n",
    "print('Specificity: ', spec_logreg_tvec)\n",
    "\n",
    "# Calculate the sensitivity\n",
    "sens_logreg_tvec = round(tp / (tp + fn), 4)\n",
    "print('Sensitivity: ', sens_logreg_tvec)"
   ]
  },
  {
   "cell_type": "markdown",
   "id": "f9aad40b",
   "metadata": {},
   "source": [
    "|Model|Transformer|Train Score|Test Score| TN | FP | FN | TP | Specificity | Sensitivity | \n",
    "|:--:|:--:|:--:|:--:|:--:|:--:|:--:|:--:|:--:|:--:|\n",
    "|**Baseline**|**None**| 0.431463 | 0.429752 | -- | -- | -- | -- | -- | -- |\n",
    "|**Naive Bayes**|**CountVectorizer**| 0.9457 | 0.9449 | 199 | 8 | 12 | 144 | 0.9614 | 0.9231 |\n",
    "|**Naive Bayes**|**TfidfVectorizer**| 0.9512 | 0.9394 | 201 | 6 | 16 | 140 | 0.971 | 0.8974 |\n",
    "|**Logistics Regression**|**CountVectorizer**| 0.9991 | 0.9559 | 202 | 5 | 11 | 145 | 0.9758 | 0.9295 |\n",
    "|**Logistics Regression**|**TfidfVectorizer**| 0.9687 | 0.9532 | 202 | 5 | 12 | 144 | 0.9758 | 0.9231 |\n",
    "\n",
    "As before, this model is also slightly overfit to the training data. Other than that, it shows similar (though slightly worse) scoring when compared to the Logistics Regression Model with CountVectorizer. As such, in a way, this model may be a better model."
   ]
  },
  {
   "cell_type": "markdown",
   "id": "72669418",
   "metadata": {},
   "source": [
    "### 3. K Nearest Neighbors Model"
   ]
  },
  {
   "cell_type": "markdown",
   "id": "f85199eb",
   "metadata": {},
   "source": [
    "#### 3.1 K Nearest Neighbors Model with CountVectorizer"
   ]
  },
  {
   "cell_type": "code",
   "execution_count": 36,
   "id": "b3567931",
   "metadata": {},
   "outputs": [],
   "source": [
    "# Instantiate a Pipeline with CountVectorizer (Transformer) and KNeighborsClassifier (Estimator)\n",
    "pipe_knn_cvec = Pipeline([\n",
    "    ('cvec', CountVectorizer(stop_words='english')),\n",
    "    ('knn', KNeighborsClassifier())\n",
    "])\n",
    "\n",
    "# Hyperparameters for the above pipeline\n",
    "pipe_knn_cvec_params = {\n",
    "    'cvec__max_features': [2_000, 3_000, 4_000],\n",
    "    'cvec__min_df': [1, 3, 5],\n",
    "    'cvec__max_df': [.7, .8, .9],\n",
    "    'cvec__ngram_range': [(1,1), (1,2)]    \n",
    "}"
   ]
  },
  {
   "cell_type": "code",
   "execution_count": 37,
   "id": "2e1c1bba",
   "metadata": {},
   "outputs": [],
   "source": [
    "# Instantiate GridSearchCV with pipeline of CountVectorizer (Transformer) and KNeighborsClassifier (Estimator)\n",
    "gs_knn_cvec = GridSearchCV(pipe_knn_cvec, pipe_knn_cvec_params, cv = 5)"
   ]
  },
  {
   "cell_type": "code",
   "execution_count": 38,
   "id": "b8e64602",
   "metadata": {},
   "outputs": [
    {
     "name": "stdout",
     "output_type": "stream",
     "text": [
      "Wall time: 4min 27s\n"
     ]
    },
    {
     "data": {
      "text/plain": [
       "{'cvec__max_df': 0.8,\n",
       " 'cvec__max_features': 2000,\n",
       " 'cvec__min_df': 5,\n",
       " 'cvec__ngram_range': (1, 2)}"
      ]
     },
     "execution_count": 38,
     "metadata": {},
     "output_type": "execute_result"
    }
   ],
   "source": [
    "%%time\n",
    "# Fit GridSearch to training data.\n",
    "gs_knn_cvec.fit(X_train, y_train)\n",
    "\n",
    "# best parameters from the GridSearch\n",
    "gs_knn_cvec.best_params_"
   ]
  },
  {
   "cell_type": "code",
   "execution_count": 39,
   "id": "736104c8",
   "metadata": {},
   "outputs": [
    {
     "name": "stdout",
     "output_type": "stream",
     "text": [
      "0.7948\n",
      "0.7906\n"
     ]
    }
   ],
   "source": [
    "# Score model on training set\n",
    "print(round(gs_knn_cvec.score(X_train, y_train), 4))\n",
    "\n",
    "# Score model on testing set\n",
    "print(round(gs_knn_cvec.score(X_test, y_test), 4))"
   ]
  },
  {
   "cell_type": "code",
   "execution_count": 40,
   "id": "c4649172",
   "metadata": {},
   "outputs": [
    {
     "data": {
      "image/png": "[encoded data removed]",
      "text/plain": [
       "<Figure size 432x288 with 2 Axes>"
      ]
     },
     "metadata": {
      "needs_background": "light"
     },
     "output_type": "display_data"
    }
   ],
   "source": [
    "# Get predictions from model\n",
    "pred_knn_cvec = gs_knn_cvec.predict(X_test)\n",
    "\n",
    "# Save confusion matrix values of model\n",
    "tn, fp, fn, tp = confusion_matrix(y_test, pred_knn_cvec).ravel()\n",
    "\n",
    "# View confusion matrix\n",
    "ConfusionMatrixDisplay.from_predictions(y_test, pred_knn_cvec, cmap='Blues', values_format='d');"
   ]
  },
  {
   "cell_type": "code",
   "execution_count": 41,
   "id": "99873dab",
   "metadata": {},
   "outputs": [
    {
     "name": "stdout",
     "output_type": "stream",
     "text": [
      "Specificity:  1.0\n",
      "Sensitivity:  0.5128\n"
     ]
    }
   ],
   "source": [
    "# Calculate the specificity\n",
    "spec_knn_cvec = round(tn / (tn + fp), 4)\n",
    "print('Specificity: ', spec_knn_cvec)\n",
    "\n",
    "# Calculate the sensitivity\n",
    "sens_knn_cvec = round(tp / (tp + fn), 4)\n",
    "print('Sensitivity: ', sens_knn_cvec)"
   ]
  },
  {
   "cell_type": "markdown",
   "id": "6e2a4a89",
   "metadata": {},
   "source": [
    "|Model|Transformer|Train Score|Test Score| TN | FP | FN | TP | Specificity | Sensitivity | \n",
    "|:--:|:--:|:--:|:--:|:--:|:--:|:--:|:--:|:--:|:--:|\n",
    "|**Baseline**|**None**| 0.431463 | 0.429752 | -- | -- | -- | -- | -- | -- |\n",
    "|**Naive Bayes**|**CountVectorizer**| 0.9457 | 0.9449 | 199 | 8 | 12 | 144 | 0.9614 | 0.9231 |\n",
    "|**Naive Bayes**|**TfidfVectorizer**| 0.9512 | 0.9394 | 201 | 6 | 16 | 140 | 0.971 | 0.8974 |\n",
    "|**Logistics Regression**|**CountVectorizer**| 0.9991 | 0.9559 | 202 | 5 | 11 | 145 | 0.9758 | 0.9295 |\n",
    "|**Logistics Regression**|**TfidfVectorizer**| 0.9687 | 0.9532 | 202 | 5 | 12 | 144 | 0.9758 | 0.9231 |\n",
    "|**KNeighborsClassifier**|**CountVectorizer**| 0.7948 | 0.7906 | 207 | 0 | 76 | 80 | 1.0 | 0.5128 |\n",
    "\n",
    "For this model, the first thing to note is that the accuracy has drastically dropped when compared to the previous models. While the specificity is 1, the sensitivity is very low as this model is making a lot more posts as not belonging to the targetted subreddit."
   ]
  },
  {
   "cell_type": "markdown",
   "id": "efe059e8",
   "metadata": {},
   "source": [
    "#### 3.2 KNeighborsClassifier Model with TfidfVectorizer"
   ]
  },
  {
   "cell_type": "code",
   "execution_count": 42,
   "id": "0bfaf18a",
   "metadata": {},
   "outputs": [],
   "source": [
    "# Instantiate a Pipeline with TfidfVectorizer (Transformer) and KNeighborsClassifier (Estimator)\n",
    "pipe_knn_tvec = Pipeline([\n",
    "    ('tvec', TfidfVectorizer(stop_words='english')),\n",
    "    ('knn', KNeighborsClassifier())\n",
    "])\n",
    "\n",
    "# Hyperparameters for the above pipeline\n",
    "pipe_knn_tvec_params = {\n",
    "    'tvec__max_features': [2_000, 3_000, 4_000],\n",
    "    'tvec__min_df': [1, 3, 5],\n",
    "    'tvec__max_df': [.7, .8, .9],\n",
    "    'tvec__ngram_range': [(1,1), (1,2)]    \n",
    "}"
   ]
  },
  {
   "cell_type": "code",
   "execution_count": 43,
   "id": "d7c8600f",
   "metadata": {},
   "outputs": [],
   "source": [
    "# Instantiate GridSearchCV with pipeline of TfidfVectorizer (Transformer) and KNeighborsClassifier (Estimator)\n",
    "gs_knn_tvec = GridSearchCV(pipe_knn_tvec, pipe_knn_tvec_params, cv = 5)"
   ]
  },
  {
   "cell_type": "code",
   "execution_count": 44,
   "id": "de9f4a83",
   "metadata": {},
   "outputs": [
    {
     "name": "stdout",
     "output_type": "stream",
     "text": [
      "Wall time: 4min 19s\n"
     ]
    },
    {
     "data": {
      "text/plain": [
       "{'tvec__max_df': 0.8,\n",
       " 'tvec__max_features': 4000,\n",
       " 'tvec__min_df': 1,\n",
       " 'tvec__ngram_range': (1, 1)}"
      ]
     },
     "execution_count": 44,
     "metadata": {},
     "output_type": "execute_result"
    }
   ],
   "source": [
    "%%time\n",
    "# Fit GridSearch to training data.\n",
    "gs_knn_tvec.fit(X_train, y_train)\n",
    "\n",
    "# best parameters from the GridSearch\n",
    "gs_knn_tvec.best_params_"
   ]
  },
  {
   "cell_type": "code",
   "execution_count": 45,
   "id": "cc41a67f",
   "metadata": {
    "scrolled": true
   },
   "outputs": [
    {
     "name": "stdout",
     "output_type": "stream",
     "text": [
      "0.9108\n",
      "0.865\n"
     ]
    }
   ],
   "source": [
    "# Score model on training set\n",
    "print(round(gs_knn_tvec.score(X_train, y_train), 4))\n",
    "\n",
    "# Score model on testing set\n",
    "print(round(gs_knn_tvec.score(X_test, y_test), 4))"
   ]
  },
  {
   "cell_type": "code",
   "execution_count": 46,
   "id": "14a202f6",
   "metadata": {},
   "outputs": [
    {
     "data": {
      "image/png": "[encoded data removed]",
      "text/plain": [
       "<Figure size 432x288 with 2 Axes>"
      ]
     },
     "metadata": {
      "needs_background": "light"
     },
     "output_type": "display_data"
    }
   ],
   "source": [
    "# Get predictions from model\n",
    "pred_knn_tvec = gs_knn_tvec.predict(X_test)\n",
    "\n",
    "# Save confusion matrix values of model\n",
    "tn, fp, fn, tp = confusion_matrix(y_test, pred_knn_tvec).ravel()\n",
    "\n",
    "# View confusion matrix\n",
    "ConfusionMatrixDisplay.from_predictions(y_test, pred_knn_tvec, cmap='Blues', values_format='d');"
   ]
  },
  {
   "cell_type": "code",
   "execution_count": 47,
   "id": "a56882ab",
   "metadata": {
    "scrolled": false
   },
   "outputs": [
    {
     "name": "stdout",
     "output_type": "stream",
     "text": [
      "Specificity:  0.8647\n",
      "Sensitivity:  0.8654\n"
     ]
    }
   ],
   "source": [
    "# Calculate the specificity\n",
    "spec_knn_tvec = round(tn / (tn + fp), 4)\n",
    "print('Specificity: ', spec_knn_tvec)\n",
    "\n",
    "# Calculate the sensitivity\n",
    "sens_knn_tvec = round(tp / (tp + fn), 4)\n",
    "print('Sensitivity: ', sens_knn_tvec)"
   ]
  },
  {
   "cell_type": "markdown",
   "id": "00f5d3cc",
   "metadata": {},
   "source": [
    "|Model|Transformer|Train Score|Test Score| TN | FP | FN | TP | Specificity | Sensitivity | \n",
    "|:--:|:--:|:--:|:--:|:--:|:--:|:--:|:--:|:--:|:--:|\n",
    "|**Baseline**|**None**| 0.431463 | 0.429752 | -- | -- | -- | -- | -- | -- |\n",
    "|**Naive Bayes**|**CountVectorizer**| 0.9457 | 0.9449 | 199 | 8 | 12 | 144 | 0.9614 | 0.9231 |\n",
    "|**Naive Bayes**|**TfidfVectorizer**| 0.9512 | 0.9394 | 201 | 6 | 16 | 140 | 0.971 | 0.8974 |\n",
    "|**Logistics Regression**|**CountVectorizer**| 0.9991 | 0.9559 | 202 | 5 | 11 | 145 | 0.9758 | 0.9295 |\n",
    "|**Logistics Regression**|**TfidfVectorizer**| 0.9687 | 0.9532 | 202 | 5 | 12 | 144 | 0.9758 | 0.9231 |\n",
    "|**KNeighborsClassifier**|**CountVectorizer**| 0.7948 | 0.7906 | 207 | 0 | 76 | 80 | 1.0 | 0.5128 |\n",
    "|**KNeighborsClassifier**|**TfidfVectorizer**| 0.9108 | 0.865 | 179 | 28 | 21 | 135 | 0.8647 | 0.8654 |\n",
    "\n",
    "In the case of this model, the first thing to note is that the accuracy has improved when compared to the previous KNeighborsClassifier model, though it suffers from overfitting. However, when compared to the other models with the same TfidfVectorizer transformer, this fares worse. As such, we will not be considering this model for the final modelling."
   ]
  },
  {
   "cell_type": "markdown",
   "id": "6b653a75",
   "metadata": {},
   "source": [
    "### 4. Final Model"
   ]
  },
  {
   "cell_type": "markdown",
   "id": "fc083762",
   "metadata": {},
   "source": [
    "### 5. Conclusion"
   ]
  }
 ],
 "metadata": {
  "kernelspec": {
   "display_name": "Python 3 (ipykernel)",
   "language": "python",
   "name": "python3"
  },
  "language_info": {
   "codemirror_mode": {
    "name": "ipython",
    "version": 3
   },
   "file_extension": ".py",
   "mimetype": "text/x-python",
   "name": "python",
   "nbconvert_exporter": "python",
   "pygments_lexer": "ipython3",
   "version": "3.8.12"
  }
 },
 "nbformat": 4,
 "nbformat_minor": 5
}
