{
 "cells": [
  {
   "cell_type": "markdown",
   "id": "496e4fef",
   "metadata": {},
   "source": [
    "<div>\n",
    "<img src=\"http://imgur.com/1ZcRyrc.png\" style=\"float: left; margin: 20px; height: 55px\" width=100>\n",
    "</div>\n",
    "\n",
    "# Project 3: Web APIs & NLP"
   ]
  },
  {
   "cell_type": "markdown",
   "id": "04ed622f",
   "metadata": {},
   "source": [
    "## Background\n",
    "\n",
    "[Reddit](https:www.reddit.com) is a network of communities where people can dive into their interests, hobbies and passions. Subreddits are user-created channels where discussion on the topic of interest, hobby or passion are organized. From [Metrics For Reddit](https://frontpagemetrics.com/history), there are over 3.2 million subreddits as of December 2021, with hundreds of subreddits being created every day. \n",
    "\n",
    "1. Using [Pushshift's](https://github.com/pushshift/api) API, posts are collected from the two subreddits of [nosleep](https://www.reddit.com/r/nosleep/) and [paranormal](https://www.reddit.com/r/paranormal/).\n",
    "2. `You'll then use NLP to train a classifier on which subreddit a given post came from.`"
   ]
  },
  {
   "cell_type": "markdown",
   "id": "3c50a026",
   "metadata": {},
   "source": [
    "## Problem Statement\n",
    "\n",
    "As there are many different subreddits on Reddit, and since interests, hobbies and passions can be similar, there are always various subreddits that are similar to each other. Without a doubt, anyone who is new to writing and posting to Reddit can be confused as to which subreddit to post to. In this project, the aim is to assist the new Reddit user in the decision of which subreddit to make the post in.\n",
    "\n",
    "For the context of this project, the post is in the form of a scary experience, and the choices of the two of the subreddits are [nosleep](https://www.reddit.com/r/nosleep/) and [paranormal](https://www.reddit.com/r/paranormal/), two subreddits that cater to scary personal experiences and paranormal experiences, thoughts and theories."
   ]
  },
  {
   "cell_type": "markdown",
   "id": "91c46e19",
   "metadata": {},
   "source": [
    "## Part 1: Data Collection"
   ]
  },
  {
   "cell_type": "markdown",
   "id": "89944aa5",
   "metadata": {},
   "source": [
    "### 1. Imports (All imported libraries are added here)"
   ]
  },
  {
   "cell_type": "code",
   "execution_count": 1,
   "id": "7f6e12cc",
   "metadata": {},
   "outputs": [],
   "source": [
    "import requests\n",
    "import pandas as pd\n",
    "from bs4 import BeautifulSoup"
   ]
  },
  {
   "cell_type": "markdown",
   "id": "0b5e5b8b",
   "metadata": {},
   "source": [
    "### 2. Parameters for Data collection"
   ]
  },
  {
   "cell_type": "code",
   "execution_count": 2,
   "id": "351674f4",
   "metadata": {},
   "outputs": [],
   "source": [
    "# url for the pushshift api\n",
    "url = \"https://api.pushshift.io/reddit/search/submission\"   \n",
    "\n",
    "# subreddits chosen\n",
    "subreddits = ['nosleep','paranormal']\n",
    "\n",
    "# Posts before 31 December 2021, 23:59:59, for the initial point of collection (time in Unix epoch time)\n",
    "last_time = 1640966399     "
   ]
  },
  {
   "cell_type": "markdown",
   "id": "7f38cb77",
   "metadata": {},
   "source": [
    "### 3. Function for Data collection"
   ]
  },
  {
   "cell_type": "code",
   "execution_count": 26,
   "id": "17b5df16",
   "metadata": {},
   "outputs": [],
   "source": [
    "def get_posts(sub, num_posts):\n",
    "    # Empty list for the data collection to output\n",
    "    posts = [] \n",
    "    \n",
    "     # initialize N for number of posts collected as count\n",
    "    N = 0\n",
    "    \n",
    "    # initialize the last variable\n",
    "    last = last_time\n",
    "    \n",
    "    # while loop to collect N posts\n",
    "    while N < num_posts:          \n",
    "        # parameters for the pushshift api: subbreddit, size of 100 posts each loop, before time\n",
    "        params = {\n",
    "            'subreddit': sub,   \n",
    "            'size': 100,\n",
    "            'before': last\n",
    "        }\n",
    "        \n",
    "        # api request and save to json\n",
    "        request = requests.get(url, params)\n",
    "        res = request.json()\n",
    "        \n",
    "        # add posts to list\n",
    "        posts.extend(res['data'])\n",
    "        \n",
    "        # Redefining parameters for while loop\n",
    "        last = int(res['data'][-1]['created_utc'])\n",
    "        \n",
    "        \n",
    "        # increase count by 100 for number of posts\n",
    "        N += 100\n",
    "    \n",
    "    return posts     "
   ]
  },
  {
   "cell_type": "markdown",
   "id": "e4786b42",
   "metadata": {},
   "source": [
    "### 4. Data Collection"
   ]
  },
  {
   "cell_type": "code",
   "execution_count": 27,
   "id": "f6cb13e4",
   "metadata": {},
   "outputs": [
    {
     "name": "stdout",
     "output_type": "stream",
     "text": [
      "Wall time: 1min 43s\n"
     ]
    }
   ],
   "source": [
    "%%time\n",
    "# data collection for the first subreddit nosleep\n",
    "nosleep_posts = get_posts(subreddits[0], 1000)"
   ]
  },
  {
   "cell_type": "code",
   "execution_count": 20,
   "id": "f6000a6a",
   "metadata": {},
   "outputs": [
    {
     "name": "stdout",
     "output_type": "stream",
     "text": [
      "Wall time: 42.1 s\n"
     ]
    }
   ],
   "source": [
    "%%time\n",
    "# data collection for the second subreddit paranormal\n",
    "paranormal_posts = get_posts(subreddits[1], 1000)"
   ]
  },
  {
   "cell_type": "code",
   "execution_count": 6,
   "id": "a913d9ec",
   "metadata": {},
   "outputs": [
    {
     "name": "stdout",
     "output_type": "stream",
     "text": [
      "Wall time: 0 ns\n"
     ]
    }
   ],
   "source": [
    "%%time\n",
    "# data collection for the subreddit Ghoststories\n",
    "# ghoststories_posts = get_posts('Ghoststories', 1000)"
   ]
  },
  {
   "cell_type": "code",
   "execution_count": 7,
   "id": "399e4779",
   "metadata": {},
   "outputs": [
    {
     "name": "stdout",
     "output_type": "stream",
     "text": [
      "Wall time: 0 ns\n"
     ]
    }
   ],
   "source": [
    "%%time\n",
    "# data collection for the subreddit WritingPrompts\n",
    "# writingprompts_posts = get_posts('WritingPrompts', 1000)"
   ]
  },
  {
   "cell_type": "code",
   "execution_count": 8,
   "id": "a84d9ca5",
   "metadata": {},
   "outputs": [
    {
     "name": "stdout",
     "output_type": "stream",
     "text": [
      "Wall time: 0 ns\n"
     ]
    }
   ],
   "source": [
    "%%time\n",
    "# data collection for the subreddit scarystories\n",
    "# scarystories_posts = get_posts('scarystories', 1000)"
   ]
  },
  {
   "cell_type": "code",
   "execution_count": 9,
   "id": "64f12cf7",
   "metadata": {},
   "outputs": [
    {
     "name": "stdout",
     "output_type": "stream",
     "text": [
      "Wall time: 0 ns\n"
     ]
    }
   ],
   "source": [
    "%%time\n",
    "# data collection for the subreddit Glitch_in_the_Matrix\n",
    "# glitchmatrix_posts = get_posts('Glitch_in_the_Matrix', 1000)"
   ]
  },
  {
   "cell_type": "markdown",
   "id": "ad9372a1",
   "metadata": {},
   "source": [
    "### 5. Output to DataFrame and Export"
   ]
  },
  {
   "cell_type": "code",
   "execution_count": 21,
   "id": "b42c8e29",
   "metadata": {
    "scrolled": true
   },
   "outputs": [],
   "source": [
    "# output to dataframe\n",
    "df_nosleep = pd.DataFrame(nosleep_posts)\n",
    "df_paranormal = pd.DataFrame(paranormal_posts)"
   ]
  },
  {
   "cell_type": "code",
   "execution_count": 25,
   "id": "eebd59e5",
   "metadata": {},
   "outputs": [
    {
     "data": {
      "text/plain": [
       "99     1640809216\n",
       "100    1640808343\n",
       "Name: created_utc, dtype: int64"
      ]
     },
     "execution_count": 25,
     "metadata": {},
     "output_type": "execute_result"
    }
   ],
   "source": [
    "df_nosleep.iloc[99:101]['created_utc']"
   ]
  },
  {
   "cell_type": "code",
   "execution_count": 11,
   "id": "48ce6052",
   "metadata": {},
   "outputs": [],
   "source": [
    "## Placeholder for the alternative subreddits\n",
    "\n",
    "# df_ghoststories = pd.DataFrame(ghoststories_posts)\n",
    "# df_ghoststories.to_csv('../datasets/ghoststories_posts.csv', index=False)\n",
    "\n",
    "# df_writingprompts = pd.DataFrame(writingprompts_posts)\n",
    "# df_writingprompts.to_csv('../datasets/writingprompts_posts.csv', index=False)\n",
    "\n",
    "# df_scarystories = pd.DataFrame(scarystories_posts)\n",
    "# df_scarystories.to_csv('../datasets/scarystories_posts.csv', index=False)\n",
    "\n",
    "# df_glitchmatrix = pd.DataFrame(glitchmatrix_posts)\n",
    "# df_glitchmatrix.to_csv('../datasets/glitchmatrix_posts.csv', index=False)"
   ]
  },
  {
   "cell_type": "code",
   "execution_count": 22,
   "id": "0b0cf553",
   "metadata": {},
   "outputs": [],
   "source": [
    "# save to csv\n",
    "df_nosleep.to_csv('../datasets/nosleep_posts.csv', index=False)\n",
    "df_paranormal.to_csv('../datasets/paranormal_posts.csv', index=False)"
   ]
  },
  {
   "cell_type": "markdown",
   "id": "65fb490c",
   "metadata": {},
   "source": [
    "### 6. Progress thus far\n",
    "At this point in time, we have completed the webscraping of the two subreddits and combined them into csvs for analysis. We will continue next in Part 2: [EDA_and_Data_Cleaning](./02_EDA_and_Data_Cleaning.ipynb)\n"
   ]
  }
 ],
 "metadata": {
  "kernelspec": {
   "display_name": "Python 3 (ipykernel)",
   "language": "python",
   "name": "python3"
  },
  "language_info": {
   "codemirror_mode": {
    "name": "ipython",
    "version": 3
   },
   "file_extension": ".py",
   "mimetype": "text/x-python",
   "name": "python",
   "nbconvert_exporter": "python",
   "pygments_lexer": "ipython3",
   "version": "3.8.12"
  }
 },
 "nbformat": 4,
 "nbformat_minor": 5
}
