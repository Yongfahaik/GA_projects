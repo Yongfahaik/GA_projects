{
 "cells": [
  {
   "cell_type": "markdown",
   "id": "67b87e4d",
   "metadata": {},
   "source": [
    "<div>\n",
    "<img src=\"http://imgur.com/1ZcRyrc.png\" style=\"float: left; margin: 20px; height: 55px\" width=100>\n",
    "</div>\n",
    "\n",
    "# Project 2: Ames Housing Data and Kaggle Challenge"
   ]
  },
  {
   "cell_type": "markdown",
   "id": "4f71c321",
   "metadata": {},
   "source": [
    "## Background\n",
    "The Ames Housing Dataset is an exceptionally detailed and robust dataset with over 70 columns of different features relating to houses.  \n",
    "We are presented with this dataset to predict the prices of the houses in Ames, Iowa.  \n",
    "The data is taken  from: https://www.kaggle.com/c/dsi-us-11-project-2-regression-challenge/data\n",
    "\n",
    "## Problem Statement\n",
    "As a consultant to a potential house-owner in the city of Ames of Iowa, I am presented with the challenge of finding the features that will affect the sale price of the house. In doing so, I will then be able to give recommendations to the potential house-owner on the features that will affect the value of the house the most."
   ]
  },
  {
   "cell_type": "markdown",
   "id": "3cdca8ad",
   "metadata": {},
   "source": [
    "## Progress thus far\n",
    "In Part 1, we have cleaned the provided datasets and selected the following features out of the original 80 features that will be used for our modelling process. Do note that some of the features are actually dummy features created from the original data columns.\n",
    "\n",
    "|Feature|Data Type|Description|\n",
    "|:--:|:--:|:----------:|\n",
    "|**lot_frontage**| Continuous | Linear feet of street connected to property |\n",
    "|**lot_area**| Continuous | Lot size in square feet |\n",
    "|**overall_qual**| Ordinal | The overall rating of the material and finish of the house |\n",
    "|**year_built**| Discrete | Original construction date |\n",
    "|**exter_qual**| Ordinal | The evaluated quality of the material on the exterior |\n",
    "|**bsmt_qual**| Ordinal | The evaluated height of the basement |\n",
    "|**bsmt_exposure**| Ordinal | Refers to walkout or garden level walls with split levels or foyers scoring average |\n",
    "|**total_bsmt_sf**| Continuous | Total square feet of basement area |\n",
    "|**heating_qc**| Ordinal | Heating quality and condition |\n",
    "|**gr_liv_area**| Contiuous | Above grade (ground) living area square feet |\n",
    "|**full_bath**| Discrete | Full bathrooms above grade |\n",
    "|**kitchen_qual**| Ordinal | Kitchen Quality |\n",
    "|**totrms_abvgrd**| Discrete | Total rooms above grade (does not include bathrooms) |\n",
    "|**fireplaces**| Discrete | Number of fireplaces |\n",
    "|**garage_area**| Continuous | Size of garage in square feet |\n",
    "|**neighborhood_stonebr**| Dummy (Nominal) | Stone Brook (Physical location within Ames city limits) |\n",
    "|**neighborhood_nridght**| Dummy (Nominal) | Northridge Heights (Physical location within Ames city limits) |\n",
    "|**neighborhood_noridge**| Dummy (Nominal) | Northridge (Physical location within Ames city limits) |\n",
    "|**bsmt_fin_glq**| Dummy (Ordinal) | Rating of basement finished area as Good Living Quarters |\n",
    "|**garage_builtin**| Dummy (Nominal) | Location of Garage being built-in as part of house |\n",
    "|**garage_attchd**| Dummy (Nominal) | Location of Garage being attached to home |\n",
    "|**foundation_pconc**| Dummy (Nominal) | Type of foundation as Poured Concrete |\n",
    "|**house_1story**| Dummy (Nominal) | One story (Style of dwelling) |\n",
    "|**house_2story**| Dummy (Nominal) | Two story (Style of dwelling) |\n",
    "|**masvnr_stone**| Dummy (Nominal) | Masonry veneer type of Stone |\n",
    "|**masvnr_brkface**| Dummy (Nominal) | Masonry veneer type of Brick Face|"
   ]
  },
  {
   "cell_type": "markdown",
   "id": "4163d82c",
   "metadata": {},
   "source": [
    "## Part 2: Modelling"
   ]
  },
  {
   "cell_type": "markdown",
   "id": "a6bfa57c",
   "metadata": {},
   "source": [
    "### 1. Importing the libraries (All libraries used will be added here)"
   ]
  },
  {
   "cell_type": "code",
   "execution_count": 1,
   "id": "cdd9a755",
   "metadata": {},
   "outputs": [],
   "source": [
    "import numpy as np\n",
    "import pandas as pd\n",
    "import matplotlib.pyplot as plt\n",
    "import seaborn as sns\n",
    "\n",
    "from sklearn.linear_model import LinearRegression, Ridge, RidgeCV, Lasso, LassoCV\n",
    "from sklearn.model_selection import train_test_split, cross_val_score\n",
    "from sklearn.preprocessing import StandardScaler, PolynomialFeatures\n",
    "from sklearn.metrics import mean_squared_error, mean_absolute_error, r2_score"
   ]
  },
  {
   "cell_type": "markdown",
   "id": "53bdd8a8",
   "metadata": {},
   "source": [
    "### 2. Importing the training dataset and the test dataset"
   ]
  },
  {
   "cell_type": "code",
   "execution_count": 2,
   "id": "c9023671",
   "metadata": {},
   "outputs": [],
   "source": [
    "df_train_clean = pd.read_csv('../datasets/train_clean.csv')\n",
    "\n",
    "df_test_clean = pd.read_csv('../datasets/test_clean.csv')"
   ]
  },
  {
   "cell_type": "markdown",
   "id": "aea9313d",
   "metadata": {},
   "source": [
    "### 3. Train/Test Split\n",
    "As we are unable to confirm the results of our modelling if we are to immediately predict on the test dataset since the `SalePrice` for the test dataset is not provided, if we are to evaluate our models, we will have to split up the training dataset into train data and test data."
   ]
  },
  {
   "cell_type": "code",
   "execution_count": 3,
   "id": "78718685",
   "metadata": {},
   "outputs": [],
   "source": [
    "# Determining the features for the modelling\n",
    "features = [feat for feat in df_train_clean.columns if feat != 'saleprice' and feat != 'id']"
   ]
  },
  {
   "cell_type": "code",
   "execution_count": 4,
   "id": "70550202",
   "metadata": {},
   "outputs": [
    {
     "data": {
      "text/plain": [
       "(2051, 26)"
      ]
     },
     "metadata": {},
     "output_type": "display_data"
    },
    {
     "data": {
      "text/plain": [
       "(2051,)"
      ]
     },
     "metadata": {},
     "output_type": "display_data"
    },
    {
     "data": {
      "text/plain": [
       "(878, 26)"
      ]
     },
     "metadata": {},
     "output_type": "display_data"
    }
   ],
   "source": [
    "# Creating the X and y variables from the training dataset\n",
    "X = df_train_clean[features]\n",
    "y = df_train_clean['saleprice']\n",
    "\n",
    "# Creating the X variable from the test dataset [Using X_kaggle here to differ from the X_test later]\n",
    "X_kaggle = df_test_clean[features]\n",
    "\n",
    "# Displaying the shapes of the X and y variables\n",
    "display(X.shape)\n",
    "display(y.shape)\n",
    "display(X_kaggle.shape)"
   ]
  },
  {
   "cell_type": "code",
   "execution_count": 5,
   "id": "7e66b6d7",
   "metadata": {},
   "outputs": [],
   "source": [
    "# Train/Test Split\n",
    "X_train, X_test, y_train, y_test = train_test_split(X, y, test_size = 0.25, random_state = 42)"
   ]
  },
  {
   "cell_type": "markdown",
   "id": "635317d7",
   "metadata": {},
   "source": [
    "### 4. Baseline Model\n",
    "For the Baseline Model for the prediction of the `SalePrice`, we will be using the mean value of `SalePrice` from the train data above as the predictions for the test data."
   ]
  },
  {
   "cell_type": "code",
   "execution_count": 6,
   "id": "ac9e2fec",
   "metadata": {
    "scrolled": false
   },
   "outputs": [
    {
     "data": {
      "text/plain": [
       "181061.9934980494"
      ]
     },
     "execution_count": 6,
     "metadata": {},
     "output_type": "execute_result"
    }
   ],
   "source": [
    "# The mean value of SalePrice\n",
    "np.mean(y_train)"
   ]
  },
  {
   "cell_type": "code",
   "execution_count": 7,
   "id": "e2b1d4fa",
   "metadata": {},
   "outputs": [
    {
     "data": {
      "text/plain": [
       "79526.85223710592"
      ]
     },
     "execution_count": 7,
     "metadata": {},
     "output_type": "execute_result"
    }
   ],
   "source": [
    "# RMSE for the train data\n",
    "y_pred_base = np.ones_like(y_train) * np.mean(y_train)\n",
    "np.sqrt(mean_squared_error(y_train, y_pred_base))"
   ]
  },
  {
   "cell_type": "code",
   "execution_count": 8,
   "id": "6aae39c8",
   "metadata": {
    "scrolled": true
   },
   "outputs": [
    {
     "data": {
      "text/plain": [
       "78375.26238032707"
      ]
     },
     "execution_count": 8,
     "metadata": {},
     "output_type": "execute_result"
    }
   ],
   "source": [
    "# RMSE for the test data\n",
    "y_pred_base = np.ones_like(y_test) * np.mean(y_train)\n",
    "np.sqrt(mean_squared_error(y_test, y_pred_base))"
   ]
  },
  {
   "cell_type": "markdown",
   "id": "69d05996",
   "metadata": {},
   "source": [
    "For the Baseline Model, the RMSE for the train set and the test set are 79526.8522 and 78375.2624 respectively. Considering the RMSE for the sample provided by Kaggle is at 83945.31, this is somewhat expected for the Baseline Model.\n",
    "\n",
    "From here on, we just have to improve on this score by modelling the data on the appriopriate models.\n",
    "\n",
    "|Model|Train/Test **RMSE**|\n",
    "|:--:|:--:|\n",
    "|**Baseline**|79526.8522 / 78375.2624|"
   ]
  },
  {
   "cell_type": "markdown",
   "id": "e0f9dfe4",
   "metadata": {},
   "source": [
    "### 5. Model Fitting and Evaluation\n",
    "At this point in time, we will be fitting the given data to a multi-variable linear regression model. As we have checked the linear relationships in Part 1, we will not be doing these here again. \n",
    "\n",
    "Also, to evaluate the models, we will be looking at the three metrics: _Root Mean Squared Error (RMSE), Mean Absolute Error (MAE) and Coefficient of Determination, $R^2$_."
   ]
  },
  {
   "cell_type": "code",
   "execution_count": 9,
   "id": "a1e7c430",
   "metadata": {},
   "outputs": [],
   "source": [
    "# Function for metrics (Since we will be using this often)\n",
    "def model_metrics(model, X_mod, y_mod):\n",
    "    # Predicting the y values based on the given X_mod\n",
    "    y_mod_pred = model.predict(X_mod)       \n",
    "    \n",
    "    # Printing the metrics data\n",
    "    print(f'RMSE: {round(np.sqrt(mean_squared_error(y_mod, y_mod_pred)), 4)}')\n",
    "    print(f'MAE: {round(mean_absolute_error(y_mod, y_mod_pred), 2)}')\n",
    "    print(f'R2: {round(r2_score(y_mod, y_mod_pred), 4)}')"
   ]
  },
  {
   "cell_type": "code",
   "execution_count": 10,
   "id": "6f9198af",
   "metadata": {},
   "outputs": [],
   "source": [
    "# Function for cross val score (Since we will be using this often)\n",
    "def model_crossval(model, X_mod, y_mod, cv_mod=5):\n",
    "    # Printing the cross val scores\n",
    "    print(f'RMSE: {round(np.sqrt(-cross_val_score(model, X_mod, y_mod, scoring=\"neg_mean_squared_error\", cv=cv_mod).mean()), 4)}')\n",
    "    print(f'R2: {round(cross_val_score(model, X_mod, y_mod, cv=cv_mod).mean(), 4)}')"
   ]
  },
  {
   "cell_type": "markdown",
   "id": "6141baab",
   "metadata": {},
   "source": [
    "### 5.1 Scaling of data\n",
    "As our later models using Ridge and Lasso would require us to scale our data prior to modelling, we will be scaling the features in our dataset"
   ]
  },
  {
   "cell_type": "code",
   "execution_count": 11,
   "id": "1e0325e4",
   "metadata": {},
   "outputs": [],
   "source": [
    "# The columns that need to be scaled, taken from Part 1, dummy columns do not need to be scaled\n",
    "scale_cols = ['lot_frontage',\n",
    "              'lot_area',\n",
    "              'overall_qual', \n",
    "              'year_built', \n",
    "              'exter_qual', \n",
    "              'bsmt_qual', \n",
    "              'bsmt_exposure', \n",
    "              'total_bsmt_sf', \n",
    "              'heating_qc', \n",
    "              'gr_liv_area', \n",
    "              'full_bath', \n",
    "              'kitchen_qual', \n",
    "              'totrms_abvgrd', \n",
    "              'fireplaces', \n",
    "              'garage_area']"
   ]
  },
  {
   "cell_type": "code",
   "execution_count": 12,
   "id": "a2bd848e",
   "metadata": {},
   "outputs": [],
   "source": [
    "# Initializing the scaled dataframes in order to avoid the transformation of the original dataframes\n",
    "Z_train = X_train.copy()\n",
    "Z_test = X_test.copy()\n",
    "Z_kaggle = X_kaggle.copy()"
   ]
  },
  {
   "cell_type": "code",
   "execution_count": 13,
   "id": "5f12391a",
   "metadata": {},
   "outputs": [],
   "source": [
    "# Initializing the StandardScaler\n",
    "ss = StandardScaler()\n",
    "\n",
    "# Fit and transform the training data\n",
    "Z_train[scale_cols] = ss.fit_transform(Z_train[scale_cols])\n",
    "\n",
    "#Transform the testing data and the kaggle test dataset\n",
    "Z_test[scale_cols] = ss.transform(Z_test[scale_cols])\n",
    "Z_kaggle[scale_cols] = ss.transform(Z_kaggle[scale_cols])"
   ]
  },
  {
   "cell_type": "markdown",
   "id": "423e7932",
   "metadata": {},
   "source": [
    "### 5.2 Linear Regression\n",
    "Our first model to start off will be the Ordinary Least Squares Linear Regression or OLS. \n",
    "\n",
    "Since we have both the scaled and the unscaled data to model from, we will be using both here as well."
   ]
  },
  {
   "cell_type": "code",
   "execution_count": 14,
   "id": "fc344589",
   "metadata": {},
   "outputs": [
    {
     "data": {
      "text/plain": [
       "LinearRegression()"
      ]
     },
     "execution_count": 14,
     "metadata": {},
     "output_type": "execute_result"
    }
   ],
   "source": [
    "## Unscaled data\n",
    "# Initializing and fitting the model \n",
    "lr = LinearRegression()\n",
    "lr.fit(X_train, y_train)"
   ]
  },
  {
   "cell_type": "code",
   "execution_count": 15,
   "id": "a7823a5b",
   "metadata": {},
   "outputs": [
    {
     "name": "stdout",
     "output_type": "stream",
     "text": [
      "RMSE: 30818.775\n",
      "MAE: 19916.61\n",
      "R2: 0.8498\n"
     ]
    }
   ],
   "source": [
    "# Metrics for Linear Regression with Unscaled data for the training data\n",
    "model_metrics(lr, X_train, y_train)"
   ]
  },
  {
   "cell_type": "code",
   "execution_count": 16,
   "id": "457a72c5",
   "metadata": {
    "scrolled": true
   },
   "outputs": [
    {
     "name": "stdout",
     "output_type": "stream",
     "text": [
      "RMSE: 26866.9156\n",
      "MAE: 19634.45\n",
      "R2: 0.8824\n"
     ]
    }
   ],
   "source": [
    "# Metrics for Linear Regression with Unscaled data for the test data\n",
    "model_metrics(lr, X_test, y_test)"
   ]
  },
  {
   "cell_type": "code",
   "execution_count": 17,
   "id": "8fe90206",
   "metadata": {},
   "outputs": [
    {
     "name": "stdout",
     "output_type": "stream",
     "text": [
      "RMSE: 32499.3382\n",
      "R2: 0.8313\n"
     ]
    }
   ],
   "source": [
    "# Cross validation score for Linear Regression with Unscaled data\n",
    "model_crossval(lr, X_train, y_train, cv_mod=10)"
   ]
  },
  {
   "cell_type": "code",
   "execution_count": 18,
   "id": "234554bd",
   "metadata": {},
   "outputs": [
    {
     "data": {
      "text/plain": [
       "array([ 5.64082182e+01,  1.16274160e+00,  1.10626827e+04,  1.34173332e+02,\n",
       "        1.09954460e+04,  5.34192164e+03,  6.38570224e+03, -3.05053562e+00,\n",
       "        3.47235273e+03,  5.22221215e+01, -1.30589430e+03,  9.77599193e+03,\n",
       "        5.26111097e+02,  8.74988108e+03,  2.62663648e+01,  6.11416614e+04,\n",
       "        4.39979922e+04,  3.76673296e+04,  8.30230319e+03,  2.29517406e+03,\n",
       "        1.47164667e+03, -6.82043785e+02,  1.17280622e+04, -4.08175975e+03,\n",
       "        5.97043275e+03, -5.83126867e+01])"
      ]
     },
     "execution_count": 18,
     "metadata": {},
     "output_type": "execute_result"
    }
   ],
   "source": [
    "# Coefficients of Linear Regression with Unscaled data\n",
    "lr.coef_"
   ]
  },
  {
   "cell_type": "markdown",
   "id": "fb6956c6",
   "metadata": {},
   "source": [
    "The R2 scores for both the training and test data are 0.8498 and 0.8824 respectively, which is good since we are looking at how well the model is performing. The MAE scores for both the training and test data are 19916.6098 and 19634.4543 respectively, which is not very good. However the cross validation score of 0.8313 differs quite a bit from the R2 score, so the model does not work so well on unseen data and it is overfitting.\n",
    "\n",
    "The RMSE for the train and test data are at 30818.775 and 26866.9156 respectively, which is an improvement from the baseline scores. However, as above, it should be noted that the cross validation score with RMSE is at 32499.3382, means that this model does not do well with unseen data.\n",
    "\n",
    "|Model|Train/Test **RMSE**| Train/Test **MAE**| Train/Test **R2**|Cross val **RMSE**|Cross val **R2**|\n",
    "|:--:|:--:|:--:|:--:|:--:|:--:|\n",
    "|**Baseline**|79526.8522 / 78375.2624| -- | -- | -- | -- |\n",
    "|**Linear Regression (Unscaled)**| 30818.775 / 26866.9156 | 19916.61 / 19634.45 | 0.8498 / 0.8824 | 32499.3382 | 0.8313 |"
   ]
  },
  {
   "cell_type": "code",
   "execution_count": 19,
   "id": "69b9c6cd",
   "metadata": {},
   "outputs": [
    {
     "data": {
      "text/plain": [
       "LinearRegression()"
      ]
     },
     "execution_count": 19,
     "metadata": {},
     "output_type": "execute_result"
    }
   ],
   "source": [
    "## Scaled data\n",
    "# Initializing and fitting the model \n",
    "lr_ss = LinearRegression()\n",
    "lr_ss.fit(Z_train, y_train)"
   ]
  },
  {
   "cell_type": "code",
   "execution_count": 20,
   "id": "592f05d6",
   "metadata": {},
   "outputs": [
    {
     "name": "stdout",
     "output_type": "stream",
     "text": [
      "RMSE: 30818.775\n",
      "MAE: 19916.61\n",
      "R2: 0.8498\n"
     ]
    }
   ],
   "source": [
    "# Metrics for Linear Regression with Scaled data for the training data\n",
    "model_metrics(lr_ss, Z_train, y_train)"
   ]
  },
  {
   "cell_type": "code",
   "execution_count": 21,
   "id": "d1dc89e1",
   "metadata": {
    "scrolled": false
   },
   "outputs": [
    {
     "name": "stdout",
     "output_type": "stream",
     "text": [
      "RMSE: 26866.9156\n",
      "MAE: 19634.45\n",
      "R2: 0.8824\n"
     ]
    }
   ],
   "source": [
    "# Metrics for Linear Regression with Scaled data for the test data\n",
    "model_metrics(lr_ss, Z_test, y_test)"
   ]
  },
  {
   "cell_type": "code",
   "execution_count": 22,
   "id": "58dc1165",
   "metadata": {
    "scrolled": true
   },
   "outputs": [
    {
     "name": "stdout",
     "output_type": "stream",
     "text": [
      "RMSE: 32499.3382\n",
      "R2: 0.8313\n"
     ]
    }
   ],
   "source": [
    "# Cross validation score for Linear Regression with Scaled data\n",
    "model_crossval(lr_ss, Z_train, y_train, cv_mod=10)"
   ]
  },
  {
   "cell_type": "code",
   "execution_count": 23,
   "id": "9f1f974e",
   "metadata": {},
   "outputs": [
    {
     "data": {
      "text/plain": [
       "array([ 1.16928996e+03,  5.69709787e+03,  1.57979260e+04,  4.04720864e+03,\n",
       "        6.41481085e+03,  4.77414310e+03,  6.82184421e+03, -1.38869463e+03,\n",
       "        3.38341569e+03,  2.58949006e+04, -7.22278307e+02,  6.52032942e+03,\n",
       "        8.21861186e+02,  5.56879470e+03,  5.73119597e+03,  6.11416614e+04,\n",
       "        4.39979922e+04,  3.76673296e+04,  8.30230319e+03,  2.29517406e+03,\n",
       "        1.47164667e+03, -6.82043785e+02,  1.17280622e+04, -4.08175975e+03,\n",
       "        5.97043275e+03, -5.83126867e+01])"
      ]
     },
     "execution_count": 23,
     "metadata": {},
     "output_type": "execute_result"
    }
   ],
   "source": [
    "# Coefficients of Linear Regression with Scaled data\n",
    "lr_ss.coef_"
   ]
  },
  {
   "cell_type": "markdown",
   "id": "0f8ab83e",
   "metadata": {},
   "source": [
    "We have the exact same scores for both unscaled and scaled data. This should not be a surprise since scaling only standardizes the X values and does not affect the modelling in any way. The only difference is the coefficients of the model due to the scaling.\n",
    "\n",
    "|Model|Train/Test **RMSE**| Train/Test **MAE**| Train/Test **R2**|Cross val **RMSE**|Cross val **R2**|\n",
    "|:--:|:--:|:--:|:--:|:--:|:--:|\n",
    "|**Baseline**|79526.8522 / 78375.2624| -- | -- | -- | -- |\n",
    "|**Linear Regression**| 30818.775 / 26866.9156 | 19916.61 / 19634.45 | 0.8498 / 0.8824 | 32499.3382 | 0.8313 |\n"
   ]
  },
  {
   "cell_type": "markdown",
   "id": "dd4474ba",
   "metadata": {},
   "source": [
    "### 5.3 Ridge Regression\n",
    "The next step is regularization. First off, we will start with Ridge Regression."
   ]
  },
  {
   "cell_type": "code",
   "execution_count": 24,
   "id": "3c6a7a9a",
   "metadata": {
    "scrolled": true
   },
   "outputs": [
    {
     "data": {
      "text/plain": [
       "RidgeCV(alphas=array([1.00000000e+00, 1.12332403e+00, 1.26185688e+00, 1.41747416e+00,\n",
       "       1.59228279e+00, 1.78864953e+00, 2.00923300e+00, 2.25701972e+00,\n",
       "       2.53536449e+00, 2.84803587e+00, 3.19926714e+00, 3.59381366e+00,\n",
       "       4.03701726e+00, 4.53487851e+00, 5.09413801e+00, 5.72236766e+00,\n",
       "       6.42807312e+00, 7.22080902e+00, 8.11130831e+00, 9.11162756e+00,\n",
       "       1.02353102e+01, 1.14975700e+0...\n",
       "       6.89261210e+03, 7.74263683e+03, 8.69749003e+03, 9.77009957e+03,\n",
       "       1.09749877e+04, 1.23284674e+04, 1.38488637e+04, 1.55567614e+04,\n",
       "       1.74752840e+04, 1.96304065e+04, 2.20513074e+04, 2.47707636e+04,\n",
       "       2.78255940e+04, 3.12571585e+04, 3.51119173e+04, 3.94420606e+04,\n",
       "       4.43062146e+04, 4.97702356e+04, 5.59081018e+04, 6.28029144e+04,\n",
       "       7.05480231e+04, 7.92482898e+04, 8.90215085e+04, 1.00000000e+05]),\n",
       "        cv=10)"
      ]
     },
     "execution_count": 24,
     "metadata": {},
     "output_type": "execute_result"
    }
   ],
   "source": [
    "# Initializing and fitting the model \n",
    "r_alphas = np.logspace(0,5,100)\n",
    "ridge_cv = RidgeCV(alphas=r_alphas, cv=10)\n",
    "ridge_cv.fit(Z_train,y_train)"
   ]
  },
  {
   "cell_type": "code",
   "execution_count": 25,
   "id": "cad59341",
   "metadata": {},
   "outputs": [
    {
     "data": {
      "text/plain": [
       "2.8480358684358014"
      ]
     },
     "execution_count": 25,
     "metadata": {},
     "output_type": "execute_result"
    }
   ],
   "source": [
    "# Optimal value of alpha \n",
    "ridge_cv.alpha_"
   ]
  },
  {
   "cell_type": "code",
   "execution_count": 26,
   "id": "758fbee7",
   "metadata": {},
   "outputs": [
    {
     "data": {
      "text/plain": [
       "Ridge(alpha=2.8480358684358014)"
      ]
     },
     "execution_count": 26,
     "metadata": {},
     "output_type": "execute_result"
    }
   ],
   "source": [
    "# Initiate and fitting Ridge with the optimal value of alpha\n",
    "ridge = Ridge(alpha=ridge_cv.alpha_)\n",
    "ridge.fit(Z_train, y_train)"
   ]
  },
  {
   "cell_type": "code",
   "execution_count": 27,
   "id": "e7a975ae",
   "metadata": {
    "scrolled": true
   },
   "outputs": [
    {
     "name": "stdout",
     "output_type": "stream",
     "text": [
      "RMSE: 30837.174\n",
      "MAE: 19898.7\n",
      "R2: 0.8496\n"
     ]
    }
   ],
   "source": [
    "# Metrics for Ridge for the training data\n",
    "model_metrics(ridge, Z_train, y_train)"
   ]
  },
  {
   "cell_type": "code",
   "execution_count": 28,
   "id": "c9d8f5f7",
   "metadata": {},
   "outputs": [
    {
     "name": "stdout",
     "output_type": "stream",
     "text": [
      "RMSE: 26679.0112\n",
      "MAE: 19612.71\n",
      "R2: 0.8841\n"
     ]
    }
   ],
   "source": [
    "# Metrics for Ridge for the test data\n",
    "model_metrics(ridge, Z_test, y_test)"
   ]
  },
  {
   "cell_type": "code",
   "execution_count": 29,
   "id": "9d7ada1a",
   "metadata": {},
   "outputs": [
    {
     "name": "stdout",
     "output_type": "stream",
     "text": [
      "RMSE: 32500.1995\n",
      "R2: 0.8315\n"
     ]
    }
   ],
   "source": [
    "# Cross validation score for Ridge Regression for the training data\n",
    "model_crossval(ridge, Z_train, y_train, cv_mod=10)"
   ]
  },
  {
   "cell_type": "markdown",
   "id": "ecb95462",
   "metadata": {},
   "source": [
    "The R2 scores for both the training and test data are 0.8496 and 0.8841 respectively, indicating the model is doing slightly better than before. The MAE scores for both the training and test data are 19898.7 and 19612.71 respectively as well. Also, the cross validation score of 0.8315 means this is improving on the previous model.\n",
    "\n",
    "The RMSE for the train and test data are at 30837.174 and 26679.0112 respectively, indicates that there is some mitigation to the overfitting of the model. However, the cross validation score with RMSE is at 32500.1995 indicates little improvement in the area of overfitting.\n",
    "\n",
    "|Model|Train/Test **RMSE**| Train/Test **MAE**| Train/Test **R2**|Cross val **RMSE**|Cross val **R2**|\n",
    "|:--:|:--:|:--:|:--:|:--:|:--:|\n",
    "|**Baseline**|79526.8522 / 78375.2624| -- | -- | -- | -- |\n",
    "|**Linear Regression**| 30818.775 / 26866.9156 | 19916.61 / 19634.45 | 0.8498 / 0.8824 | 32499.3382 | 0.8313 |\n",
    "|**Ridge Regression**| 30837.174 / 26679.0112 | 19898.7 / 19612.71 | 0.8496 / 0.8841 | 32500.1995 | 0.8315 |"
   ]
  },
  {
   "cell_type": "markdown",
   "id": "3edf12fc",
   "metadata": {},
   "source": [
    "### 5.4 Lasso Regression\n",
    "After Ridge Regression, we will try Lasso Regression."
   ]
  },
  {
   "cell_type": "code",
   "execution_count": 30,
   "id": "4945b799",
   "metadata": {
    "scrolled": false
   },
   "outputs": [
    {
     "data": {
      "text/plain": [
       "LassoCV(cv=10, n_alphas=500)"
      ]
     },
     "execution_count": 30,
     "metadata": {},
     "output_type": "execute_result"
    }
   ],
   "source": [
    "# Initializing and fitting the model \n",
    "lasso_cv = LassoCV(n_alphas=500, cv=10)\n",
    "lasso_cv.fit(Z_train,y_train)"
   ]
  },
  {
   "cell_type": "code",
   "execution_count": 31,
   "id": "ee226e9d",
   "metadata": {},
   "outputs": [
    {
     "data": {
      "text/plain": [
       "143.23048922825134"
      ]
     },
     "execution_count": 31,
     "metadata": {},
     "output_type": "execute_result"
    }
   ],
   "source": [
    "# Optimal value of alpha \n",
    "lasso_cv.alpha_"
   ]
  },
  {
   "cell_type": "code",
   "execution_count": 32,
   "id": "70f4dc83",
   "metadata": {},
   "outputs": [
    {
     "data": {
      "text/plain": [
       "Lasso(alpha=143.23048922825134)"
      ]
     },
     "execution_count": 32,
     "metadata": {},
     "output_type": "execute_result"
    }
   ],
   "source": [
    "# Initiate and fitting Lasso with the optimal value of alpha\n",
    "lasso = Lasso(alpha=lasso_cv.alpha_)\n",
    "lasso.fit(Z_train, y_train)"
   ]
  },
  {
   "cell_type": "code",
   "execution_count": 33,
   "id": "d32cf45c",
   "metadata": {},
   "outputs": [
    {
     "name": "stdout",
     "output_type": "stream",
     "text": [
      "RMSE: 30890.5437\n",
      "MAE: 19807.77\n",
      "R2: 0.8491\n"
     ]
    }
   ],
   "source": [
    "# Metrics for Lasso for the training data\n",
    "model_metrics(lasso, Z_train, y_train)"
   ]
  },
  {
   "cell_type": "code",
   "execution_count": 34,
   "id": "c8657da7",
   "metadata": {},
   "outputs": [
    {
     "name": "stdout",
     "output_type": "stream",
     "text": [
      "RMSE: 26499.4763\n",
      "MAE: 19494.47\n",
      "R2: 0.8856\n"
     ]
    }
   ],
   "source": [
    "# Metrics for Lasso for the test data\n",
    "model_metrics(lasso, Z_test, y_test)"
   ]
  },
  {
   "cell_type": "code",
   "execution_count": 35,
   "id": "f86251e5",
   "metadata": {
    "scrolled": true
   },
   "outputs": [
    {
     "name": "stdout",
     "output_type": "stream",
     "text": [
      "RMSE: 32413.1619\n",
      "R2: 0.8326\n"
     ]
    }
   ],
   "source": [
    "# Cross validation score for Lasso Regression for the training data\n",
    "model_crossval(lasso, Z_train, y_train, cv_mod=10)"
   ]
  },
  {
   "cell_type": "markdown",
   "id": "4b5f731b",
   "metadata": {},
   "source": [
    "The R2 scores for both the training and test data are 0.8491 and 0.8856, indicating the model is doing slightly better than the previous two models with regards to the fitting. Also, the cross validation score of 0.8326 means this is improving on the previous models.\n",
    "\n",
    "The RMSE for the train and test data are at 30890.5437 and 26499.4763 respectively, indicates that there is some mitigation to the overfitting of the model. However, the cross validation score with RMSE is at 32413.1619 indicates some improvement in the area of overfitting.\n",
    "\n",
    "|Model|Train/Test **RMSE**| Train/Test **MAE**| Train/Test **R2**|Cross val **RMSE**|Cross val **R2**|\n",
    "|:--:|:--:|:--:|:--:|:--:|:--:|\n",
    "|**Baseline**|79526.8522 / 78375.2624| -- | -- | -- | -- |\n",
    "|**Linear Regression**| 30818.775 / 26866.9156 | 19916.61 / 19634.45 | 0.8498 / 0.8824 | 32499.3382 | 0.8313 |\n",
    "|**Ridge Regression**| 30837.174 / 26679.0112 | 19898.7 / 19612.71 | 0.8496 / 0.8841 | 32500.1995 | 0.8315 |\n",
    "|**Lasso Regression**| 30890.5437 / 26499.4763 | 19807.77 / 19494.47 | 0.8491 / 0.8856 | 32413.1619 | 0.8326 |"
   ]
  },
  {
   "cell_type": "code",
   "execution_count": 36,
   "id": "fdf98e82",
   "metadata": {
    "scrolled": true
   },
   "outputs": [
    {
     "data": {
      "text/html": [
       "<div>\n",
       "<style scoped>\n",
       "    .dataframe tbody tr th:only-of-type {\n",
       "        vertical-align: middle;\n",
       "    }\n",
       "\n",
       "    .dataframe tbody tr th {\n",
       "        vertical-align: top;\n",
       "    }\n",
       "\n",
       "    .dataframe thead th {\n",
       "        text-align: right;\n",
       "    }\n",
       "</style>\n",
       "<table border=\"1\" class=\"dataframe\">\n",
       "  <thead>\n",
       "    <tr style=\"text-align: right;\">\n",
       "      <th></th>\n",
       "      <th>feature</th>\n",
       "      <th>coef</th>\n",
       "      <th>abs_coef</th>\n",
       "    </tr>\n",
       "  </thead>\n",
       "  <tbody>\n",
       "    <tr>\n",
       "      <th>15</th>\n",
       "      <td>neighborhood_stonebr</td>\n",
       "      <td>51973.166787</td>\n",
       "      <td>51973.166787</td>\n",
       "    </tr>\n",
       "    <tr>\n",
       "      <th>16</th>\n",
       "      <td>neighborhood_nridght</td>\n",
       "      <td>39732.023002</td>\n",
       "      <td>39732.023002</td>\n",
       "    </tr>\n",
       "    <tr>\n",
       "      <th>17</th>\n",
       "      <td>neighborhood_noridge</td>\n",
       "      <td>29588.080102</td>\n",
       "      <td>29588.080102</td>\n",
       "    </tr>\n",
       "    <tr>\n",
       "      <th>9</th>\n",
       "      <td>gr_liv_area</td>\n",
       "      <td>25506.574176</td>\n",
       "      <td>25506.574176</td>\n",
       "    </tr>\n",
       "    <tr>\n",
       "      <th>2</th>\n",
       "      <td>overall_qual</td>\n",
       "      <td>16167.605753</td>\n",
       "      <td>16167.605753</td>\n",
       "    </tr>\n",
       "    <tr>\n",
       "      <th>22</th>\n",
       "      <td>house_1story</td>\n",
       "      <td>10840.294766</td>\n",
       "      <td>10840.294766</td>\n",
       "    </tr>\n",
       "    <tr>\n",
       "      <th>18</th>\n",
       "      <td>bsmt_fin_glq</td>\n",
       "      <td>7703.587228</td>\n",
       "      <td>7703.587228</td>\n",
       "    </tr>\n",
       "    <tr>\n",
       "      <th>6</th>\n",
       "      <td>bsmt_exposure</td>\n",
       "      <td>6808.148701</td>\n",
       "      <td>6808.148701</td>\n",
       "    </tr>\n",
       "    <tr>\n",
       "      <th>11</th>\n",
       "      <td>kitchen_qual</td>\n",
       "      <td>6761.540518</td>\n",
       "      <td>6761.540518</td>\n",
       "    </tr>\n",
       "    <tr>\n",
       "      <th>4</th>\n",
       "      <td>exter_qual</td>\n",
       "      <td>6709.092386</td>\n",
       "      <td>6709.092386</td>\n",
       "    </tr>\n",
       "    <tr>\n",
       "      <th>14</th>\n",
       "      <td>garage_area</td>\n",
       "      <td>5748.911112</td>\n",
       "      <td>5748.911112</td>\n",
       "    </tr>\n",
       "    <tr>\n",
       "      <th>1</th>\n",
       "      <td>lot_area</td>\n",
       "      <td>5717.252264</td>\n",
       "      <td>5717.252264</td>\n",
       "    </tr>\n",
       "    <tr>\n",
       "      <th>13</th>\n",
       "      <td>fireplaces</td>\n",
       "      <td>5607.999242</td>\n",
       "      <td>5607.999242</td>\n",
       "    </tr>\n",
       "    <tr>\n",
       "      <th>5</th>\n",
       "      <td>bsmt_qual</td>\n",
       "      <td>4249.054983</td>\n",
       "      <td>4249.054983</td>\n",
       "    </tr>\n",
       "    <tr>\n",
       "      <th>3</th>\n",
       "      <td>year_built</td>\n",
       "      <td>4175.773828</td>\n",
       "      <td>4175.773828</td>\n",
       "    </tr>\n",
       "    <tr>\n",
       "      <th>24</th>\n",
       "      <td>masvnr_stone</td>\n",
       "      <td>4122.378394</td>\n",
       "      <td>4122.378394</td>\n",
       "    </tr>\n",
       "    <tr>\n",
       "      <th>8</th>\n",
       "      <td>heating_qc</td>\n",
       "      <td>3124.536169</td>\n",
       "      <td>3124.536169</td>\n",
       "    </tr>\n",
       "    <tr>\n",
       "      <th>23</th>\n",
       "      <td>house_2story</td>\n",
       "      <td>-2531.880656</td>\n",
       "      <td>2531.880656</td>\n",
       "    </tr>\n",
       "    <tr>\n",
       "      <th>0</th>\n",
       "      <td>lot_frontage</td>\n",
       "      <td>1254.714822</td>\n",
       "      <td>1254.714822</td>\n",
       "    </tr>\n",
       "    <tr>\n",
       "      <th>12</th>\n",
       "      <td>totrms_abvgrd</td>\n",
       "      <td>452.984115</td>\n",
       "      <td>452.984115</td>\n",
       "    </tr>\n",
       "    <tr>\n",
       "      <th>10</th>\n",
       "      <td>full_bath</td>\n",
       "      <td>-368.536668</td>\n",
       "      <td>368.536668</td>\n",
       "    </tr>\n",
       "    <tr>\n",
       "      <th>19</th>\n",
       "      <td>garage_builtin</td>\n",
       "      <td>0.000000</td>\n",
       "      <td>0.000000</td>\n",
       "    </tr>\n",
       "    <tr>\n",
       "      <th>20</th>\n",
       "      <td>garage_attchd</td>\n",
       "      <td>0.000000</td>\n",
       "      <td>0.000000</td>\n",
       "    </tr>\n",
       "    <tr>\n",
       "      <th>21</th>\n",
       "      <td>foundation_pconc</td>\n",
       "      <td>0.000000</td>\n",
       "      <td>0.000000</td>\n",
       "    </tr>\n",
       "    <tr>\n",
       "      <th>7</th>\n",
       "      <td>total_bsmt_sf</td>\n",
       "      <td>-0.000000</td>\n",
       "      <td>0.000000</td>\n",
       "    </tr>\n",
       "    <tr>\n",
       "      <th>25</th>\n",
       "      <td>masvnr_brkface</td>\n",
       "      <td>-0.000000</td>\n",
       "      <td>0.000000</td>\n",
       "    </tr>\n",
       "  </tbody>\n",
       "</table>\n",
       "</div>"
      ],
      "text/plain": [
       "                 feature          coef      abs_coef\n",
       "15  neighborhood_stonebr  51973.166787  51973.166787\n",
       "16  neighborhood_nridght  39732.023002  39732.023002\n",
       "17  neighborhood_noridge  29588.080102  29588.080102\n",
       "9            gr_liv_area  25506.574176  25506.574176\n",
       "2           overall_qual  16167.605753  16167.605753\n",
       "22          house_1story  10840.294766  10840.294766\n",
       "18          bsmt_fin_glq   7703.587228   7703.587228\n",
       "6          bsmt_exposure   6808.148701   6808.148701\n",
       "11          kitchen_qual   6761.540518   6761.540518\n",
       "4             exter_qual   6709.092386   6709.092386\n",
       "14           garage_area   5748.911112   5748.911112\n",
       "1               lot_area   5717.252264   5717.252264\n",
       "13            fireplaces   5607.999242   5607.999242\n",
       "5              bsmt_qual   4249.054983   4249.054983\n",
       "3             year_built   4175.773828   4175.773828\n",
       "24          masvnr_stone   4122.378394   4122.378394\n",
       "8             heating_qc   3124.536169   3124.536169\n",
       "23          house_2story  -2531.880656   2531.880656\n",
       "0           lot_frontage   1254.714822   1254.714822\n",
       "12         totrms_abvgrd    452.984115    452.984115\n",
       "10             full_bath   -368.536668    368.536668\n",
       "19        garage_builtin      0.000000      0.000000\n",
       "20         garage_attchd      0.000000      0.000000\n",
       "21      foundation_pconc      0.000000      0.000000\n",
       "7          total_bsmt_sf     -0.000000      0.000000\n",
       "25        masvnr_brkface     -0.000000      0.000000"
      ]
     },
     "execution_count": 36,
     "metadata": {},
     "output_type": "execute_result"
    }
   ],
   "source": [
    "# Displaying the coefficients of lasso\n",
    "lasso_coef = pd.DataFrame({'feature': X.columns,\n",
    "                          'coef': lasso.coef_,\n",
    "                          'abs_coef':np.abs(lasso.coef_)})\n",
    "lasso_coef.sort_values('abs_coef', ascending=False)"
   ]
  },
  {
   "cell_type": "markdown",
   "id": "cefc0ffc",
   "metadata": {},
   "source": [
    "### 5.5 Polynomial Features\n",
    "At this point in time, our best model is the Lasso Regression model.\n",
    "\n",
    "Next, we will attempt to see if generating interaction terms might get us better results."
   ]
  },
  {
   "cell_type": "markdown",
   "id": "55082611",
   "metadata": {},
   "source": [
    "#### 5.5.1 Using self-generated interaction terms on the Lasso Regression model"
   ]
  },
  {
   "cell_type": "code",
   "execution_count": 37,
   "id": "e2f65939",
   "metadata": {
    "scrolled": true
   },
   "outputs": [
    {
     "data": {
      "text/plain": [
       "saleprice               1.000000\n",
       "overall_qual            0.800207\n",
       "exter_qual              0.712146\n",
       "gr_liv_area             0.709702\n",
       "kitchen_qual            0.692336\n",
       "garage_area             0.650246\n",
       "total_bsmt_sf           0.629303\n",
       "bsmt_qual               0.612188\n",
       "year_built              0.571849\n",
       "full_bath               0.537969\n",
       "foundation_pconc        0.529047\n",
       "totrms_abvgrd           0.504014\n",
       "fireplaces              0.471093\n",
       "bsmt_fin_glq            0.463549\n",
       "heating_qc              0.458354\n",
       "neighborhood_nridght    0.448647\n",
       "bsmt_exposure           0.424863\n",
       "lot_area                0.361831\n",
       "garage_attchd           0.357879\n",
       "lot_frontage            0.340446\n",
       "masvnr_stone            0.310026\n",
       "neighborhood_noridge    0.263395\n",
       "masvnr_brkface          0.257901\n",
       "neighborhood_stonebr    0.256977\n",
       "garage_builtin          0.219820\n",
       "house_2story            0.201911\n",
       "id                      0.051398\n",
       "house_1story            0.021652\n",
       "Name: saleprice, dtype: float64"
      ]
     },
     "execution_count": 37,
     "metadata": {},
     "output_type": "execute_result"
    }
   ],
   "source": [
    "# Checking the correlation with 'saleprice'\n",
    "feat_corr = df_train_clean.corr()['saleprice']\n",
    "feat_corr.abs().sort_values(ascending=False)"
   ]
  },
  {
   "cell_type": "markdown",
   "id": "731d53a6",
   "metadata": {},
   "source": [
    "Looking at the large coefficient terms for the three types of neighbourhood, and then the small coefficient terms for `Lot Area` and `Lot Frontage` from the Lasso Regression Model, and looking at the relatively low correlation above, these will be the newly generated interaction terms that we have selected for the new model."
   ]
  },
  {
   "cell_type": "code",
   "execution_count": 38,
   "id": "900b3e78",
   "metadata": {},
   "outputs": [],
   "source": [
    "# Function to create interaction terms for the dataframe\n",
    "def interact_df(dataframe):\n",
    "    \n",
    "    # Creating the new interaction terms with Lot Area and the three neighbourhoods\n",
    "    dataframe['neighborhood_stonebr * lot_area'] = dataframe['neighborhood_stonebr'] * dataframe['lot_area']\n",
    "    dataframe['neighborhood_nridght * lot_area'] = dataframe['neighborhood_nridght'] * dataframe['lot_area']\n",
    "    dataframe['neighborhood_noridge * lot_area'] = dataframe['neighborhood_noridge'] * dataframe['lot_area']\n",
    "        \n",
    "    # Creating the new interaction terms with Lot Frontage and the three neighbourhoods\n",
    "    dataframe['neighborhood_stonebr * lot_frontage'] = dataframe['neighborhood_stonebr'] * dataframe['lot_frontage']\n",
    "    dataframe['neighborhood_nridght * lot_frontage'] = dataframe['neighborhood_nridght'] * dataframe['lot_frontage']\n",
    "    dataframe['neighborhood_noridge * lot_frontage'] = dataframe['neighborhood_noridge'] * dataframe['lot_frontage']\n",
    "  \n",
    "    return dataframe"
   ]
  },
  {
   "cell_type": "code",
   "execution_count": 39,
   "id": "514bd823",
   "metadata": {},
   "outputs": [],
   "source": [
    "# Adding the interaction terms to the dataframes\n",
    "Z_train_interact = interact_df(dataframe = Z_train.copy())\n",
    "Z_test_interact = interact_df(dataframe = Z_test.copy())"
   ]
  },
  {
   "cell_type": "code",
   "execution_count": 40,
   "id": "ebd6a03e",
   "metadata": {},
   "outputs": [
    {
     "data": {
      "text/plain": [
       "LassoCV(cv=10, n_alphas=500)"
      ]
     },
     "execution_count": 40,
     "metadata": {},
     "output_type": "execute_result"
    }
   ],
   "source": [
    "# Initializing and fitting the model \n",
    "lasso_cv_interact = LassoCV(n_alphas=500, cv=10)\n",
    "lasso_cv_interact.fit(Z_train_interact,y_train)"
   ]
  },
  {
   "cell_type": "code",
   "execution_count": 41,
   "id": "068996ee",
   "metadata": {},
   "outputs": [
    {
     "data": {
      "text/plain": [
       "245.75616043115068"
      ]
     },
     "execution_count": 41,
     "metadata": {},
     "output_type": "execute_result"
    }
   ],
   "source": [
    "# Optimal value of alpha \n",
    "lasso_cv_interact.alpha_"
   ]
  },
  {
   "cell_type": "code",
   "execution_count": 42,
   "id": "f0a6c041",
   "metadata": {},
   "outputs": [
    {
     "data": {
      "text/plain": [
       "Lasso(alpha=245.75616043115068)"
      ]
     },
     "execution_count": 42,
     "metadata": {},
     "output_type": "execute_result"
    }
   ],
   "source": [
    "# Initiate and fitting Lasso with poly with the optimal value of alpha\n",
    "lasso_interact = Lasso(alpha=lasso_cv_interact.alpha_)\n",
    "lasso_interact.fit(Z_train_interact, y_train)"
   ]
  },
  {
   "cell_type": "code",
   "execution_count": 43,
   "id": "8ca2f9e9",
   "metadata": {
    "scrolled": true
   },
   "outputs": [
    {
     "name": "stdout",
     "output_type": "stream",
     "text": [
      "RMSE: 28784.1962\n",
      "MAE: 18938.95\n",
      "R2: 0.869\n"
     ]
    }
   ],
   "source": [
    "# Metrics for Lasso with poly for the training data\n",
    "model_metrics(lasso_interact, Z_train_interact, y_train)"
   ]
  },
  {
   "cell_type": "code",
   "execution_count": 44,
   "id": "a7d435d0",
   "metadata": {},
   "outputs": [
    {
     "name": "stdout",
     "output_type": "stream",
     "text": [
      "RMSE: 25083.6057\n",
      "MAE: 18487.04\n",
      "R2: 0.8975\n"
     ]
    }
   ],
   "source": [
    "# Metrics for Lasso with poly for the test data\n",
    "model_metrics(lasso_interact, Z_test_interact, y_test)"
   ]
  },
  {
   "cell_type": "code",
   "execution_count": 45,
   "id": "8ed1d998",
   "metadata": {
    "scrolled": false
   },
   "outputs": [
    {
     "name": "stdout",
     "output_type": "stream",
     "text": [
      "RMSE: 30763.6683\n",
      "R2: 0.8484\n"
     ]
    }
   ],
   "source": [
    "# Cross validation score for Lasso Regression with poly for the training data\n",
    "model_crossval(lasso_interact, Z_train_interact, y_train, cv_mod=10)"
   ]
  },
  {
   "cell_type": "markdown",
   "id": "a8f06713",
   "metadata": {},
   "source": [
    "The R2 scores for both the training and test data are 0.869 and 0.8975 respectively. Also, the cross validation score of 0.8484 means the act of adding interaction terms has made the model more accurate at predicting the `SalePrice`.\n",
    "\n",
    "The RMSE for the train and test data are at 28784.1962 and 25083.6057 respectively. Also, the cross validation score with RMSE is at 30763.6683 indicates the act of adding more interaction terms has made the model more accurate than before.\n",
    "\n",
    "|Model|Train/Test **RMSE**| Train/Test **MAE**| Train/Test **R2**|Cross val **RMSE**|Cross val **R2**| No. of Features|\n",
    "|:--:|:--:|:--:|:--:|:--:|:--:|:--:|\n",
    "|**Baseline**|79526.8522 / 78375.2624| -- | -- | -- | -- | 26 |\n",
    "|**Linear Regression**| 30818.775 / 26866.9156 | 19916.61 / 19634.45 | 0.8498 / 0.8824 | 32499.3382 | 0.8313 | 26 |\n",
    "|**Ridge Regression**| 30837.174 / 26679.0112 | 19898.7 / 19612.71 | 0.8496 / 0.8841 | 32500.1995 | 0.8315 | 26 |\n",
    "|**Lasso Regression**| 30890.5437 / 26499.4763 | 19807.77 / 19494.47 | 0.8491 / 0.8856 | 32413.1619 | 0.8326 | 26 |\n",
    "|**Lasso Regression (interaction terms)**| 28784.1962 / 25083.6057 | 18938.95 / 18487.04 | 0.869 / 0.8975 | 30763.6683 | 0.8484 | 32 |"
   ]
  },
  {
   "cell_type": "code",
   "execution_count": 46,
   "id": "525f4f22",
   "metadata": {
    "scrolled": true
   },
   "outputs": [
    {
     "data": {
      "text/html": [
       "<div>\n",
       "<style scoped>\n",
       "    .dataframe tbody tr th:only-of-type {\n",
       "        vertical-align: middle;\n",
       "    }\n",
       "\n",
       "    .dataframe tbody tr th {\n",
       "        vertical-align: top;\n",
       "    }\n",
       "\n",
       "    .dataframe thead th {\n",
       "        text-align: right;\n",
       "    }\n",
       "</style>\n",
       "<table border=\"1\" class=\"dataframe\">\n",
       "  <thead>\n",
       "    <tr style=\"text-align: right;\">\n",
       "      <th></th>\n",
       "      <th>feature</th>\n",
       "      <th>coef</th>\n",
       "      <th>abs_coef</th>\n",
       "    </tr>\n",
       "  </thead>\n",
       "  <tbody>\n",
       "    <tr>\n",
       "      <th>27</th>\n",
       "      <td>neighborhood_nridght * lot_area</td>\n",
       "      <td>40175.840555</td>\n",
       "      <td>40175.840555</td>\n",
       "    </tr>\n",
       "    <tr>\n",
       "      <th>15</th>\n",
       "      <td>neighborhood_stonebr</td>\n",
       "      <td>35170.605063</td>\n",
       "      <td>35170.605063</td>\n",
       "    </tr>\n",
       "    <tr>\n",
       "      <th>26</th>\n",
       "      <td>neighborhood_stonebr * lot_area</td>\n",
       "      <td>33118.463030</td>\n",
       "      <td>33118.463030</td>\n",
       "    </tr>\n",
       "    <tr>\n",
       "      <th>16</th>\n",
       "      <td>neighborhood_nridght</td>\n",
       "      <td>26855.775796</td>\n",
       "      <td>26855.775796</td>\n",
       "    </tr>\n",
       "    <tr>\n",
       "      <th>9</th>\n",
       "      <td>gr_liv_area</td>\n",
       "      <td>25338.149103</td>\n",
       "      <td>25338.149103</td>\n",
       "    </tr>\n",
       "    <tr>\n",
       "      <th>17</th>\n",
       "      <td>neighborhood_noridge</td>\n",
       "      <td>17186.963128</td>\n",
       "      <td>17186.963128</td>\n",
       "    </tr>\n",
       "    <tr>\n",
       "      <th>2</th>\n",
       "      <td>overall_qual</td>\n",
       "      <td>16392.860313</td>\n",
       "      <td>16392.860313</td>\n",
       "    </tr>\n",
       "    <tr>\n",
       "      <th>28</th>\n",
       "      <td>neighborhood_noridge * lot_area</td>\n",
       "      <td>15520.623040</td>\n",
       "      <td>15520.623040</td>\n",
       "    </tr>\n",
       "    <tr>\n",
       "      <th>22</th>\n",
       "      <td>house_1story</td>\n",
       "      <td>11477.383130</td>\n",
       "      <td>11477.383130</td>\n",
       "    </tr>\n",
       "    <tr>\n",
       "      <th>18</th>\n",
       "      <td>bsmt_fin_glq</td>\n",
       "      <td>8087.091292</td>\n",
       "      <td>8087.091292</td>\n",
       "    </tr>\n",
       "    <tr>\n",
       "      <th>11</th>\n",
       "      <td>kitchen_qual</td>\n",
       "      <td>6754.616952</td>\n",
       "      <td>6754.616952</td>\n",
       "    </tr>\n",
       "    <tr>\n",
       "      <th>13</th>\n",
       "      <td>fireplaces</td>\n",
       "      <td>6313.381681</td>\n",
       "      <td>6313.381681</td>\n",
       "    </tr>\n",
       "    <tr>\n",
       "      <th>6</th>\n",
       "      <td>bsmt_exposure</td>\n",
       "      <td>6237.683598</td>\n",
       "      <td>6237.683598</td>\n",
       "    </tr>\n",
       "    <tr>\n",
       "      <th>4</th>\n",
       "      <td>exter_qual</td>\n",
       "      <td>6146.744407</td>\n",
       "      <td>6146.744407</td>\n",
       "    </tr>\n",
       "    <tr>\n",
       "      <th>14</th>\n",
       "      <td>garage_area</td>\n",
       "      <td>5680.921069</td>\n",
       "      <td>5680.921069</td>\n",
       "    </tr>\n",
       "    <tr>\n",
       "      <th>24</th>\n",
       "      <td>masvnr_stone</td>\n",
       "      <td>5281.837608</td>\n",
       "      <td>5281.837608</td>\n",
       "    </tr>\n",
       "    <tr>\n",
       "      <th>31</th>\n",
       "      <td>neighborhood_noridge * lot_frontage</td>\n",
       "      <td>4031.726595</td>\n",
       "      <td>4031.726595</td>\n",
       "    </tr>\n",
       "    <tr>\n",
       "      <th>3</th>\n",
       "      <td>year_built</td>\n",
       "      <td>3997.978208</td>\n",
       "      <td>3997.978208</td>\n",
       "    </tr>\n",
       "    <tr>\n",
       "      <th>5</th>\n",
       "      <td>bsmt_qual</td>\n",
       "      <td>3712.640191</td>\n",
       "      <td>3712.640191</td>\n",
       "    </tr>\n",
       "    <tr>\n",
       "      <th>8</th>\n",
       "      <td>heating_qc</td>\n",
       "      <td>3341.102271</td>\n",
       "      <td>3341.102271</td>\n",
       "    </tr>\n",
       "    <tr>\n",
       "      <th>23</th>\n",
       "      <td>house_2story</td>\n",
       "      <td>-3284.255631</td>\n",
       "      <td>3284.255631</td>\n",
       "    </tr>\n",
       "    <tr>\n",
       "      <th>20</th>\n",
       "      <td>garage_attchd</td>\n",
       "      <td>2362.915449</td>\n",
       "      <td>2362.915449</td>\n",
       "    </tr>\n",
       "    <tr>\n",
       "      <th>1</th>\n",
       "      <td>lot_area</td>\n",
       "      <td>2114.852353</td>\n",
       "      <td>2114.852353</td>\n",
       "    </tr>\n",
       "    <tr>\n",
       "      <th>0</th>\n",
       "      <td>lot_frontage</td>\n",
       "      <td>1112.269139</td>\n",
       "      <td>1112.269139</td>\n",
       "    </tr>\n",
       "    <tr>\n",
       "      <th>25</th>\n",
       "      <td>masvnr_brkface</td>\n",
       "      <td>-188.721992</td>\n",
       "      <td>188.721992</td>\n",
       "    </tr>\n",
       "    <tr>\n",
       "      <th>12</th>\n",
       "      <td>totrms_abvgrd</td>\n",
       "      <td>-0.000000</td>\n",
       "      <td>0.000000</td>\n",
       "    </tr>\n",
       "    <tr>\n",
       "      <th>19</th>\n",
       "      <td>garage_builtin</td>\n",
       "      <td>0.000000</td>\n",
       "      <td>0.000000</td>\n",
       "    </tr>\n",
       "    <tr>\n",
       "      <th>21</th>\n",
       "      <td>foundation_pconc</td>\n",
       "      <td>0.000000</td>\n",
       "      <td>0.000000</td>\n",
       "    </tr>\n",
       "    <tr>\n",
       "      <th>10</th>\n",
       "      <td>full_bath</td>\n",
       "      <td>-0.000000</td>\n",
       "      <td>0.000000</td>\n",
       "    </tr>\n",
       "    <tr>\n",
       "      <th>7</th>\n",
       "      <td>total_bsmt_sf</td>\n",
       "      <td>-0.000000</td>\n",
       "      <td>0.000000</td>\n",
       "    </tr>\n",
       "    <tr>\n",
       "      <th>29</th>\n",
       "      <td>neighborhood_stonebr * lot_frontage</td>\n",
       "      <td>0.000000</td>\n",
       "      <td>0.000000</td>\n",
       "    </tr>\n",
       "    <tr>\n",
       "      <th>30</th>\n",
       "      <td>neighborhood_nridght * lot_frontage</td>\n",
       "      <td>0.000000</td>\n",
       "      <td>0.000000</td>\n",
       "    </tr>\n",
       "  </tbody>\n",
       "</table>\n",
       "</div>"
      ],
      "text/plain": [
       "                                feature          coef      abs_coef\n",
       "27      neighborhood_nridght * lot_area  40175.840555  40175.840555\n",
       "15                 neighborhood_stonebr  35170.605063  35170.605063\n",
       "26      neighborhood_stonebr * lot_area  33118.463030  33118.463030\n",
       "16                 neighborhood_nridght  26855.775796  26855.775796\n",
       "9                           gr_liv_area  25338.149103  25338.149103\n",
       "17                 neighborhood_noridge  17186.963128  17186.963128\n",
       "2                          overall_qual  16392.860313  16392.860313\n",
       "28      neighborhood_noridge * lot_area  15520.623040  15520.623040\n",
       "22                         house_1story  11477.383130  11477.383130\n",
       "18                         bsmt_fin_glq   8087.091292   8087.091292\n",
       "11                         kitchen_qual   6754.616952   6754.616952\n",
       "13                           fireplaces   6313.381681   6313.381681\n",
       "6                         bsmt_exposure   6237.683598   6237.683598\n",
       "4                            exter_qual   6146.744407   6146.744407\n",
       "14                          garage_area   5680.921069   5680.921069\n",
       "24                         masvnr_stone   5281.837608   5281.837608\n",
       "31  neighborhood_noridge * lot_frontage   4031.726595   4031.726595\n",
       "3                            year_built   3997.978208   3997.978208\n",
       "5                             bsmt_qual   3712.640191   3712.640191\n",
       "8                            heating_qc   3341.102271   3341.102271\n",
       "23                         house_2story  -3284.255631   3284.255631\n",
       "20                        garage_attchd   2362.915449   2362.915449\n",
       "1                              lot_area   2114.852353   2114.852353\n",
       "0                          lot_frontage   1112.269139   1112.269139\n",
       "25                       masvnr_brkface   -188.721992    188.721992\n",
       "12                        totrms_abvgrd     -0.000000      0.000000\n",
       "19                       garage_builtin      0.000000      0.000000\n",
       "21                     foundation_pconc      0.000000      0.000000\n",
       "10                            full_bath     -0.000000      0.000000\n",
       "7                         total_bsmt_sf     -0.000000      0.000000\n",
       "29  neighborhood_stonebr * lot_frontage      0.000000      0.000000\n",
       "30  neighborhood_nridght * lot_frontage      0.000000      0.000000"
      ]
     },
     "execution_count": 46,
     "metadata": {},
     "output_type": "execute_result"
    }
   ],
   "source": [
    "# Displaying the coefficients of lasso model with interaction terms\n",
    "interact_coef = pd.DataFrame({'feature': Z_train_interact.columns,\n",
    "                          'coef': lasso_interact.coef_,\n",
    "                          'abs_coef':np.abs(lasso_interact.coef_)})\n",
    "interact_coef.sort_values('abs_coef', ascending=False)"
   ]
  },
  {
   "cell_type": "markdown",
   "id": "973ba224",
   "metadata": {},
   "source": [
    "#### 5.5.2 Lasso with Polynomial Features\n",
    "Since we have done modelling with interaction terms generated by ourselves, let's try the brute-force method with `PolynomialFeatures`. [Note that this is not a very feasible method as a lot of feature columns are generated]"
   ]
  },
  {
   "cell_type": "code",
   "execution_count": 47,
   "id": "48faf2ae",
   "metadata": {},
   "outputs": [],
   "source": [
    "# Initializing the PolynomialFeatures\n",
    "poly = PolynomialFeatures(degree=2, include_bias=False)\n",
    "\n",
    "# Fit and transform the scaled training data\n",
    "Z_train_poly = poly.fit_transform(Z_train)\n",
    "\n",
    "#Transform the scaled testing data and the scaled kaggle test dataset\n",
    "Z_test_poly = poly.transform(Z_test)\n",
    "Z_kaggle_poly = poly.transform(Z_kaggle)"
   ]
  },
  {
   "cell_type": "code",
   "execution_count": 69,
   "id": "fa537b2d",
   "metadata": {},
   "outputs": [
    {
     "data": {
      "text/plain": [
       "(1538, 377)"
      ]
     },
     "execution_count": 69,
     "metadata": {},
     "output_type": "execute_result"
    }
   ],
   "source": [
    "# Shape of the new Z variable\n",
    "Z_train_poly.shape"
   ]
  },
  {
   "cell_type": "code",
   "execution_count": 48,
   "id": "8233609e",
   "metadata": {},
   "outputs": [
    {
     "data": {
      "text/plain": [
       "LassoCV(cv=10, n_alphas=500)"
      ]
     },
     "execution_count": 48,
     "metadata": {},
     "output_type": "execute_result"
    }
   ],
   "source": [
    "# Initializing and fitting the model \n",
    "lasso_cv_poly = LassoCV(n_alphas=500, cv=10)\n",
    "lasso_cv_poly.fit(Z_train_poly,y_train)"
   ]
  },
  {
   "cell_type": "code",
   "execution_count": 49,
   "id": "006187ba",
   "metadata": {},
   "outputs": [
    {
     "data": {
      "text/plain": [
       "302.4717186002478"
      ]
     },
     "execution_count": 49,
     "metadata": {},
     "output_type": "execute_result"
    }
   ],
   "source": [
    "# Optimal value of alpha \n",
    "lasso_cv_poly.alpha_"
   ]
  },
  {
   "cell_type": "code",
   "execution_count": 50,
   "id": "de066ba8",
   "metadata": {},
   "outputs": [
    {
     "data": {
      "text/plain": [
       "Lasso(alpha=302.4717186002478)"
      ]
     },
     "execution_count": 50,
     "metadata": {},
     "output_type": "execute_result"
    }
   ],
   "source": [
    "# Initiate and fitting Lasso with poly with the optimal value of alpha\n",
    "lasso_poly = Lasso(alpha=lasso_cv_poly.alpha_)\n",
    "lasso_poly.fit(Z_train_poly, y_train)"
   ]
  },
  {
   "cell_type": "code",
   "execution_count": 51,
   "id": "4dacf79c",
   "metadata": {},
   "outputs": [
    {
     "name": "stdout",
     "output_type": "stream",
     "text": [
      "RMSE: 21398.005\n",
      "MAE: 14962.62\n",
      "R2: 0.9276\n"
     ]
    }
   ],
   "source": [
    "# Metrics for Lasso with poly for the training data\n",
    "model_metrics(lasso_poly, Z_train_poly, y_train)"
   ]
  },
  {
   "cell_type": "code",
   "execution_count": 52,
   "id": "5e57b25c",
   "metadata": {},
   "outputs": [
    {
     "name": "stdout",
     "output_type": "stream",
     "text": [
      "RMSE: 22423.2328\n",
      "MAE: 16136.06\n",
      "R2: 0.9181\n"
     ]
    }
   ],
   "source": [
    "# Metrics for Lasso with poly for the test data\n",
    "model_metrics(lasso_poly, Z_test_poly, y_test)"
   ]
  },
  {
   "cell_type": "code",
   "execution_count": 53,
   "id": "100510d2",
   "metadata": {
    "scrolled": true
   },
   "outputs": [
    {
     "name": "stdout",
     "output_type": "stream",
     "text": [
      "RMSE: 27024.0471\n",
      "R2: 0.8866\n"
     ]
    }
   ],
   "source": [
    "# Cross validation score for Lasso Regression with poly for the training data\n",
    "model_crossval(lasso_poly, Z_train_poly, y_train, cv_mod=10)"
   ]
  },
  {
   "cell_type": "markdown",
   "id": "89713d1a",
   "metadata": {},
   "source": [
    "The R2 scores for both the training and test data are 0.9276 and 0.9181 respectively. Also, the cross validation score of 0.8866 means the act of creating the polynominal features has made the model more accurate at predicting the `SalePrice`.\n",
    "\n",
    "The RMSE for the train and test data are at 21398.005 and 22423.2328 respectively. Also, the cross validation score with RMSE is at 27024.0471 indicates the act of adding more interaction terms than the previous model has made the model more accurate than before.\n",
    "\n",
    "However, it should be noted that a lot of features are now included which is not feasible for modelling, and many of the coefficients of the features are zero as well.\n",
    "\n",
    "|Model|Train/Test **RMSE**| Train/Test **MAE**| Train/Test **R2**|Cross val **RMSE**|Cross val **R2**| No. of Features|\n",
    "|:--:|:--:|:--:|:--:|:--:|:--:|:--:|\n",
    "|**Baseline**|79526.8522 / 78375.2624| -- | -- | -- | -- | 26 |\n",
    "|**Linear Regression**| 30818.775 / 26866.9156 | 19916.61 / 19634.45 | 0.8498 / 0.8824 | 32499.3382 | 0.8313 | 26 |\n",
    "|**Ridge Regression**| 30837.174 / 26679.0112 | 19898.7 / 19612.71 | 0.8496 / 0.8841 | 32500.1995 | 0.8315 | 26 |\n",
    "|**Lasso Regression**| 30890.5437 / 26499.4763 | 19807.77 / 19494.47 | 0.8491 / 0.8856 | 32413.1619 | 0.8326 | 26 |\n",
    "|**Lasso Regression (interaction terms)**| 28784.1962 / 25083.6057 | 18938.95 / 18487.04 | 0.869 / 0.8975 | 30763.6683 | 0.8484 | 32 |\n",
    "|**Lasso Regression (polynominal features)**| 21398.005 / 22423.2328 | 14962.62 / 16136.06 | 0.9276 / 0.9181 | 27024.0471 | 0.8866 | 377 |"
   ]
  },
  {
   "cell_type": "markdown",
   "id": "5e9bb947",
   "metadata": {},
   "source": [
    "### 6. Final Model\n",
    "Based on the results of the previous models, despite the non-feasibility of the model, we can see the Lasso model with Polynomial Features is doing the best. As such, we will be using to fit the entire training dataset in order to predict the `SalePrice` for the test dataframe."
   ]
  },
  {
   "cell_type": "code",
   "execution_count": 54,
   "id": "b1937591",
   "metadata": {
    "scrolled": true
   },
   "outputs": [
    {
     "data": {
      "text/plain": [
       "LassoCV(cv=10, n_alphas=500)"
      ]
     },
     "execution_count": 54,
     "metadata": {},
     "output_type": "execute_result"
    }
   ],
   "source": [
    "# Initiating the Scaled dataset and scaling\n",
    "Z = X.copy()\n",
    "Z[scale_cols] = ss.fit_transform(Z[scale_cols])\n",
    "\n",
    "# Fit and transform the scaled training data with polynomial features\n",
    "Z_poly = poly.fit_transform(Z)\n",
    "\n",
    "# Initializing and fitting the final model \n",
    "lasso_cv_final = LassoCV(n_alphas=500, cv=10)\n",
    "lasso_cv_final.fit(Z_poly, y)"
   ]
  },
  {
   "cell_type": "code",
   "execution_count": 55,
   "id": "912e3b1a",
   "metadata": {},
   "outputs": [
    {
     "data": {
      "text/plain": [
       "211.4409932808151"
      ]
     },
     "execution_count": 55,
     "metadata": {},
     "output_type": "execute_result"
    }
   ],
   "source": [
    "# Optimal value of alpha \n",
    "lasso_cv_final.alpha_"
   ]
  },
  {
   "cell_type": "code",
   "execution_count": 56,
   "id": "dea0d30d",
   "metadata": {},
   "outputs": [
    {
     "data": {
      "text/plain": [
       "Lasso(alpha=211.4409932808151)"
      ]
     },
     "execution_count": 56,
     "metadata": {},
     "output_type": "execute_result"
    }
   ],
   "source": [
    "# Initiate and fitting Lasso with the optimal value of alpha\n",
    "lasso_final = Lasso(alpha=lasso_cv_final.alpha_)\n",
    "lasso_final.fit(Z_poly, y)"
   ]
  },
  {
   "cell_type": "code",
   "execution_count": 57,
   "id": "1e0d880e",
   "metadata": {
    "scrolled": true
   },
   "outputs": [
    {
     "name": "stdout",
     "output_type": "stream",
     "text": [
      "RMSE: 21058.2775\n",
      "MAE: 14806.98\n",
      "R2: 0.9294\n"
     ]
    }
   ],
   "source": [
    "# Metrics for Lasso for the training dataset\n",
    "model_metrics(lasso_final, Z_poly, y)"
   ]
  },
  {
   "cell_type": "code",
   "execution_count": 58,
   "id": "dc946da5",
   "metadata": {
    "scrolled": true
   },
   "outputs": [
    {
     "name": "stdout",
     "output_type": "stream",
     "text": [
      "RMSE: 25192.1239\n",
      "R2: 0.898\n"
     ]
    }
   ],
   "source": [
    "# Cross validation score for Lasso Regression for the training dataset\n",
    "model_crossval(lasso_final, Z_poly, y, cv_mod=10)"
   ]
  },
  {
   "cell_type": "markdown",
   "id": "b8e1137b",
   "metadata": {},
   "source": [
    "The R2 score and the RMSE score for the training dataset are 0.9294 and 21058.2775 respectively, and the cross validation scores with R2 and RMSE scoring are 0.898 and 25192.1239 respectively. These improvements can be related to the increase number of observation data available."
   ]
  },
  {
   "cell_type": "code",
   "execution_count": 59,
   "id": "fcf6facc",
   "metadata": {},
   "outputs": [],
   "source": [
    "# Predicting using the model on the test dataset\n",
    "y_kaggle = lasso_final.predict(Z_kaggle_poly)"
   ]
  },
  {
   "cell_type": "code",
   "execution_count": 60,
   "id": "e41200de",
   "metadata": {
    "scrolled": true
   },
   "outputs": [],
   "source": [
    "## Creating the kaggle submission\n",
    "# Creating the Id column\n",
    "df_kaggle = pd.DataFrame(df_test_clean, columns=['id'])\n",
    "df_kaggle.columns = df_kaggle.columns.str.capitalize()\n",
    "\n",
    "# Creating the predicted SalePrice\n",
    "df_kaggle['SalePrice'] = y_kaggle\n",
    "\n",
    "# Sorting by Id\n",
    "df_kaggle.sort_values(by='Id', inplace=True)"
   ]
  },
  {
   "cell_type": "code",
   "execution_count": 61,
   "id": "a274a266",
   "metadata": {},
   "outputs": [],
   "source": [
    "# Exporting the kaggle submission to file\n",
    "df_kaggle.to_csv('../datasets/kaggle_submission.csv', index=False)"
   ]
  },
  {
   "cell_type": "markdown",
   "id": "de254bc5",
   "metadata": {},
   "source": [
    "The kaggle submission returned with an RMSE score of 23949.28963, which means that there is some degree of overfitting in the model. But overall, it cannot be denied that this model has been performing the best thus far."
   ]
  },
  {
   "cell_type": "markdown",
   "id": "b33fa31e",
   "metadata": {},
   "source": [
    "### 7. Recommendations and Conclusion\n",
    "After generating the final model, we will need to look back at the features themselves as the importance of the features are what we are looking for, and not the accuracy of our model predictions. \n",
    "\n",
    "For this analysis, the coefficients of the features in the model are what we will be looking at. The absolute value of the features mean how much it will affect the final sale price."
   ]
  },
  {
   "cell_type": "code",
   "execution_count": 62,
   "id": "fa5e5e82",
   "metadata": {},
   "outputs": [],
   "source": [
    "# Function for Bar Plot for feature vs coefficients \n",
    "def bar_feat_coef(dataframe):\n",
    "    plt.figure(figsize = [12, 6])                                                         # Determine figure size\n",
    "    plt.title(f'Coefficient vs Feature', fontsize = 12)                                   # Title of Plot\n",
    "    sns.barplot(x = \"coef\", y = \"feature\", data = dataframe)                              # Plot of Feature vs Coefficient"
   ]
  },
  {
   "cell_type": "markdown",
   "id": "59c97319",
   "metadata": {},
   "source": [
    "### 7.1 Analysis based on Final Model"
   ]
  },
  {
   "cell_type": "code",
   "execution_count": 63,
   "id": "82c7fd0a",
   "metadata": {
    "scrolled": true
   },
   "outputs": [
    {
     "data": {
      "text/plain": [
       "(126, 3)"
      ]
     },
     "metadata": {},
     "output_type": "display_data"
    },
    {
     "data": {
      "text/html": [
       "<div>\n",
       "<style scoped>\n",
       "    .dataframe tbody tr th:only-of-type {\n",
       "        vertical-align: middle;\n",
       "    }\n",
       "\n",
       "    .dataframe tbody tr th {\n",
       "        vertical-align: top;\n",
       "    }\n",
       "\n",
       "    .dataframe thead th {\n",
       "        text-align: right;\n",
       "    }\n",
       "</style>\n",
       "<table border=\"1\" class=\"dataframe\">\n",
       "  <thead>\n",
       "    <tr style=\"text-align: right;\">\n",
       "      <th></th>\n",
       "      <th>feature</th>\n",
       "      <th>coef</th>\n",
       "      <th>abs_coef</th>\n",
       "    </tr>\n",
       "  </thead>\n",
       "  <tbody>\n",
       "    <tr>\n",
       "      <th>9</th>\n",
       "      <td>gr_liv_area</td>\n",
       "      <td>20708.871066</td>\n",
       "      <td>20708.871066</td>\n",
       "    </tr>\n",
       "    <tr>\n",
       "      <th>66</th>\n",
       "      <td>lot_area neighborhood_stonebr</td>\n",
       "      <td>15968.162798</td>\n",
       "      <td>15968.162798</td>\n",
       "    </tr>\n",
       "    <tr>\n",
       "      <th>195</th>\n",
       "      <td>total_bsmt_sf neighborhood_stonebr</td>\n",
       "      <td>15627.613651</td>\n",
       "      <td>15627.613651</td>\n",
       "    </tr>\n",
       "    <tr>\n",
       "      <th>2</th>\n",
       "      <td>overall_qual</td>\n",
       "      <td>14032.973191</td>\n",
       "      <td>14032.973191</td>\n",
       "    </tr>\n",
       "    <tr>\n",
       "      <th>196</th>\n",
       "      <td>total_bsmt_sf neighborhood_nridght</td>\n",
       "      <td>11662.695679</td>\n",
       "      <td>11662.695679</td>\n",
       "    </tr>\n",
       "    <tr>\n",
       "      <th>276</th>\n",
       "      <td>totrms_abvgrd neighborhood_nridght</td>\n",
       "      <td>9559.326101</td>\n",
       "      <td>9559.326101</td>\n",
       "    </tr>\n",
       "    <tr>\n",
       "      <th>68</th>\n",
       "      <td>lot_area neighborhood_noridge</td>\n",
       "      <td>8129.103372</td>\n",
       "      <td>8129.103372</td>\n",
       "    </tr>\n",
       "    <tr>\n",
       "      <th>275</th>\n",
       "      <td>totrms_abvgrd neighborhood_stonebr</td>\n",
       "      <td>6793.332780</td>\n",
       "      <td>6793.332780</td>\n",
       "    </tr>\n",
       "    <tr>\n",
       "      <th>1</th>\n",
       "      <td>lot_area</td>\n",
       "      <td>6601.497369</td>\n",
       "      <td>6601.497369</td>\n",
       "    </tr>\n",
       "    <tr>\n",
       "      <th>3</th>\n",
       "      <td>year_built</td>\n",
       "      <td>6140.409505</td>\n",
       "      <td>6140.409505</td>\n",
       "    </tr>\n",
       "    <tr>\n",
       "      <th>14</th>\n",
       "      <td>garage_area</td>\n",
       "      <td>5977.529722</td>\n",
       "      <td>5977.529722</td>\n",
       "    </tr>\n",
       "    <tr>\n",
       "      <th>200</th>\n",
       "      <td>total_bsmt_sf garage_attchd</td>\n",
       "      <td>5354.731433</td>\n",
       "      <td>5354.731433</td>\n",
       "    </tr>\n",
       "    <tr>\n",
       "      <th>232</th>\n",
       "      <td>gr_liv_area neighborhood_noridge</td>\n",
       "      <td>5188.089504</td>\n",
       "      <td>5188.089504</td>\n",
       "    </tr>\n",
       "    <tr>\n",
       "      <th>11</th>\n",
       "      <td>kitchen_qual</td>\n",
       "      <td>5063.688819</td>\n",
       "      <td>5063.688819</td>\n",
       "    </tr>\n",
       "    <tr>\n",
       "      <th>13</th>\n",
       "      <td>fireplaces</td>\n",
       "      <td>5050.861998</td>\n",
       "      <td>5050.861998</td>\n",
       "    </tr>\n",
       "    <tr>\n",
       "      <th>187</th>\n",
       "      <td>total_bsmt_sf^2</td>\n",
       "      <td>-4687.897172</td>\n",
       "      <td>4687.897172</td>\n",
       "    </tr>\n",
       "    <tr>\n",
       "      <th>7</th>\n",
       "      <td>total_bsmt_sf</td>\n",
       "      <td>4588.461131</td>\n",
       "      <td>4588.461131</td>\n",
       "    </tr>\n",
       "    <tr>\n",
       "      <th>5</th>\n",
       "      <td>bsmt_qual</td>\n",
       "      <td>4358.454086</td>\n",
       "      <td>4358.454086</td>\n",
       "    </tr>\n",
       "    <tr>\n",
       "      <th>135</th>\n",
       "      <td>exter_qual neighborhood_stonebr</td>\n",
       "      <td>4227.600523</td>\n",
       "      <td>4227.600523</td>\n",
       "    </tr>\n",
       "    <tr>\n",
       "      <th>227</th>\n",
       "      <td>gr_liv_area totrms_abvgrd</td>\n",
       "      <td>-4044.497270</td>\n",
       "      <td>4044.497270</td>\n",
       "    </tr>\n",
       "    <tr>\n",
       "      <th>4</th>\n",
       "      <td>exter_qual</td>\n",
       "      <td>3747.827133</td>\n",
       "      <td>3747.827133</td>\n",
       "    </tr>\n",
       "    <tr>\n",
       "      <th>237</th>\n",
       "      <td>gr_liv_area house_1story</td>\n",
       "      <td>3207.183578</td>\n",
       "      <td>3207.183578</td>\n",
       "    </tr>\n",
       "    <tr>\n",
       "      <th>226</th>\n",
       "      <td>gr_liv_area kitchen_qual</td>\n",
       "      <td>3055.538395</td>\n",
       "      <td>3055.538395</td>\n",
       "    </tr>\n",
       "    <tr>\n",
       "      <th>198</th>\n",
       "      <td>total_bsmt_sf bsmt_fin_glq</td>\n",
       "      <td>2964.056492</td>\n",
       "      <td>2964.056492</td>\n",
       "    </tr>\n",
       "    <tr>\n",
       "      <th>225</th>\n",
       "      <td>gr_liv_area full_bath</td>\n",
       "      <td>2847.917744</td>\n",
       "      <td>2847.917744</td>\n",
       "    </tr>\n",
       "  </tbody>\n",
       "</table>\n",
       "</div>"
      ],
      "text/plain": [
       "                                feature          coef      abs_coef\n",
       "9                           gr_liv_area  20708.871066  20708.871066\n",
       "66        lot_area neighborhood_stonebr  15968.162798  15968.162798\n",
       "195  total_bsmt_sf neighborhood_stonebr  15627.613651  15627.613651\n",
       "2                          overall_qual  14032.973191  14032.973191\n",
       "196  total_bsmt_sf neighborhood_nridght  11662.695679  11662.695679\n",
       "276  totrms_abvgrd neighborhood_nridght   9559.326101   9559.326101\n",
       "68        lot_area neighborhood_noridge   8129.103372   8129.103372\n",
       "275  totrms_abvgrd neighborhood_stonebr   6793.332780   6793.332780\n",
       "1                              lot_area   6601.497369   6601.497369\n",
       "3                            year_built   6140.409505   6140.409505\n",
       "14                          garage_area   5977.529722   5977.529722\n",
       "200         total_bsmt_sf garage_attchd   5354.731433   5354.731433\n",
       "232    gr_liv_area neighborhood_noridge   5188.089504   5188.089504\n",
       "11                         kitchen_qual   5063.688819   5063.688819\n",
       "13                           fireplaces   5050.861998   5050.861998\n",
       "187                     total_bsmt_sf^2  -4687.897172   4687.897172\n",
       "7                         total_bsmt_sf   4588.461131   4588.461131\n",
       "5                             bsmt_qual   4358.454086   4358.454086\n",
       "135     exter_qual neighborhood_stonebr   4227.600523   4227.600523\n",
       "227           gr_liv_area totrms_abvgrd  -4044.497270   4044.497270\n",
       "4                            exter_qual   3747.827133   3747.827133\n",
       "237            gr_liv_area house_1story   3207.183578   3207.183578\n",
       "226            gr_liv_area kitchen_qual   3055.538395   3055.538395\n",
       "198          total_bsmt_sf bsmt_fin_glq   2964.056492   2964.056492\n",
       "225               gr_liv_area full_bath   2847.917744   2847.917744"
      ]
     },
     "execution_count": 63,
     "metadata": {},
     "output_type": "execute_result"
    }
   ],
   "source": [
    "## Looking at coefficients of the final model\n",
    "# Outputting the coefficients to dataframe\n",
    "final_coef = pd.DataFrame({'feature': poly.get_feature_names_out(features),\n",
    "                          'coef': lasso_final.coef_,\n",
    "                          'abs_coef':np.abs(lasso_final.coef_)})\n",
    "\n",
    "# Looking at the number of non-zero coefficients\n",
    "display(final_coef[final_coef['abs_coef'] > 0].shape)\n",
    "\n",
    "# Sort values by absolute value of coefficients and showing the top 20\n",
    "final_coef.sort_values('abs_coef', ascending=False).head(25)"
   ]
  },
  {
   "cell_type": "code",
   "execution_count": 64,
   "id": "661a5a1c",
   "metadata": {},
   "outputs": [
    {
     "data": {
      "image/png": "[encoded data removed]",
      "text/plain": [
       "<Figure size 864x432 with 1 Axes>"
      ]
     },
     "metadata": {
      "needs_background": "light"
     },
     "output_type": "display_data"
    }
   ],
   "source": [
    "# Creating a dataframe with only the top 25 values\n",
    "feat_coef = final_coef.sort_values('abs_coef', ascending=False).head(25)\n",
    "\n",
    "# Plot of feature versus coefficients\n",
    "bar_feat_coef(feat_coef)"
   ]
  },
  {
   "cell_type": "markdown",
   "id": "2cf6693e",
   "metadata": {},
   "source": [
    "Looking at the coefficients, we can see that there are a lot of zero coefficients, and even just taking a look at the top 25 feature terms, we can see a lot of polynomial features that would make explanations to the house-owner difficult. As such, instead of doing analysis just based on the final model, we will also be looking at the coefficients of the lasso model without all these polynomial features.\n",
    "\n",
    "For now, just by looking at the non-polynomial features, we can see that the top five terms are `gr_liv_area`, `overall_qual`, `lot_area`, `year_built` and `garage_area`."
   ]
  },
  {
   "cell_type": "markdown",
   "id": "908ff033",
   "metadata": {},
   "source": [
    "### 7.2 Analysis based on Lasso Regression Model"
   ]
  },
  {
   "cell_type": "code",
   "execution_count": 65,
   "id": "7d02cc3f",
   "metadata": {
    "scrolled": true
   },
   "outputs": [
    {
     "data": {
      "text/html": [
       "<div>\n",
       "<style scoped>\n",
       "    .dataframe tbody tr th:only-of-type {\n",
       "        vertical-align: middle;\n",
       "    }\n",
       "\n",
       "    .dataframe tbody tr th {\n",
       "        vertical-align: top;\n",
       "    }\n",
       "\n",
       "    .dataframe thead th {\n",
       "        text-align: right;\n",
       "    }\n",
       "</style>\n",
       "<table border=\"1\" class=\"dataframe\">\n",
       "  <thead>\n",
       "    <tr style=\"text-align: right;\">\n",
       "      <th></th>\n",
       "      <th>feature</th>\n",
       "      <th>coef</th>\n",
       "      <th>abs_coef</th>\n",
       "    </tr>\n",
       "  </thead>\n",
       "  <tbody>\n",
       "    <tr>\n",
       "      <th>15</th>\n",
       "      <td>neighborhood_stonebr</td>\n",
       "      <td>51973.166787</td>\n",
       "      <td>51973.166787</td>\n",
       "    </tr>\n",
       "    <tr>\n",
       "      <th>16</th>\n",
       "      <td>neighborhood_nridght</td>\n",
       "      <td>39732.023002</td>\n",
       "      <td>39732.023002</td>\n",
       "    </tr>\n",
       "    <tr>\n",
       "      <th>17</th>\n",
       "      <td>neighborhood_noridge</td>\n",
       "      <td>29588.080102</td>\n",
       "      <td>29588.080102</td>\n",
       "    </tr>\n",
       "    <tr>\n",
       "      <th>9</th>\n",
       "      <td>gr_liv_area</td>\n",
       "      <td>25506.574176</td>\n",
       "      <td>25506.574176</td>\n",
       "    </tr>\n",
       "    <tr>\n",
       "      <th>2</th>\n",
       "      <td>overall_qual</td>\n",
       "      <td>16167.605753</td>\n",
       "      <td>16167.605753</td>\n",
       "    </tr>\n",
       "    <tr>\n",
       "      <th>22</th>\n",
       "      <td>house_1story</td>\n",
       "      <td>10840.294766</td>\n",
       "      <td>10840.294766</td>\n",
       "    </tr>\n",
       "    <tr>\n",
       "      <th>18</th>\n",
       "      <td>bsmt_fin_glq</td>\n",
       "      <td>7703.587228</td>\n",
       "      <td>7703.587228</td>\n",
       "    </tr>\n",
       "    <tr>\n",
       "      <th>6</th>\n",
       "      <td>bsmt_exposure</td>\n",
       "      <td>6808.148701</td>\n",
       "      <td>6808.148701</td>\n",
       "    </tr>\n",
       "    <tr>\n",
       "      <th>11</th>\n",
       "      <td>kitchen_qual</td>\n",
       "      <td>6761.540518</td>\n",
       "      <td>6761.540518</td>\n",
       "    </tr>\n",
       "    <tr>\n",
       "      <th>4</th>\n",
       "      <td>exter_qual</td>\n",
       "      <td>6709.092386</td>\n",
       "      <td>6709.092386</td>\n",
       "    </tr>\n",
       "  </tbody>\n",
       "</table>\n",
       "</div>"
      ],
      "text/plain": [
       "                 feature          coef      abs_coef\n",
       "15  neighborhood_stonebr  51973.166787  51973.166787\n",
       "16  neighborhood_nridght  39732.023002  39732.023002\n",
       "17  neighborhood_noridge  29588.080102  29588.080102\n",
       "9            gr_liv_area  25506.574176  25506.574176\n",
       "2           overall_qual  16167.605753  16167.605753\n",
       "22          house_1story  10840.294766  10840.294766\n",
       "18          bsmt_fin_glq   7703.587228   7703.587228\n",
       "6          bsmt_exposure   6808.148701   6808.148701\n",
       "11          kitchen_qual   6761.540518   6761.540518\n",
       "4             exter_qual   6709.092386   6709.092386"
      ]
     },
     "execution_count": 65,
     "metadata": {},
     "output_type": "execute_result"
    }
   ],
   "source": [
    "# Displaying the top 10 coefficients of lasso model again\n",
    "lasso_coef = lasso_coef.sort_values('abs_coef', ascending=False)\n",
    "lasso_coef.head(10)"
   ]
  },
  {
   "cell_type": "code",
   "execution_count": 66,
   "id": "f8a06c26",
   "metadata": {
    "scrolled": false
   },
   "outputs": [
    {
     "data": {
      "image/png": "[encoded data removed]",
      "text/plain": [
       "<Figure size 864x432 with 1 Axes>"
      ]
     },
     "metadata": {
      "needs_background": "light"
     },
     "output_type": "display_data"
    }
   ],
   "source": [
    "# Plot of feature versus coefficients for the lasso model\n",
    "bar_feat_coef(lasso_coef)"
   ]
  },
  {
   "cell_type": "markdown",
   "id": "61b343e6",
   "metadata": {},
   "source": [
    "Look at the coefficients of the Lasso Regression Model, we can see that the top 3 coefficients are for the features that correspond to the `three neighbourhoods` we have selected earlier. Following those are the features namely `gr_liv_area`, `overall_qual` and `house_1story`."
   ]
  },
  {
   "cell_type": "markdown",
   "id": "6517eb42",
   "metadata": {},
   "source": [
    "### 7.3 Analysis based on Lasso Regression Model with Interaction Terms"
   ]
  },
  {
   "cell_type": "code",
   "execution_count": 67,
   "id": "82aaec11",
   "metadata": {
    "scrolled": true
   },
   "outputs": [
    {
     "data": {
      "text/html": [
       "<div>\n",
       "<style scoped>\n",
       "    .dataframe tbody tr th:only-of-type {\n",
       "        vertical-align: middle;\n",
       "    }\n",
       "\n",
       "    .dataframe tbody tr th {\n",
       "        vertical-align: top;\n",
       "    }\n",
       "\n",
       "    .dataframe thead th {\n",
       "        text-align: right;\n",
       "    }\n",
       "</style>\n",
       "<table border=\"1\" class=\"dataframe\">\n",
       "  <thead>\n",
       "    <tr style=\"text-align: right;\">\n",
       "      <th></th>\n",
       "      <th>feature</th>\n",
       "      <th>coef</th>\n",
       "      <th>abs_coef</th>\n",
       "    </tr>\n",
       "  </thead>\n",
       "  <tbody>\n",
       "    <tr>\n",
       "      <th>27</th>\n",
       "      <td>neighborhood_nridght * lot_area</td>\n",
       "      <td>40175.840555</td>\n",
       "      <td>40175.840555</td>\n",
       "    </tr>\n",
       "    <tr>\n",
       "      <th>15</th>\n",
       "      <td>neighborhood_stonebr</td>\n",
       "      <td>35170.605063</td>\n",
       "      <td>35170.605063</td>\n",
       "    </tr>\n",
       "    <tr>\n",
       "      <th>26</th>\n",
       "      <td>neighborhood_stonebr * lot_area</td>\n",
       "      <td>33118.463030</td>\n",
       "      <td>33118.463030</td>\n",
       "    </tr>\n",
       "    <tr>\n",
       "      <th>16</th>\n",
       "      <td>neighborhood_nridght</td>\n",
       "      <td>26855.775796</td>\n",
       "      <td>26855.775796</td>\n",
       "    </tr>\n",
       "    <tr>\n",
       "      <th>9</th>\n",
       "      <td>gr_liv_area</td>\n",
       "      <td>25338.149103</td>\n",
       "      <td>25338.149103</td>\n",
       "    </tr>\n",
       "    <tr>\n",
       "      <th>17</th>\n",
       "      <td>neighborhood_noridge</td>\n",
       "      <td>17186.963128</td>\n",
       "      <td>17186.963128</td>\n",
       "    </tr>\n",
       "    <tr>\n",
       "      <th>2</th>\n",
       "      <td>overall_qual</td>\n",
       "      <td>16392.860313</td>\n",
       "      <td>16392.860313</td>\n",
       "    </tr>\n",
       "    <tr>\n",
       "      <th>28</th>\n",
       "      <td>neighborhood_noridge * lot_area</td>\n",
       "      <td>15520.623040</td>\n",
       "      <td>15520.623040</td>\n",
       "    </tr>\n",
       "    <tr>\n",
       "      <th>22</th>\n",
       "      <td>house_1story</td>\n",
       "      <td>11477.383130</td>\n",
       "      <td>11477.383130</td>\n",
       "    </tr>\n",
       "    <tr>\n",
       "      <th>18</th>\n",
       "      <td>bsmt_fin_glq</td>\n",
       "      <td>8087.091292</td>\n",
       "      <td>8087.091292</td>\n",
       "    </tr>\n",
       "  </tbody>\n",
       "</table>\n",
       "</div>"
      ],
      "text/plain": [
       "                            feature          coef      abs_coef\n",
       "27  neighborhood_nridght * lot_area  40175.840555  40175.840555\n",
       "15             neighborhood_stonebr  35170.605063  35170.605063\n",
       "26  neighborhood_stonebr * lot_area  33118.463030  33118.463030\n",
       "16             neighborhood_nridght  26855.775796  26855.775796\n",
       "9                       gr_liv_area  25338.149103  25338.149103\n",
       "17             neighborhood_noridge  17186.963128  17186.963128\n",
       "2                      overall_qual  16392.860313  16392.860313\n",
       "28  neighborhood_noridge * lot_area  15520.623040  15520.623040\n",
       "22                     house_1story  11477.383130  11477.383130\n",
       "18                     bsmt_fin_glq   8087.091292   8087.091292"
      ]
     },
     "execution_count": 67,
     "metadata": {},
     "output_type": "execute_result"
    }
   ],
   "source": [
    "# Displaying the top 10 coefficients of lasso model again\n",
    "interact_coef = interact_coef.sort_values('abs_coef', ascending=False)\n",
    "interact_coef.head(10)"
   ]
  },
  {
   "cell_type": "code",
   "execution_count": 68,
   "id": "16e2710d",
   "metadata": {
    "scrolled": true
   },
   "outputs": [
    {
     "data": {
      "image/png": "[encoded data removed]",
      "text/plain": [
       "<Figure size 864x432 with 1 Axes>"
      ]
     },
     "metadata": {
      "needs_background": "light"
     },
     "output_type": "display_data"
    }
   ],
   "source": [
    "# Plot of feature versus coefficients for the lasso model with interaction terms\n",
    "bar_feat_coef(interact_coef)"
   ]
  },
  {
   "cell_type": "markdown",
   "id": "9872b165",
   "metadata": {},
   "source": [
    "Looking at the coefficients of this model and the previous Lasso model, we can see that the newly added polynomial terms of the `neighbourhood` and the `lot area` are now among the the top features. "
   ]
  }
 ],
 "metadata": {
  "kernelspec": {
   "display_name": "Python 3 (ipykernel)",
   "language": "python",
   "name": "python3"
  },
  "language_info": {
   "codemirror_mode": {
    "name": "ipython",
    "version": 3
   },
   "file_extension": ".py",
   "mimetype": "text/x-python",
   "name": "python",
   "nbconvert_exporter": "python",
   "pygments_lexer": "ipython3",
   "version": "3.8.12"
  }
 },
 "nbformat": 4,
 "nbformat_minor": 5
}
