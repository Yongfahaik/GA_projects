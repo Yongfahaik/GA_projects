{
 "cells": [
  {
   "cell_type": "markdown",
   "id": "67b87e4d",
   "metadata": {},
   "source": [
    "<div>\n",
    "<img src=\"http://imgur.com/1ZcRyrc.png\" style=\"float: left; margin: 20px; height: 55px\" width=100>\n",
    "</div>\n",
    "\n",
    "# Project 2: Ames Housing Data and Kaggle Challenge"
   ]
  },
  {
   "cell_type": "markdown",
   "id": "4f71c321",
   "metadata": {},
   "source": [
    "## Background\n",
    "The Ames Housing Dataset is an exceptionally detailed and robust dataset with over 70 columns of different features relating to houses.  \n",
    "We are presented with this dataset to predict the prices of the houses in Ames, Iowa.  \n",
    "The data is taken  from: https://www.kaggle.com/c/dsi-us-11-project-2-regression-challenge/data\n",
    "\n",
    "## Problem Statement\n",
    "As a consultant to the house-owner in the city of Ames of Iowa, I am presented with the challenge of finding the features that will affect the sale price of the house. In doing so, I will then be able to give recommendations to the house-owner in order to increase the value of the house."
   ]
  },
  {
   "cell_type": "markdown",
   "id": "3cdca8ad",
   "metadata": {},
   "source": [
    "## Progress thus far\n",
    "In Part 1, we have cleaned the provided datasets and selected the following features out of the original 80 features that will be used for our modelling process.\n",
    "\n",
    "|Feature|Description|\n",
    "|:--:|:----------:|\n",
    "|**id**|  |\n",
    "|**saleprice**| The Id of the property |"
   ]
  },
  {
   "cell_type": "markdown",
   "id": "4163d82c",
   "metadata": {},
   "source": [
    "## Part 2: Modelling"
   ]
  },
  {
   "cell_type": "markdown",
   "id": "a6bfa57c",
   "metadata": {},
   "source": [
    "### 1. Importing the libraries (All libraries used will be added here)"
   ]
  },
  {
   "cell_type": "code",
   "execution_count": 67,
   "id": "cdd9a755",
   "metadata": {},
   "outputs": [],
   "source": [
    "import numpy as np\n",
    "import pandas as pd\n",
    "import matplotlib.pyplot as plt\n",
    "import seaborn as sns\n",
    "\n",
    "from sklearn.linear_model import LinearRegression, Ridge, RidgeCV, Lasso, LassoCV\n",
    "from sklearn.model_selection import train_test_split, cross_val_score\n",
    "from sklearn.preprocessing import StandardScaler, PolynomialFeatures\n",
    "from sklearn.metrics import mean_squared_error, mean_absolute_error, r2_score"
   ]
  },
  {
   "cell_type": "markdown",
   "id": "53bdd8a8",
   "metadata": {},
   "source": [
    "### 2. Importing the training dataset and the test dataset"
   ]
  },
  {
   "cell_type": "code",
   "execution_count": 2,
   "id": "c9023671",
   "metadata": {},
   "outputs": [],
   "source": [
    "df_train_clean = pd.read_csv('../datasets/train_clean.csv')\n",
    "\n",
    "df_test_clean = pd.read_csv('../datasets/test_clean.csv')"
   ]
  },
  {
   "cell_type": "markdown",
   "id": "aea9313d",
   "metadata": {},
   "source": [
    "### 3. Train/Test Split\n",
    "As we are unable to confirm the results of our modelling if we are to immediately predict on the test dataset since the `SalePrice` for the test dataset is not provided, if we are to evaluate our models, we will have to split up the training dataset into train data and test data."
   ]
  },
  {
   "cell_type": "code",
   "execution_count": 3,
   "id": "78718685",
   "metadata": {},
   "outputs": [],
   "source": [
    "# Determining the features for the modelling\n",
    "features = [feat for feat in df_train_clean.columns if feat != 'saleprice' and feat != 'id']"
   ]
  },
  {
   "cell_type": "code",
   "execution_count": 4,
   "id": "70550202",
   "metadata": {},
   "outputs": [
    {
     "data": {
      "text/plain": [
       "(2051, 25)"
      ]
     },
     "metadata": {},
     "output_type": "display_data"
    },
    {
     "data": {
      "text/plain": [
       "(2051,)"
      ]
     },
     "metadata": {},
     "output_type": "display_data"
    },
    {
     "data": {
      "text/plain": [
       "(878, 25)"
      ]
     },
     "metadata": {},
     "output_type": "display_data"
    }
   ],
   "source": [
    "# Creating the X and y variables from the training dataset\n",
    "X = df_train_clean[features]\n",
    "y = df_train_clean['saleprice']\n",
    "\n",
    "# Creating the X variable from the test dataset [Using X_kaggle here to differ from the X_test later]\n",
    "X_kaggle = df_test_clean[features]\n",
    "\n",
    "# Displaying the shapes of the X and y variables\n",
    "display(X.shape)\n",
    "display(y.shape)\n",
    "display(X_kaggle.shape)"
   ]
  },
  {
   "cell_type": "code",
   "execution_count": 5,
   "id": "7e66b6d7",
   "metadata": {},
   "outputs": [],
   "source": [
    "# Train/Test Split\n",
    "X_train, X_test, y_train, y_test = train_test_split(X, y, test_size = 0.25, random_state = 42)"
   ]
  },
  {
   "cell_type": "markdown",
   "id": "635317d7",
   "metadata": {},
   "source": [
    "### 4. Baseline Model\n",
    "For the Baseline Model for the prediction of the `SalePrice`, we will be using the mean value of `SalePrice` from the train data above as the predictions for the test data."
   ]
  },
  {
   "cell_type": "code",
   "execution_count": 6,
   "id": "ac9e2fec",
   "metadata": {
    "scrolled": true
   },
   "outputs": [
    {
     "data": {
      "text/plain": [
       "181061.9934980494"
      ]
     },
     "execution_count": 6,
     "metadata": {},
     "output_type": "execute_result"
    }
   ],
   "source": [
    "# The mean value of SalePrice\n",
    "np.mean(y_train)"
   ]
  },
  {
   "cell_type": "code",
   "execution_count": 7,
   "id": "e2b1d4fa",
   "metadata": {},
   "outputs": [
    {
     "data": {
      "text/plain": [
       "79526.85223710592"
      ]
     },
     "execution_count": 7,
     "metadata": {},
     "output_type": "execute_result"
    }
   ],
   "source": [
    "# RMSE for the train data\n",
    "y_pred_base = np.ones_like(y_train) * np.mean(y_train)\n",
    "np.sqrt(mean_squared_error(y_train, y_pred_base))"
   ]
  },
  {
   "cell_type": "code",
   "execution_count": 8,
   "id": "6aae39c8",
   "metadata": {
    "scrolled": true
   },
   "outputs": [
    {
     "data": {
      "text/plain": [
       "78375.26238032707"
      ]
     },
     "execution_count": 8,
     "metadata": {},
     "output_type": "execute_result"
    }
   ],
   "source": [
    "# RMSE for the test data\n",
    "y_pred_base = np.ones_like(y_test) * np.mean(y_train)\n",
    "np.sqrt(mean_squared_error(y_test, y_pred_base))"
   ]
  },
  {
   "cell_type": "markdown",
   "id": "69d05996",
   "metadata": {},
   "source": [
    "For the Baseline Model, the RMSE for the train set and the test set are 79526.8522 and 78375.2624 respectively. Considering the RMSE for the sample provided by Kaggle is at 83945.31, this is somewhat expected for the Baseline Model.\n",
    "\n",
    "From here on, we just have to improve on this score by modelling the data on the appriopriate models."
   ]
  },
  {
   "cell_type": "markdown",
   "id": "e0f9dfe4",
   "metadata": {},
   "source": [
    "### 5. Model Fitting and Evaluation\n",
    "At this point in time, we will be fitting the given data to a multi-variable linear regression model. As we have checked the linear relationships in Part 1, we will not be doing these here again. \n",
    "\n",
    "Also, to evaluate the models, we will be looking at the three metrics: _Root Mean Squared Error (RMSE), Mean Absolute Error (MAE) and Coefficient of Determination, $R^2$_."
   ]
  },
  {
   "cell_type": "code",
   "execution_count": 9,
   "id": "a1e7c430",
   "metadata": {},
   "outputs": [],
   "source": [
    "# Function for metrics (Since we will be using this often)\n",
    "def model_metrics(model, X_mod, y_mod):\n",
    "    # Predicting the y values based on the given X_mod\n",
    "    y_mod_pred = model.predict(X_mod)       \n",
    "    \n",
    "    # Printing the metrics data\n",
    "    print(f'RMSE: {round(np.sqrt(mean_squared_error(y_mod, y_mod_pred)), 4)}')\n",
    "    print(f'MAE: {round(mean_absolute_error(y_mod, y_mod_pred), 4)}')\n",
    "    print(f'R2: {round(r2_score(y_mod, y_mod_pred), 4)}')"
   ]
  },
  {
   "cell_type": "code",
   "execution_count": 43,
   "id": "e916275b",
   "metadata": {},
   "outputs": [],
   "source": [
    "# Function for cross val score (Since we will be using this often)\n",
    "def model_crossval(model, X_mod, y_mod, cv_mod=5):\n",
    "    # Printing the cross val scores\n",
    "    print(f'RMSE: {round(np.sqrt(-cross_val_score(model, X_mod, y_mod, scoring=\"neg_mean_squared_error\", cv=cv_mod).mean()), 4)}')\n",
    "    print(f'R2: {round(cross_val_score(model, X_mod, y_mod, cv=cv_mod).mean(), 4)}')"
   ]
  },
  {
   "cell_type": "markdown",
   "id": "6141baab",
   "metadata": {},
   "source": [
    "### 5.1 Scaling of data\n",
    "As our later models using Ridge and Lasso would require us to scale our data prior to modelling, we will be scaling the features in our dataset"
   ]
  },
  {
   "cell_type": "code",
   "execution_count": 11,
   "id": "1e0325e4",
   "metadata": {},
   "outputs": [],
   "source": [
    "# The columns that need to be scaled, taken from Part 1, dummy columns do not need to be scaled\n",
    "scale_cols = ['lot_area',\n",
    "              'overall_qual', \n",
    "              'year_built', \n",
    "              'exter_qual', \n",
    "              'bsmt_qual', \n",
    "              'bsmt_exposure', \n",
    "              'total_bsmt_sf', \n",
    "              'heating_qc', \n",
    "              'gr_liv_area', \n",
    "              'full_bath', \n",
    "              'kitchen_qual', \n",
    "              'totrms_abvgrd', \n",
    "              'fireplaces', \n",
    "              'garage_area']"
   ]
  },
  {
   "cell_type": "code",
   "execution_count": 12,
   "id": "a2bd848e",
   "metadata": {},
   "outputs": [],
   "source": [
    "# Initializing the scaled dataframes in order to avoid the transformation of the original dataframes\n",
    "Z_train = X_train.copy()\n",
    "Z_test = X_test.copy()\n",
    "Z_kaggle = X_kaggle.copy()"
   ]
  },
  {
   "cell_type": "code",
   "execution_count": 13,
   "id": "5f12391a",
   "metadata": {},
   "outputs": [],
   "source": [
    "# Initializing the StandardScaler\n",
    "ss = StandardScaler()\n",
    "\n",
    "# Fit and transform the training data\n",
    "Z_train[scale_cols] = ss.fit_transform(Z_train[scale_cols])\n",
    "\n",
    "#Transform the testing data and the kaggle test dataset\n",
    "Z_test[scale_cols] = ss.transform(Z_test[scale_cols])\n",
    "Z_kaggle[scale_cols] = ss.transform(Z_kaggle[scale_cols])"
   ]
  },
  {
   "cell_type": "markdown",
   "id": "423e7932",
   "metadata": {},
   "source": [
    "### 5.2 Linear Regression\n",
    "Our first model to start off will be the Ordinary Least Squares Linear Regression or OLS. \n",
    "\n",
    "Since we have both the scaled and the unscaled data to model from, we will be using both here as well."
   ]
  },
  {
   "cell_type": "code",
   "execution_count": 14,
   "id": "fc344589",
   "metadata": {},
   "outputs": [
    {
     "data": {
      "text/plain": [
       "LinearRegression()"
      ]
     },
     "execution_count": 14,
     "metadata": {},
     "output_type": "execute_result"
    }
   ],
   "source": [
    "## Unscaled data\n",
    "# Initializing and fitting the model \n",
    "lr = LinearRegression()\n",
    "lr.fit(X_train, y_train)"
   ]
  },
  {
   "cell_type": "code",
   "execution_count": 15,
   "id": "a7823a5b",
   "metadata": {},
   "outputs": [
    {
     "name": "stdout",
     "output_type": "stream",
     "text": [
      "RMSE: 30832.4528\n",
      "MAE: 19940.5007\n",
      "R2: 0.8497\n"
     ]
    }
   ],
   "source": [
    "# Metrics for Linear Regression with Unscaled data for the training data\n",
    "model_metrics(lr, X_train, y_train)"
   ]
  },
  {
   "cell_type": "code",
   "execution_count": 16,
   "id": "457a72c5",
   "metadata": {
    "scrolled": true
   },
   "outputs": [
    {
     "name": "stdout",
     "output_type": "stream",
     "text": [
      "RMSE: 26923.1815\n",
      "MAE: 19641.124\n",
      "R2: 0.8819\n"
     ]
    }
   ],
   "source": [
    "# Metrics for Linear Regression with Unscaled data for the test data\n",
    "model_metrics(lr, X_test, y_test)"
   ]
  },
  {
   "cell_type": "code",
   "execution_count": 44,
   "id": "8fe90206",
   "metadata": {},
   "outputs": [
    {
     "name": "stdout",
     "output_type": "stream",
     "text": [
      "RMSE: 32397.1431\n",
      "R2: 0.8325\n"
     ]
    }
   ],
   "source": [
    "# Cross validation score for Linear Regression with Unscaled data\n",
    "model_crossval(lr, X_train, y_train, cv_mod=10)"
   ]
  },
  {
   "cell_type": "code",
   "execution_count": 18,
   "id": "234554bd",
   "metadata": {},
   "outputs": [
    {
     "data": {
      "text/plain": [
       "array([ 1.24765778e+00,  1.10308594e+04,  1.32165341e+02,  1.08464410e+04,\n",
       "        5.26016505e+03,  6.46223403e+03, -2.94178731e+00,  3.47357664e+03,\n",
       "        5.23488580e+01, -1.46166120e+03,  9.81290396e+03,  6.71414136e+02,\n",
       "        8.65868952e+03,  2.70092921e+01,  6.02151979e+04,  4.44652129e+04,\n",
       "        3.79653563e+04,  8.28727051e+03,  2.74152354e+03,  1.84104942e+03,\n",
       "       -6.13998667e+02,  1.18962525e+04, -4.21136040e+03,  6.03822142e+03,\n",
       "       -4.44055455e+01])"
      ]
     },
     "execution_count": 18,
     "metadata": {},
     "output_type": "execute_result"
    }
   ],
   "source": [
    "# Coefficients of Linear Regression with Unscaled data\n",
    "lr.coef_"
   ]
  },
  {
   "cell_type": "markdown",
   "id": "fb6956c6",
   "metadata": {},
   "source": [
    "The R2 scores for both the training and test data are 0.8497 and 0.8819, which is good since we are looking at how well the model is performing. However the cross validation score of 0.8325 differs quite a bit from the R2 score, so the model does not work so well on unseen data and it is overfitting.\n",
    "\n",
    "The RMSE for the train and test data are at 30832.4528 and 26923.1815 respectively, which is an improvement from the baseline scores. However, as above, it should be noted that the cross validation score with RMSE is at 32397.1431, means that this model does not do well with unseen data."
   ]
  },
  {
   "cell_type": "markdown",
   "id": "fe7a6f37",
   "metadata": {},
   "source": [
    "The R2 scores for both the training and test data are 0.8497 and 0.8819, which is good since we are looking at how well the model is performing. However the cross validation score of 0.8325 differs quite a bit from the R2 score, so the model does not work so well on unseen data. \n",
    "\n",
    "The RMSE for the train and test data are at 30832.4528 and 26923.1815 respectively, which is an improvement from the baseline scores. "
   ]
  },
  {
   "cell_type": "code",
   "execution_count": 19,
   "id": "69b9c6cd",
   "metadata": {},
   "outputs": [
    {
     "data": {
      "text/plain": [
       "LinearRegression()"
      ]
     },
     "execution_count": 19,
     "metadata": {},
     "output_type": "execute_result"
    }
   ],
   "source": [
    "## Scaled data\n",
    "# Initializing and fitting the model \n",
    "lr_ss = LinearRegression()\n",
    "lr_ss.fit(Z_train, y_train)"
   ]
  },
  {
   "cell_type": "code",
   "execution_count": 20,
   "id": "592f05d6",
   "metadata": {},
   "outputs": [
    {
     "name": "stdout",
     "output_type": "stream",
     "text": [
      "RMSE: 30832.4528\n",
      "MAE: 19940.5007\n",
      "R2: 0.8497\n"
     ]
    }
   ],
   "source": [
    "# Metrics for Linear Regression with Scaled data for the training data\n",
    "model_metrics(lr_ss, Z_train, y_train)"
   ]
  },
  {
   "cell_type": "code",
   "execution_count": 21,
   "id": "d1dc89e1",
   "metadata": {
    "scrolled": false
   },
   "outputs": [
    {
     "name": "stdout",
     "output_type": "stream",
     "text": [
      "RMSE: 26923.1815\n",
      "MAE: 19641.124\n",
      "R2: 0.8819\n"
     ]
    }
   ],
   "source": [
    "# Metrics for Linear Regression with Scaled data for the test data\n",
    "model_metrics(lr_ss, Z_test, y_test)"
   ]
  },
  {
   "cell_type": "code",
   "execution_count": 45,
   "id": "58dc1165",
   "metadata": {
    "scrolled": true
   },
   "outputs": [
    {
     "name": "stdout",
     "output_type": "stream",
     "text": [
      "RMSE: 32397.1431\n",
      "R2: 0.8325\n"
     ]
    }
   ],
   "source": [
    "# Cross validation score for Linear Regression with Scaled data\n",
    "model_crossval(lr_ss, Z_train, y_train, cv_mod=10)"
   ]
  },
  {
   "cell_type": "code",
   "execution_count": 23,
   "id": "9f1f974e",
   "metadata": {},
   "outputs": [
    {
     "data": {
      "text/plain": [
       "array([ 6.11316263e+03,  1.57524810e+04,  3.98663953e+03,  6.32788041e+03,\n",
       "        4.70107621e+03,  6.90360309e+03, -1.33918917e+03,  3.38460825e+03,\n",
       "        2.59577443e+04, -8.08431568e+02,  6.54494878e+03,  1.04884543e+03,\n",
       "        5.51075653e+03,  5.89329917e+03,  6.02151979e+04,  4.44652129e+04,\n",
       "        3.79653563e+04,  8.28727051e+03,  2.74152354e+03,  1.84104942e+03,\n",
       "       -6.13998667e+02,  1.18962525e+04, -4.21136040e+03,  6.03822142e+03,\n",
       "       -4.44055455e+01])"
      ]
     },
     "execution_count": 23,
     "metadata": {},
     "output_type": "execute_result"
    }
   ],
   "source": [
    "# Coefficients of Linear Regression with Scaled data\n",
    "lr_ss.coef_"
   ]
  },
  {
   "cell_type": "markdown",
   "id": "0f8ab83e",
   "metadata": {},
   "source": [
    "We have the exact same scores for both unscaled and scaled data. This should not be a surprise since scaling only standardizes the X values and does not affect the modelling in any way. The only difference is the coefficients of the model due to the scaling."
   ]
  },
  {
   "cell_type": "markdown",
   "id": "dd4474ba",
   "metadata": {},
   "source": [
    "### 5.3 Ridge Regression\n",
    "The next step is regularization. First off, we will start with Ridge Regression."
   ]
  },
  {
   "cell_type": "code",
   "execution_count": 100,
   "id": "3c6a7a9a",
   "metadata": {
    "scrolled": true
   },
   "outputs": [
    {
     "data": {
      "text/plain": [
       "RidgeCV(alphas=array([1.00000000e+00, 1.12332403e+00, 1.26185688e+00, 1.41747416e+00,\n",
       "       1.59228279e+00, 1.78864953e+00, 2.00923300e+00, 2.25701972e+00,\n",
       "       2.53536449e+00, 2.84803587e+00, 3.19926714e+00, 3.59381366e+00,\n",
       "       4.03701726e+00, 4.53487851e+00, 5.09413801e+00, 5.72236766e+00,\n",
       "       6.42807312e+00, 7.22080902e+00, 8.11130831e+00, 9.11162756e+00,\n",
       "       1.02353102e+01, 1.14975700e+0...\n",
       "       6.89261210e+03, 7.74263683e+03, 8.69749003e+03, 9.77009957e+03,\n",
       "       1.09749877e+04, 1.23284674e+04, 1.38488637e+04, 1.55567614e+04,\n",
       "       1.74752840e+04, 1.96304065e+04, 2.20513074e+04, 2.47707636e+04,\n",
       "       2.78255940e+04, 3.12571585e+04, 3.51119173e+04, 3.94420606e+04,\n",
       "       4.43062146e+04, 4.97702356e+04, 5.59081018e+04, 6.28029144e+04,\n",
       "       7.05480231e+04, 7.92482898e+04, 8.90215085e+04, 1.00000000e+05]),\n",
       "        cv=10)"
      ]
     },
     "execution_count": 100,
     "metadata": {},
     "output_type": "execute_result"
    }
   ],
   "source": [
    "# Initializing and fitting the model \n",
    "r_alphas = np.logspace(0,5,100)\n",
    "ridge_cv = RidgeCV(alphas=r_alphas, cv=10)\n",
    "ridge_cv.fit(Z_train,y_train)"
   ]
  },
  {
   "cell_type": "code",
   "execution_count": 101,
   "id": "cad59341",
   "metadata": {},
   "outputs": [
    {
     "data": {
      "text/plain": [
       "2.8480358684358014"
      ]
     },
     "execution_count": 101,
     "metadata": {},
     "output_type": "execute_result"
    }
   ],
   "source": [
    "# Optimal value of alpha \n",
    "ridge_cv.alpha_"
   ]
  },
  {
   "cell_type": "code",
   "execution_count": 26,
   "id": "758fbee7",
   "metadata": {},
   "outputs": [
    {
     "data": {
      "text/plain": [
       "Ridge(alpha=2.8480358684358014)"
      ]
     },
     "execution_count": 26,
     "metadata": {},
     "output_type": "execute_result"
    }
   ],
   "source": [
    "# Initiate and fitting Ridge with the optimal value of alpha\n",
    "ridge = Ridge(alpha=ridge_cv.alpha_)\n",
    "ridge.fit(Z_train, y_train)"
   ]
  },
  {
   "cell_type": "code",
   "execution_count": 27,
   "id": "e7a975ae",
   "metadata": {
    "scrolled": true
   },
   "outputs": [
    {
     "name": "stdout",
     "output_type": "stream",
     "text": [
      "RMSE: 30850.6322\n",
      "MAE: 19923.4464\n",
      "R2: 0.8495\n"
     ]
    }
   ],
   "source": [
    "# Metrics for Ridge for the training data\n",
    "model_metrics(ridge, Z_train, y_train)"
   ]
  },
  {
   "cell_type": "code",
   "execution_count": 28,
   "id": "c9d8f5f7",
   "metadata": {},
   "outputs": [
    {
     "name": "stdout",
     "output_type": "stream",
     "text": [
      "RMSE: 26738.2836\n",
      "MAE: 19623.7797\n",
      "R2: 0.8836\n"
     ]
    }
   ],
   "source": [
    "# Metrics for Ridge for the test data\n",
    "model_metrics(ridge, Z_test, y_test)"
   ]
  },
  {
   "cell_type": "code",
   "execution_count": 46,
   "id": "9d7ada1a",
   "metadata": {},
   "outputs": [
    {
     "name": "stdout",
     "output_type": "stream",
     "text": [
      "RMSE: 32396.4442\n",
      "R2: 0.8327\n"
     ]
    }
   ],
   "source": [
    "# Cross validation score for Ridge Regression for the training data\n",
    "model_crossval(ridge, Z_train, y_train, cv_mod=10)"
   ]
  },
  {
   "cell_type": "markdown",
   "id": "3f441f9e",
   "metadata": {},
   "source": [
    "The R2 scores for both the training and test data are 0.8495 and 0.8836, indicating the model is doing slightly better than before. Also, the cross validation score of 0.8327 means this is improving on the previous model.\n",
    "\n",
    "The RMSE for the train and test data are at 30850.6322 and 26738.2836 respectively, indicates that there is some mitigation to the overfitting of the model. However, the cross validation score with RMSE is at 32396.4442 indicates little improvement in the area of overfitting."
   ]
  },
  {
   "cell_type": "markdown",
   "id": "3edf12fc",
   "metadata": {},
   "source": [
    "### 5.4 Lasso Regression\n",
    "After Ridge Regression, we will try Lasso Regression."
   ]
  },
  {
   "cell_type": "code",
   "execution_count": 30,
   "id": "4945b799",
   "metadata": {
    "scrolled": false
   },
   "outputs": [
    {
     "data": {
      "text/plain": [
       "LassoCV(cv=10, n_alphas=500)"
      ]
     },
     "execution_count": 30,
     "metadata": {},
     "output_type": "execute_result"
    }
   ],
   "source": [
    "# Initializing and fitting the model \n",
    "lasso_cv = LassoCV(n_alphas=500, cv=10)\n",
    "lasso_cv.fit(Z_train,y_train)"
   ]
  },
  {
   "cell_type": "code",
   "execution_count": 31,
   "id": "ee226e9d",
   "metadata": {},
   "outputs": [
    {
     "data": {
      "text/plain": [
       "122.99946170715148"
      ]
     },
     "execution_count": 31,
     "metadata": {},
     "output_type": "execute_result"
    }
   ],
   "source": [
    "# Optimal value of alpha \n",
    "lasso_cv.alpha_"
   ]
  },
  {
   "cell_type": "code",
   "execution_count": 32,
   "id": "70f4dc83",
   "metadata": {},
   "outputs": [
    {
     "data": {
      "text/plain": [
       "Lasso(alpha=122.99946170715148)"
      ]
     },
     "execution_count": 32,
     "metadata": {},
     "output_type": "execute_result"
    }
   ],
   "source": [
    "# Initiate and fitting Lasso with the optimal value of alpha\n",
    "lasso = Lasso(alpha=lasso_cv.alpha_)\n",
    "lasso.fit(Z_train, y_train)"
   ]
  },
  {
   "cell_type": "code",
   "execution_count": 33,
   "id": "d32cf45c",
   "metadata": {},
   "outputs": [
    {
     "name": "stdout",
     "output_type": "stream",
     "text": [
      "RMSE: 30890.0557\n",
      "MAE: 19841.8641\n",
      "R2: 0.8491\n"
     ]
    }
   ],
   "source": [
    "# Metrics for Lasso for the training data\n",
    "model_metrics(lasso, Z_train, y_train)"
   ]
  },
  {
   "cell_type": "code",
   "execution_count": 34,
   "id": "c8657da7",
   "metadata": {},
   "outputs": [
    {
     "name": "stdout",
     "output_type": "stream",
     "text": [
      "RMSE: 26590.7275\n",
      "MAE: 19485.1481\n",
      "R2: 0.8848\n"
     ]
    }
   ],
   "source": [
    "# Metrics for Lasso for the test data\n",
    "model_metrics(lasso, Z_test, y_test)"
   ]
  },
  {
   "cell_type": "code",
   "execution_count": 47,
   "id": "f86251e5",
   "metadata": {
    "scrolled": true
   },
   "outputs": [
    {
     "name": "stdout",
     "output_type": "stream",
     "text": [
      "RMSE: 32343.4668\n",
      "R2: 0.8334\n"
     ]
    }
   ],
   "source": [
    "# Cross validation score for Lasso Regression for the training data\n",
    "model_crossval(lasso, Z_train, y_train, cv_mod=10)"
   ]
  },
  {
   "cell_type": "code",
   "execution_count": 116,
   "id": "c16c61f3",
   "metadata": {},
   "outputs": [
    {
     "data": {
      "text/html": [
       "<div>\n",
       "<style scoped>\n",
       "    .dataframe tbody tr th:only-of-type {\n",
       "        vertical-align: middle;\n",
       "    }\n",
       "\n",
       "    .dataframe tbody tr th {\n",
       "        vertical-align: top;\n",
       "    }\n",
       "\n",
       "    .dataframe thead th {\n",
       "        text-align: right;\n",
       "    }\n",
       "</style>\n",
       "<table border=\"1\" class=\"dataframe\">\n",
       "  <thead>\n",
       "    <tr style=\"text-align: right;\">\n",
       "      <th></th>\n",
       "      <th>feature</th>\n",
       "      <th>coef</th>\n",
       "      <th>abs_coef</th>\n",
       "    </tr>\n",
       "  </thead>\n",
       "  <tbody>\n",
       "    <tr>\n",
       "      <th>0</th>\n",
       "      <td>lot_area</td>\n",
       "      <td>6170.941852</td>\n",
       "      <td>6170.941852</td>\n",
       "    </tr>\n",
       "    <tr>\n",
       "      <th>1</th>\n",
       "      <td>overall_qual</td>\n",
       "      <td>16062.871286</td>\n",
       "      <td>16062.871286</td>\n",
       "    </tr>\n",
       "    <tr>\n",
       "      <th>2</th>\n",
       "      <td>year_built</td>\n",
       "      <td>4190.339277</td>\n",
       "      <td>4190.339277</td>\n",
       "    </tr>\n",
       "    <tr>\n",
       "      <th>3</th>\n",
       "      <td>exter_qual</td>\n",
       "      <td>6573.146753</td>\n",
       "      <td>6573.146753</td>\n",
       "    </tr>\n",
       "    <tr>\n",
       "      <th>4</th>\n",
       "      <td>bsmt_qual</td>\n",
       "      <td>4187.982298</td>\n",
       "      <td>4187.982298</td>\n",
       "    </tr>\n",
       "    <tr>\n",
       "      <th>5</th>\n",
       "      <td>bsmt_exposure</td>\n",
       "      <td>6881.705325</td>\n",
       "      <td>6881.705325</td>\n",
       "    </tr>\n",
       "    <tr>\n",
       "      <th>6</th>\n",
       "      <td>total_bsmt_sf</td>\n",
       "      <td>-0.000000</td>\n",
       "      <td>0.000000</td>\n",
       "    </tr>\n",
       "    <tr>\n",
       "      <th>7</th>\n",
       "      <td>heating_qc</td>\n",
       "      <td>3163.819142</td>\n",
       "      <td>3163.819142</td>\n",
       "    </tr>\n",
       "    <tr>\n",
       "      <th>8</th>\n",
       "      <td>gr_liv_area</td>\n",
       "      <td>25574.034668</td>\n",
       "      <td>25574.034668</td>\n",
       "    </tr>\n",
       "    <tr>\n",
       "      <th>9</th>\n",
       "      <td>full_bath</td>\n",
       "      <td>-509.584137</td>\n",
       "      <td>509.584137</td>\n",
       "    </tr>\n",
       "    <tr>\n",
       "      <th>10</th>\n",
       "      <td>kitchen_qual</td>\n",
       "      <td>6766.249026</td>\n",
       "      <td>6766.249026</td>\n",
       "    </tr>\n",
       "    <tr>\n",
       "      <th>11</th>\n",
       "      <td>totrms_abvgrd</td>\n",
       "      <td>751.873337</td>\n",
       "      <td>751.873337</td>\n",
       "    </tr>\n",
       "    <tr>\n",
       "      <th>12</th>\n",
       "      <td>fireplaces</td>\n",
       "      <td>5566.699380</td>\n",
       "      <td>5566.699380</td>\n",
       "    </tr>\n",
       "    <tr>\n",
       "      <th>13</th>\n",
       "      <td>garage_area</td>\n",
       "      <td>5890.669221</td>\n",
       "      <td>5890.669221</td>\n",
       "    </tr>\n",
       "    <tr>\n",
       "      <th>14</th>\n",
       "      <td>neighborhood_stonebr</td>\n",
       "      <td>52412.385234</td>\n",
       "      <td>52412.385234</td>\n",
       "    </tr>\n",
       "    <tr>\n",
       "      <th>15</th>\n",
       "      <td>neighborhood_nridght</td>\n",
       "      <td>40828.430806</td>\n",
       "      <td>40828.430806</td>\n",
       "    </tr>\n",
       "    <tr>\n",
       "      <th>16</th>\n",
       "      <td>neighborhood_noridge</td>\n",
       "      <td>31044.057993</td>\n",
       "      <td>31044.057993</td>\n",
       "    </tr>\n",
       "    <tr>\n",
       "      <th>17</th>\n",
       "      <td>bsmt_fin_glq</td>\n",
       "      <td>7723.964466</td>\n",
       "      <td>7723.964466</td>\n",
       "    </tr>\n",
       "    <tr>\n",
       "      <th>18</th>\n",
       "      <td>garage_builtin</td>\n",
       "      <td>11.155583</td>\n",
       "      <td>11.155583</td>\n",
       "    </tr>\n",
       "    <tr>\n",
       "      <th>19</th>\n",
       "      <td>garage_attchd</td>\n",
       "      <td>362.884020</td>\n",
       "      <td>362.884020</td>\n",
       "    </tr>\n",
       "    <tr>\n",
       "      <th>20</th>\n",
       "      <td>foundation_pconc</td>\n",
       "      <td>0.000000</td>\n",
       "      <td>0.000000</td>\n",
       "    </tr>\n",
       "    <tr>\n",
       "      <th>21</th>\n",
       "      <td>house_1story</td>\n",
       "      <td>11001.336053</td>\n",
       "      <td>11001.336053</td>\n",
       "    </tr>\n",
       "    <tr>\n",
       "      <th>22</th>\n",
       "      <td>house_2story</td>\n",
       "      <td>-2810.466435</td>\n",
       "      <td>2810.466435</td>\n",
       "    </tr>\n",
       "    <tr>\n",
       "      <th>23</th>\n",
       "      <td>masvnr_stone</td>\n",
       "      <td>4440.169390</td>\n",
       "      <td>4440.169390</td>\n",
       "    </tr>\n",
       "    <tr>\n",
       "      <th>24</th>\n",
       "      <td>masvnr_brkface</td>\n",
       "      <td>-0.000000</td>\n",
       "      <td>0.000000</td>\n",
       "    </tr>\n",
       "  </tbody>\n",
       "</table>\n",
       "</div>"
      ],
      "text/plain": [
       "                 feature          coef      abs_coef\n",
       "0               lot_area   6170.941852   6170.941852\n",
       "1           overall_qual  16062.871286  16062.871286\n",
       "2             year_built   4190.339277   4190.339277\n",
       "3             exter_qual   6573.146753   6573.146753\n",
       "4              bsmt_qual   4187.982298   4187.982298\n",
       "5          bsmt_exposure   6881.705325   6881.705325\n",
       "6          total_bsmt_sf     -0.000000      0.000000\n",
       "7             heating_qc   3163.819142   3163.819142\n",
       "8            gr_liv_area  25574.034668  25574.034668\n",
       "9              full_bath   -509.584137    509.584137\n",
       "10          kitchen_qual   6766.249026   6766.249026\n",
       "11         totrms_abvgrd    751.873337    751.873337\n",
       "12            fireplaces   5566.699380   5566.699380\n",
       "13           garage_area   5890.669221   5890.669221\n",
       "14  neighborhood_stonebr  52412.385234  52412.385234\n",
       "15  neighborhood_nridght  40828.430806  40828.430806\n",
       "16  neighborhood_noridge  31044.057993  31044.057993\n",
       "17          bsmt_fin_glq   7723.964466   7723.964466\n",
       "18        garage_builtin     11.155583     11.155583\n",
       "19         garage_attchd    362.884020    362.884020\n",
       "20      foundation_pconc      0.000000      0.000000\n",
       "21          house_1story  11001.336053  11001.336053\n",
       "22          house_2story  -2810.466435   2810.466435\n",
       "23          masvnr_stone   4440.169390   4440.169390\n",
       "24        masvnr_brkface     -0.000000      0.000000"
      ]
     },
     "execution_count": 116,
     "metadata": {},
     "output_type": "execute_result"
    }
   ],
   "source": [
    "lasso_coef = pd.DataFrame({'feature': X.columns,\n",
    "                          'coef': lasso.coef_,\n",
    "                          'abs_coef':np.abs(lasso.coef_)})\n",
    "lasso_coef"
   ]
  },
  {
   "cell_type": "markdown",
   "id": "3737c2af",
   "metadata": {},
   "source": [
    "The R2 scores for both the training and test data are 0.8491 and 0.8848, indicating the model is doing slightly better than the previous two models with regards to the fitting. Also, the cross validation score of 0.8334 means this is improving on the previous models.\n",
    "\n",
    "The RMSE for the train and test data are at 30890.0557 and 26590.7275 respectively, indicates that there is some mitigation to the overfitting of the model. However, the cross validation score with RMSE is at 32343.4668 indicates some improvement in the area of overfitting."
   ]
  },
  {
   "cell_type": "markdown",
   "id": "12c09ca8",
   "metadata": {},
   "source": [
    "### 5.5 Polynomial Features\n",
    "At this point in time, our best model is the Lasso Regression model.\n",
    "\n",
    "Next, we will attempt to see if generating interaction terms might get us better results."
   ]
  },
  {
   "cell_type": "code",
   "execution_count": 70,
   "id": "e6392861",
   "metadata": {},
   "outputs": [],
   "source": [
    "# Initializing the PolynomialFeatures\n",
    "poly = PolynomialFeatures(degree=2, include_bias=False)\n",
    "\n",
    "# Fit and transform the scaled training data\n",
    "Z_train_poly = poly.fit_transform(Z_train)\n",
    "\n",
    "#Transform the scaled testing data and the scaled kaggle test dataset\n",
    "Z_test_poly = poly.transform(Z_test)\n",
    "Z_kaggle_poly = poly.transform(Z_kaggle)"
   ]
  },
  {
   "cell_type": "markdown",
   "id": "4245f8fe",
   "metadata": {},
   "source": [
    "#### 5.5.1 Linear Regression with Polynomial Features"
   ]
  },
  {
   "cell_type": "code",
   "execution_count": 96,
   "id": "7557bf31",
   "metadata": {},
   "outputs": [
    {
     "data": {
      "text/plain": [
       "LinearRegression()"
      ]
     },
     "execution_count": 96,
     "metadata": {},
     "output_type": "execute_result"
    }
   ],
   "source": [
    "# Initializing and fitting the model \n",
    "lr_poly = LinearRegression()\n",
    "lr_poly.fit(Z_train_poly, y_train)"
   ]
  },
  {
   "cell_type": "code",
   "execution_count": 97,
   "id": "3ec50b65",
   "metadata": {},
   "outputs": [
    {
     "name": "stdout",
     "output_type": "stream",
     "text": [
      "RMSE: 18464.5668\n",
      "MAE: 13569.4434\n",
      "R2: 0.9461\n"
     ]
    }
   ],
   "source": [
    "# Metrics for Linear Regression with poly for the training data\n",
    "model_metrics(lr_poly, Z_train_poly, y_train)"
   ]
  },
  {
   "cell_type": "code",
   "execution_count": 98,
   "id": "dcf986be",
   "metadata": {},
   "outputs": [
    {
     "name": "stdout",
     "output_type": "stream",
     "text": [
      "RMSE: 45992799393542.17\n",
      "MAE: 2030631719261.1624\n",
      "R2: -3.445161361666856e+17\n"
     ]
    }
   ],
   "source": [
    "# Metrics for Linear Regression with poly for the test data\n",
    "model_metrics(lr_poly, Z_test_poly, y_test)"
   ]
  },
  {
   "cell_type": "code",
   "execution_count": 99,
   "id": "41645576",
   "metadata": {
    "scrolled": false
   },
   "outputs": [
    {
     "name": "stdout",
     "output_type": "stream",
     "text": [
      "RMSE: 148438398130604.1\n",
      "R2: -2.938639890453274e+18\n"
     ]
    }
   ],
   "source": [
    "# Cross validation score for Linear Regression with poly for the training data\n",
    "model_crossval(lr_poly, Z_train_poly, y_train, cv_mod=10)"
   ]
  },
  {
   "cell_type": "markdown",
   "id": "ac60ad01",
   "metadata": {},
   "source": [
    "Judging from the scores, we can see the Linear Regression Model with Polynomial Features is very overfitting to the training data. As such, we can safely ignore this model and move on to the others."
   ]
  },
  {
   "cell_type": "markdown",
   "id": "d8a5444e",
   "metadata": {},
   "source": [
    "#### 5.5.2 Ridge with Polynomial Features"
   ]
  },
  {
   "cell_type": "code",
   "execution_count": 102,
   "id": "3e58cf42",
   "metadata": {
    "scrolled": true
   },
   "outputs": [
    {
     "data": {
      "text/plain": [
       "RidgeCV(alphas=array([1.00000000e+00, 1.12332403e+00, 1.26185688e+00, 1.41747416e+00,\n",
       "       1.59228279e+00, 1.78864953e+00, 2.00923300e+00, 2.25701972e+00,\n",
       "       2.53536449e+00, 2.84803587e+00, 3.19926714e+00, 3.59381366e+00,\n",
       "       4.03701726e+00, 4.53487851e+00, 5.09413801e+00, 5.72236766e+00,\n",
       "       6.42807312e+00, 7.22080902e+00, 8.11130831e+00, 9.11162756e+00,\n",
       "       1.02353102e+01, 1.14975700e+0...\n",
       "       6.89261210e+03, 7.74263683e+03, 8.69749003e+03, 9.77009957e+03,\n",
       "       1.09749877e+04, 1.23284674e+04, 1.38488637e+04, 1.55567614e+04,\n",
       "       1.74752840e+04, 1.96304065e+04, 2.20513074e+04, 2.47707636e+04,\n",
       "       2.78255940e+04, 3.12571585e+04, 3.51119173e+04, 3.94420606e+04,\n",
       "       4.43062146e+04, 4.97702356e+04, 5.59081018e+04, 6.28029144e+04,\n",
       "       7.05480231e+04, 7.92482898e+04, 8.90215085e+04, 1.00000000e+05]),\n",
       "        cv=10)"
      ]
     },
     "execution_count": 102,
     "metadata": {},
     "output_type": "execute_result"
    }
   ],
   "source": [
    "# Initializing and fitting the model \n",
    "ridge_cv_poly = RidgeCV(alphas=r_alphas, cv=10)\n",
    "ridge_cv_poly.fit(Z_train_poly,y_train)"
   ]
  },
  {
   "cell_type": "code",
   "execution_count": 105,
   "id": "dbd16b02",
   "metadata": {},
   "outputs": [
    {
     "data": {
      "text/plain": [
       "132.19411484660287"
      ]
     },
     "execution_count": 105,
     "metadata": {},
     "output_type": "execute_result"
    }
   ],
   "source": [
    "# Optimal value of alpha \n",
    "ridge_cv_poly.alpha_"
   ]
  },
  {
   "cell_type": "code",
   "execution_count": 106,
   "id": "5ecb32d7",
   "metadata": {},
   "outputs": [
    {
     "data": {
      "text/plain": [
       "Ridge(alpha=132.19411484660287)"
      ]
     },
     "execution_count": 106,
     "metadata": {},
     "output_type": "execute_result"
    }
   ],
   "source": [
    "# Initiate and fitting Ridge with poly with the optimal value of alpha\n",
    "ridge_poly = Ridge(alpha=ridge_cv_poly.alpha_)\n",
    "ridge_poly.fit(Z_train_poly, y_train)"
   ]
  },
  {
   "cell_type": "code",
   "execution_count": 107,
   "id": "00110f1c",
   "metadata": {},
   "outputs": [
    {
     "name": "stdout",
     "output_type": "stream",
     "text": [
      "RMSE: 21255.5839\n",
      "MAE: 15030.3755\n",
      "R2: 0.9286\n"
     ]
    }
   ],
   "source": [
    "# Metrics for Ridge with poly for the training data\n",
    "model_metrics(ridge_poly, Z_train_poly, y_train)"
   ]
  },
  {
   "cell_type": "code",
   "execution_count": 109,
   "id": "c06b6c19",
   "metadata": {},
   "outputs": [
    {
     "name": "stdout",
     "output_type": "stream",
     "text": [
      "RMSE: 23173.0698\n",
      "MAE: 16414.1223\n",
      "R2: 0.9125\n"
     ]
    }
   ],
   "source": [
    "# Metrics for Ridge with poly for the test data\n",
    "model_metrics(ridge_poly, Z_test_poly, y_test)"
   ]
  },
  {
   "cell_type": "code",
   "execution_count": 110,
   "id": "2ee18f90",
   "metadata": {
    "scrolled": true
   },
   "outputs": [
    {
     "name": "stdout",
     "output_type": "stream",
     "text": [
      "RMSE: 27076.6934\n",
      "R2: 0.8856\n"
     ]
    }
   ],
   "source": [
    "# Cross validation score for Ridge Regression with poly for the training data\n",
    "model_crossval(ridge_poly, Z_train_poly, y_train, cv_mod=10)"
   ]
  },
  {
   "cell_type": "markdown",
   "id": "17010ef5",
   "metadata": {},
   "source": [
    "`The R2 scores for both the training and test data are 0.8491 and 0.8848, indicating the model is doing slightly better than the previous two models with regards to the fitting. Also, the cross validation score of 0.8334 means this is improving on the previous models.`\n",
    "\n",
    "`The RMSE for the train and test data are at 30890.0557 and 26590.7275 respectively, indicates that there is some mitigation to the overfitting of the model. However, the cross validation score with RMSE is at 32343.4668 indicates some improvement in the area of overfitting.`"
   ]
  },
  {
   "cell_type": "markdown",
   "id": "d4b74980",
   "metadata": {},
   "source": [
    "#### 5.5.3 Lasso with Polynomial Features"
   ]
  },
  {
   "cell_type": "code",
   "execution_count": 72,
   "id": "a3cd2284",
   "metadata": {},
   "outputs": [
    {
     "data": {
      "text/plain": [
       "LassoCV(cv=10, n_alphas=500)"
      ]
     },
     "execution_count": 72,
     "metadata": {},
     "output_type": "execute_result"
    }
   ],
   "source": [
    "# Initializing and fitting the model \n",
    "lasso_cv_poly = LassoCV(n_alphas=500, cv=10)\n",
    "lasso_cv_poly.fit(Z_train_poly,y_train)"
   ]
  },
  {
   "cell_type": "code",
   "execution_count": 73,
   "id": "52bec66d",
   "metadata": {},
   "outputs": [
    {
     "data": {
      "text/plain": [
       "294.2122327368478"
      ]
     },
     "execution_count": 73,
     "metadata": {},
     "output_type": "execute_result"
    }
   ],
   "source": [
    "# Optimal value of alpha \n",
    "lasso_cv_poly.alpha_"
   ]
  },
  {
   "cell_type": "code",
   "execution_count": 74,
   "id": "209e7c5a",
   "metadata": {},
   "outputs": [
    {
     "data": {
      "text/plain": [
       "Lasso(alpha=294.2122327368478)"
      ]
     },
     "execution_count": 74,
     "metadata": {},
     "output_type": "execute_result"
    }
   ],
   "source": [
    "# Initiate and fitting Lasso with poly with the optimal value of alpha\n",
    "lasso_poly = Lasso(alpha=lasso_cv_poly.alpha_)\n",
    "lasso_poly.fit(Z_train_poly, y_train)"
   ]
  },
  {
   "cell_type": "code",
   "execution_count": 75,
   "id": "4dc125ef",
   "metadata": {},
   "outputs": [
    {
     "name": "stdout",
     "output_type": "stream",
     "text": [
      "RMSE: 21461.6586\n",
      "MAE: 15027.2601\n",
      "R2: 0.9272\n"
     ]
    }
   ],
   "source": [
    "# Metrics for Lasso with poly for the training data\n",
    "model_metrics(lasso_poly, Z_train_poly, y_train)"
   ]
  },
  {
   "cell_type": "code",
   "execution_count": 76,
   "id": "b9a9f218",
   "metadata": {},
   "outputs": [
    {
     "name": "stdout",
     "output_type": "stream",
     "text": [
      "RMSE: 22596.9673\n",
      "MAE: 16266.3746\n",
      "R2: 0.9168\n"
     ]
    }
   ],
   "source": [
    "# Metrics for Lasso with poly for the test data\n",
    "model_metrics(lasso_poly, Z_test_poly, y_test)"
   ]
  },
  {
   "cell_type": "code",
   "execution_count": 77,
   "id": "42985dc1",
   "metadata": {
    "scrolled": false
   },
   "outputs": [
    {
     "name": "stdout",
     "output_type": "stream",
     "text": [
      "RMSE: 25963.2463\n",
      "R2: 0.8939\n"
     ]
    }
   ],
   "source": [
    "# Cross validation score for Lasso Regression with poly for the training data\n",
    "model_crossval(lasso_poly, Z_train_poly, y_train, cv_mod=10)"
   ]
  },
  {
   "cell_type": "markdown",
   "id": "fd3fb105",
   "metadata": {},
   "source": [
    "`The R2 scores for both the training and test data are 0.8491 and 0.8848, indicating the model is doing slightly better than the previous two models with regards to the fitting. Also, the cross validation score of 0.8334 means this is improving on the previous models.`\n",
    "\n",
    "`The RMSE for the train and test data are at 30890.0557 and 26590.7275 respectively, indicates that there is some mitigation to the overfitting of the model. However, the cross validation score with RMSE is at 32343.4668 indicates some improvement in the area of overfitting.`"
   ]
  },
  {
   "cell_type": "markdown",
   "id": "5e9bb947",
   "metadata": {},
   "source": [
    "### 6. Final Model\n",
    "Based on the results of the previous models, we can see the Lasso model is doing the best. As such, we will be using to fit the entire training dataset in order to predict the `SalePrice` for the test dataframe."
   ]
  },
  {
   "cell_type": "code",
   "execution_count": 78,
   "id": "d046b002",
   "metadata": {
    "scrolled": true
   },
   "outputs": [
    {
     "data": {
      "text/plain": [
       "LassoCV(cv=10, n_alphas=500)"
      ]
     },
     "execution_count": 78,
     "metadata": {},
     "output_type": "execute_result"
    }
   ],
   "source": [
    "# Initiating the Scaled dataset and scaling\n",
    "Z = X.copy()\n",
    "Z[scale_cols] = ss.fit_transform(Z[scale_cols])\n",
    "\n",
    "# Fit and transform the scaled training data with polynomial features\n",
    "Z_poly = poly.fit_transform(Z)\n",
    "\n",
    "# Initializing and fitting the final model \n",
    "lasso_cv_final = LassoCV(n_alphas=500, cv=10)\n",
    "lasso_cv_final.fit(Z_poly, y)"
   ]
  },
  {
   "cell_type": "code",
   "execution_count": 79,
   "id": "7ce0f38c",
   "metadata": {},
   "outputs": [
    {
     "data": {
      "text/plain": [
       "139.5816953260602"
      ]
     },
     "execution_count": 79,
     "metadata": {},
     "output_type": "execute_result"
    }
   ],
   "source": [
    "# Optimal value of alpha \n",
    "lasso_cv_final.alpha_"
   ]
  },
  {
   "cell_type": "code",
   "execution_count": 80,
   "id": "9738da39",
   "metadata": {},
   "outputs": [
    {
     "data": {
      "text/plain": [
       "Lasso(alpha=139.5816953260602)"
      ]
     },
     "execution_count": 80,
     "metadata": {},
     "output_type": "execute_result"
    }
   ],
   "source": [
    "# Initiate and fitting Lasso with the optimal value of alpha\n",
    "lasso_final = Lasso(alpha=lasso_cv_final.alpha_)\n",
    "lasso_final.fit(Z_poly, y)"
   ]
  },
  {
   "cell_type": "code",
   "execution_count": 81,
   "id": "3921f93a",
   "metadata": {
    "scrolled": true
   },
   "outputs": [
    {
     "name": "stdout",
     "output_type": "stream",
     "text": [
      "RMSE: 20851.3064\n",
      "MAE: 14742.3347\n",
      "R2: 0.9308\n"
     ]
    }
   ],
   "source": [
    "# Metrics for Lasso for the training dataset\n",
    "model_metrics(lasso_final, Z_poly, y)"
   ]
  },
  {
   "cell_type": "code",
   "execution_count": 82,
   "id": "2cd3a97d",
   "metadata": {
    "scrolled": true
   },
   "outputs": [
    {
     "name": "stdout",
     "output_type": "stream",
     "text": [
      "RMSE: 24829.1837\n",
      "R2: 0.9011\n"
     ]
    }
   ],
   "source": [
    "# Cross validation score for Lasso Regression for the training dataset\n",
    "model_crossval(lasso_final, Z_poly, y, cv_mod=10)"
   ]
  },
  {
   "cell_type": "markdown",
   "id": "65f1c11f",
   "metadata": {},
   "source": [
    "The R2 score and the RMSE score for the training dataset are 0.8584 and 29819.7165 respectively, and the cross validation scores with R2 and RMSE scoring are 0.8469 and 30859.9692 respectively. These improvements can be related to the increase number of observation data available."
   ]
  },
  {
   "cell_type": "code",
   "execution_count": 83,
   "id": "37be4848",
   "metadata": {},
   "outputs": [],
   "source": [
    "# Predicting using the model on the test dataset\n",
    "y_kaggle = lasso_final.predict(Z_kaggle_poly)"
   ]
  },
  {
   "cell_type": "code",
   "execution_count": 84,
   "id": "63d13687",
   "metadata": {
    "scrolled": true
   },
   "outputs": [],
   "source": [
    "## Creating the kaggle submission\n",
    "# Creating the Id column\n",
    "df_kaggle = pd.DataFrame(df_test_clean, columns=['id'])\n",
    "df_kaggle.columns = df_kaggle.columns.str.capitalize()\n",
    "\n",
    "# Creating the predicted SalePrice\n",
    "df_kaggle['SalePrice'] = y_kaggle\n",
    "\n",
    "# Sorting by Id\n",
    "df_kaggle.sort_values(by='Id', inplace=True)"
   ]
  },
  {
   "cell_type": "code",
   "execution_count": 85,
   "id": "85663cea",
   "metadata": {},
   "outputs": [],
   "source": [
    "# Exporting the kaggle submission to file\n",
    "df_kaggle.to_csv('../datasets/kaggle_submission.csv', index=False)"
   ]
  },
  {
   "cell_type": "markdown",
   "id": "a5652fe7",
   "metadata": {},
   "source": [
    "The kaggle submission returned with an RMSE score of 33097.81863, which means that there is some degree of overfitting in the model."
   ]
  },
  {
   "cell_type": "markdown",
   "id": "09f94e2f",
   "metadata": {},
   "source": [
    "### 7. Recommendations and Conclusion\n",
    "After generating the final model, we will need to look back at the features themselves as the importance of the features are what we are looking for, and not the accuracy of our model predictions."
   ]
  },
  {
   "cell_type": "code",
   "execution_count": 86,
   "id": "714eb565",
   "metadata": {},
   "outputs": [
    {
     "data": {
      "text/plain": [
       "array([ 8.47741541e+03,  1.34611234e+04,  5.41267608e+03,  3.97230507e+03,\n",
       "        4.68213891e+03,  5.24701276e+02,  2.82870205e+03,  1.50586518e+03,\n",
       "        2.10556138e+04,  2.50340742e+02,  4.88833439e+03, -1.19228756e+03,\n",
       "        5.38486651e+03,  6.28833448e+03,  0.00000000e+00, -0.00000000e+00,\n",
       "        0.00000000e+00,  5.42192077e+02,  0.00000000e+00,  2.34461832e+03,\n",
       "        5.36152159e+02,  1.44433680e+03,  0.00000000e+00, -0.00000000e+00,\n",
       "       -0.00000000e+00, -1.10563199e+03,  0.00000000e+00, -0.00000000e+00,\n",
       "        0.00000000e+00,  1.58598440e+03,  3.66044300e+02, -3.20375367e+03,\n",
       "        0.00000000e+00,  1.58324985e+02, -2.60064815e+02,  0.00000000e+00,\n",
       "       -1.84600394e+03,  1.97235292e+03, -5.95097368e+00,  2.01306156e+04,\n",
       "        0.00000000e+00,  1.26164111e+04, -1.93141013e+02, -0.00000000e+00,\n",
       "        0.00000000e+00,  0.00000000e+00,  0.00000000e+00, -0.00000000e+00,\n",
       "        0.00000000e+00, -1.62110815e+03, -8.59445529e+01, -1.07820424e+03,\n",
       "        1.39754155e+03, -4.24013447e+02, -0.00000000e+00,  8.16798511e+02,\n",
       "       -7.89272107e+02,  2.00962672e+03, -9.36381420e+02,  0.00000000e+00,\n",
       "        0.00000000e+00,  2.19320921e+03,  8.40860839e+02,  3.94200081e+03,\n",
       "       -0.00000000e+00,  0.00000000e+00,  0.00000000e+00, -0.00000000e+00,\n",
       "       -0.00000000e+00,  0.00000000e+00,  2.31369699e+03, -0.00000000e+00,\n",
       "        4.68591616e+02, -0.00000000e+00, -5.27453820e+01, -7.64404600e+02,\n",
       "       -0.00000000e+00, -5.52322101e+02,  0.00000000e+00, -1.90170734e+03,\n",
       "        0.00000000e+00,  3.01219346e+02, -7.27783479e+02, -0.00000000e+00,\n",
       "       -2.75977122e+03,  6.28906218e+02,  0.00000000e+00, -0.00000000e+00,\n",
       "        0.00000000e+00,  2.97933355e+03,  0.00000000e+00,  0.00000000e+00,\n",
       "       -0.00000000e+00,  0.00000000e+00, -0.00000000e+00, -0.00000000e+00,\n",
       "        0.00000000e+00,  0.00000000e+00,  0.00000000e+00,  0.00000000e+00,\n",
       "        5.20143802e+02,  0.00000000e+00,  0.00000000e+00,  0.00000000e+00,\n",
       "        0.00000000e+00, -0.00000000e+00,  6.13483682e+02,  0.00000000e+00,\n",
       "        3.93592434e+03, -0.00000000e+00,  0.00000000e+00, -0.00000000e+00,\n",
       "       -0.00000000e+00, -0.00000000e+00, -0.00000000e+00,  0.00000000e+00,\n",
       "       -1.20605834e+03,  2.38502024e+03, -0.00000000e+00,  4.56164609e+02,\n",
       "        1.04282699e+03,  1.36546866e+03, -2.58491775e+02,  2.45668512e+02,\n",
       "       -7.19409383e+02, -0.00000000e+00,  0.00000000e+00, -5.99830711e+02,\n",
       "        1.66486066e+02,  0.00000000e+00,  0.00000000e+00, -0.00000000e+00,\n",
       "        0.00000000e+00,  0.00000000e+00, -6.20423693e+02,  2.84434856e+02,\n",
       "       -0.00000000e+00,  0.00000000e+00,  0.00000000e+00, -1.09062728e+03,\n",
       "        1.90393502e+03,  1.81979487e+03, -0.00000000e+00,  1.72515296e+03,\n",
       "        2.16118595e+02,  0.00000000e+00, -0.00000000e+00, -2.24237354e+02,\n",
       "       -0.00000000e+00,  0.00000000e+00,  0.00000000e+00, -0.00000000e+00,\n",
       "        0.00000000e+00,  0.00000000e+00, -0.00000000e+00, -3.83370465e+02,\n",
       "        0.00000000e+00, -0.00000000e+00,  3.53814929e+03, -0.00000000e+00,\n",
       "       -4.91982862e+03, -4.03694637e+02,  1.82235220e+03,  1.06546075e+03,\n",
       "        0.00000000e+00, -1.11587771e+03,  1.49422346e+03, -0.00000000e+00,\n",
       "        1.58580375e+04,  1.33208689e+04,  1.46080840e+03,  3.51698499e+03,\n",
       "       -0.00000000e+00,  5.75276938e+03,  0.00000000e+00,  2.03492445e+03,\n",
       "        1.84865492e+03,  0.00000000e+00, -0.00000000e+00, -4.54304645e+02,\n",
       "        2.10625569e+03, -7.87346687e+02, -1.41760364e+02,  0.00000000e+00,\n",
       "       -4.19050898e+02,  0.00000000e+00,  0.00000000e+00, -0.00000000e+00,\n",
       "        0.00000000e+00,  2.36501088e+03, -0.00000000e+00, -2.03069887e+02,\n",
       "       -2.53427774e+00,  0.00000000e+00, -0.00000000e+00, -0.00000000e+00,\n",
       "       -0.00000000e+00,  2.22417952e+03,  2.70339685e+03,  3.06130814e+03,\n",
       "       -5.34090897e+03,  2.54095294e+02,  0.00000000e+00,  0.00000000e+00,\n",
       "        0.00000000e+00,  5.93566322e+03, -0.00000000e+00, -0.00000000e+00,\n",
       "        0.00000000e+00,  9.11679309e+02,  2.77278433e+03, -0.00000000e+00,\n",
       "        0.00000000e+00, -0.00000000e+00,  5.54475289e+02,  0.00000000e+00,\n",
       "        1.30580620e+02, -2.70881806e+02, -0.00000000e+00,  0.00000000e+00,\n",
       "       -0.00000000e+00,  0.00000000e+00, -0.00000000e+00, -2.05405935e+02,\n",
       "        0.00000000e+00, -0.00000000e+00, -5.11986078e+02,  0.00000000e+00,\n",
       "        0.00000000e+00, -7.14693499e+02,  6.34921638e+02,  0.00000000e+00,\n",
       "        4.73305610e+02,  1.95661358e+03,  0.00000000e+00, -2.74387334e+02,\n",
       "        0.00000000e+00, -0.00000000e+00, -0.00000000e+00, -0.00000000e+00,\n",
       "       -0.00000000e+00,  1.54829096e+03, -0.00000000e+00,  0.00000000e+00,\n",
       "       -9.97853005e+02,  1.84315375e+03,  0.00000000e+00,  4.04542683e+02,\n",
       "        6.58996345e+03,  1.19956955e+04,  0.00000000e+00, -1.01015905e+03,\n",
       "       -0.00000000e+00,  0.00000000e+00, -0.00000000e+00, -0.00000000e+00,\n",
       "       -0.00000000e+00,  2.79213943e+03, -2.13900867e+02, -1.16387035e+03,\n",
       "       -7.93588239e+02,  0.00000000e+00,  0.00000000e+00, -0.00000000e+00,\n",
       "       -0.00000000e+00, -0.00000000e+00,  0.00000000e+00,  1.85534557e+03,\n",
       "        0.00000000e+00,  0.00000000e+00,  5.71618018e+02, -1.14294437e+03,\n",
       "       -0.00000000e+00,  0.00000000e+00,  0.00000000e+00,  0.00000000e+00,\n",
       "       -0.00000000e+00, -0.00000000e+00, -0.00000000e+00,  0.00000000e+00,\n",
       "       -0.00000000e+00,  0.00000000e+00,  0.00000000e+00,  0.00000000e+00,\n",
       "        0.00000000e+00,  0.00000000e+00,  0.00000000e+00,  0.00000000e+00,\n",
       "        0.00000000e+00,  0.00000000e+00,  0.00000000e+00,  0.00000000e+00,\n",
       "        0.00000000e+00,  0.00000000e+00,  0.00000000e+00, -0.00000000e+00,\n",
       "        0.00000000e+00, -1.76163656e+03, -0.00000000e+00, -0.00000000e+00,\n",
       "       -0.00000000e+00, -0.00000000e+00, -0.00000000e+00, -0.00000000e+00,\n",
       "       -0.00000000e+00,  0.00000000e+00, -0.00000000e+00, -0.00000000e+00,\n",
       "        0.00000000e+00,  0.00000000e+00,  0.00000000e+00,  0.00000000e+00,\n",
       "        0.00000000e+00,  0.00000000e+00,  3.36373989e+03,  0.00000000e+00,\n",
       "        0.00000000e+00,  0.00000000e+00,  0.00000000e+00,  2.47136338e+03,\n",
       "        0.00000000e+00,  0.00000000e+00,  0.00000000e+00,  0.00000000e+00,\n",
       "       -0.00000000e+00,  0.00000000e+00, -0.00000000e+00,  0.00000000e+00,\n",
       "        0.00000000e+00,  1.78557598e+03,  0.00000000e+00,  3.51317884e+02,\n",
       "        0.00000000e+00,  0.00000000e+00, -0.00000000e+00,  1.42525043e+03,\n",
       "        0.00000000e+00,  0.00000000e+00,  0.00000000e+00,  0.00000000e+00,\n",
       "        1.03390601e+02,  0.00000000e+00,  0.00000000e+00, -0.00000000e+00,\n",
       "        0.00000000e+00, -0.00000000e+00, -0.00000000e+00, -0.00000000e+00,\n",
       "        0.00000000e+00, -0.00000000e+00])"
      ]
     },
     "execution_count": 86,
     "metadata": {},
     "output_type": "execute_result"
    }
   ],
   "source": [
    "# Looking at coefficients of the final model\n",
    "lasso_final.coef_"
   ]
  },
  {
   "cell_type": "code",
   "execution_count": 114,
   "id": "ea63392a",
   "metadata": {},
   "outputs": [
    {
     "data": {
      "text/plain": [
       "350"
      ]
     },
     "execution_count": 114,
     "metadata": {},
     "output_type": "execute_result"
    }
   ],
   "source": [
    "len(list(poly.get_feature_names_out(features)))"
   ]
  },
  {
   "cell_type": "code",
   "execution_count": 95,
   "id": "22901ee6",
   "metadata": {},
   "outputs": [
    {
     "data": {
      "text/html": [
       "<div>\n",
       "<style scoped>\n",
       "    .dataframe tbody tr th:only-of-type {\n",
       "        vertical-align: middle;\n",
       "    }\n",
       "\n",
       "    .dataframe tbody tr th {\n",
       "        vertical-align: top;\n",
       "    }\n",
       "\n",
       "    .dataframe thead th {\n",
       "        text-align: right;\n",
       "    }\n",
       "</style>\n",
       "<table border=\"1\" class=\"dataframe\">\n",
       "  <thead>\n",
       "    <tr style=\"text-align: right;\">\n",
       "      <th></th>\n",
       "      <th>feature</th>\n",
       "      <th>coef</th>\n",
       "      <th>abs_coef</th>\n",
       "    </tr>\n",
       "  </thead>\n",
       "  <tbody>\n",
       "    <tr>\n",
       "      <th>8</th>\n",
       "      <td>gr_liv_area</td>\n",
       "      <td>21055.613842</td>\n",
       "      <td>21055.613842</td>\n",
       "    </tr>\n",
       "    <tr>\n",
       "      <th>39</th>\n",
       "      <td>lot_area neighborhood_stonebr</td>\n",
       "      <td>20130.615644</td>\n",
       "      <td>20130.615644</td>\n",
       "    </tr>\n",
       "    <tr>\n",
       "      <th>168</th>\n",
       "      <td>total_bsmt_sf neighborhood_stonebr</td>\n",
       "      <td>15858.037454</td>\n",
       "      <td>15858.037454</td>\n",
       "    </tr>\n",
       "    <tr>\n",
       "      <th>1</th>\n",
       "      <td>overall_qual</td>\n",
       "      <td>13461.123415</td>\n",
       "      <td>13461.123415</td>\n",
       "    </tr>\n",
       "    <tr>\n",
       "      <th>169</th>\n",
       "      <td>total_bsmt_sf neighborhood_nridght</td>\n",
       "      <td>13320.868881</td>\n",
       "      <td>13320.868881</td>\n",
       "    </tr>\n",
       "    <tr>\n",
       "      <th>41</th>\n",
       "      <td>lot_area neighborhood_noridge</td>\n",
       "      <td>12616.411055</td>\n",
       "      <td>12616.411055</td>\n",
       "    </tr>\n",
       "    <tr>\n",
       "      <th>249</th>\n",
       "      <td>totrms_abvgrd neighborhood_nridght</td>\n",
       "      <td>11995.695450</td>\n",
       "      <td>11995.695450</td>\n",
       "    </tr>\n",
       "    <tr>\n",
       "      <th>0</th>\n",
       "      <td>lot_area</td>\n",
       "      <td>8477.415405</td>\n",
       "      <td>8477.415405</td>\n",
       "    </tr>\n",
       "    <tr>\n",
       "      <th>248</th>\n",
       "      <td>totrms_abvgrd neighborhood_stonebr</td>\n",
       "      <td>6589.963454</td>\n",
       "      <td>6589.963454</td>\n",
       "    </tr>\n",
       "    <tr>\n",
       "      <th>13</th>\n",
       "      <td>garage_area</td>\n",
       "      <td>6288.334479</td>\n",
       "      <td>6288.334479</td>\n",
       "    </tr>\n",
       "    <tr>\n",
       "      <th>205</th>\n",
       "      <td>gr_liv_area neighborhood_noridge</td>\n",
       "      <td>5935.663218</td>\n",
       "      <td>5935.663218</td>\n",
       "    </tr>\n",
       "    <tr>\n",
       "      <th>173</th>\n",
       "      <td>total_bsmt_sf garage_attchd</td>\n",
       "      <td>5752.769385</td>\n",
       "      <td>5752.769385</td>\n",
       "    </tr>\n",
       "    <tr>\n",
       "      <th>2</th>\n",
       "      <td>year_built</td>\n",
       "      <td>5412.676083</td>\n",
       "      <td>5412.676083</td>\n",
       "    </tr>\n",
       "    <tr>\n",
       "      <th>12</th>\n",
       "      <td>fireplaces</td>\n",
       "      <td>5384.866508</td>\n",
       "      <td>5384.866508</td>\n",
       "    </tr>\n",
       "    <tr>\n",
       "      <th>200</th>\n",
       "      <td>gr_liv_area totrms_abvgrd</td>\n",
       "      <td>-5340.908973</td>\n",
       "      <td>5340.908973</td>\n",
       "    </tr>\n",
       "    <tr>\n",
       "      <th>160</th>\n",
       "      <td>total_bsmt_sf^2</td>\n",
       "      <td>-4919.828621</td>\n",
       "      <td>4919.828621</td>\n",
       "    </tr>\n",
       "    <tr>\n",
       "      <th>10</th>\n",
       "      <td>kitchen_qual</td>\n",
       "      <td>4888.334388</td>\n",
       "      <td>4888.334388</td>\n",
       "    </tr>\n",
       "    <tr>\n",
       "      <th>4</th>\n",
       "      <td>bsmt_qual</td>\n",
       "      <td>4682.138907</td>\n",
       "      <td>4682.138907</td>\n",
       "    </tr>\n",
       "    <tr>\n",
       "      <th>3</th>\n",
       "      <td>exter_qual</td>\n",
       "      <td>3972.305071</td>\n",
       "      <td>3972.305071</td>\n",
       "    </tr>\n",
       "    <tr>\n",
       "      <th>63</th>\n",
       "      <td>overall_qual neighborhood_stonebr</td>\n",
       "      <td>3942.000814</td>\n",
       "      <td>3942.000814</td>\n",
       "    </tr>\n",
       "    <tr>\n",
       "      <th>108</th>\n",
       "      <td>exter_qual neighborhood_stonebr</td>\n",
       "      <td>3935.924339</td>\n",
       "      <td>3935.924339</td>\n",
       "    </tr>\n",
       "    <tr>\n",
       "      <th>158</th>\n",
       "      <td>bsmt_exposure masvnr_stone</td>\n",
       "      <td>3538.149294</td>\n",
       "      <td>3538.149294</td>\n",
       "    </tr>\n",
       "    <tr>\n",
       "      <th>171</th>\n",
       "      <td>total_bsmt_sf bsmt_fin_glq</td>\n",
       "      <td>3516.984994</td>\n",
       "      <td>3516.984994</td>\n",
       "    </tr>\n",
       "    <tr>\n",
       "      <th>314</th>\n",
       "      <td>bsmt_fin_glq^2</td>\n",
       "      <td>3363.739893</td>\n",
       "      <td>3363.739893</td>\n",
       "    </tr>\n",
       "    <tr>\n",
       "      <th>31</th>\n",
       "      <td>lot_area total_bsmt_sf</td>\n",
       "      <td>-3203.753671</td>\n",
       "      <td>3203.753671</td>\n",
       "    </tr>\n",
       "  </tbody>\n",
       "</table>\n",
       "</div>"
      ],
      "text/plain": [
       "                                feature          coef      abs_coef\n",
       "8                           gr_liv_area  21055.613842  21055.613842\n",
       "39        lot_area neighborhood_stonebr  20130.615644  20130.615644\n",
       "168  total_bsmt_sf neighborhood_stonebr  15858.037454  15858.037454\n",
       "1                          overall_qual  13461.123415  13461.123415\n",
       "169  total_bsmt_sf neighborhood_nridght  13320.868881  13320.868881\n",
       "41        lot_area neighborhood_noridge  12616.411055  12616.411055\n",
       "249  totrms_abvgrd neighborhood_nridght  11995.695450  11995.695450\n",
       "0                              lot_area   8477.415405   8477.415405\n",
       "248  totrms_abvgrd neighborhood_stonebr   6589.963454   6589.963454\n",
       "13                          garage_area   6288.334479   6288.334479\n",
       "205    gr_liv_area neighborhood_noridge   5935.663218   5935.663218\n",
       "173         total_bsmt_sf garage_attchd   5752.769385   5752.769385\n",
       "2                            year_built   5412.676083   5412.676083\n",
       "12                           fireplaces   5384.866508   5384.866508\n",
       "200           gr_liv_area totrms_abvgrd  -5340.908973   5340.908973\n",
       "160                     total_bsmt_sf^2  -4919.828621   4919.828621\n",
       "10                         kitchen_qual   4888.334388   4888.334388\n",
       "4                             bsmt_qual   4682.138907   4682.138907\n",
       "3                            exter_qual   3972.305071   3972.305071\n",
       "63    overall_qual neighborhood_stonebr   3942.000814   3942.000814\n",
       "108     exter_qual neighborhood_stonebr   3935.924339   3935.924339\n",
       "158          bsmt_exposure masvnr_stone   3538.149294   3538.149294\n",
       "171          total_bsmt_sf bsmt_fin_glq   3516.984994   3516.984994\n",
       "314                      bsmt_fin_glq^2   3363.739893   3363.739893\n",
       "31               lot_area total_bsmt_sf  -3203.753671   3203.753671"
      ]
     },
     "execution_count": 95,
     "metadata": {},
     "output_type": "execute_result"
    }
   ],
   "source": [
    "# Outputting the coefficients to dataframe\n",
    "final_coef = pd.DataFrame({'feature': poly.get_feature_names_out(features),\n",
    "                          'coef': lasso_final.coef_,\n",
    "                          'abs_coef':np.abs(lasso_final.coef_)})\n",
    "\n",
    "# Sort values by absolute value of coefficients and showing the top 20\n",
    "final_coef.sort_values('abs_coef', ascending=False).head(25)"
   ]
  }
 ],
 "metadata": {
  "kernelspec": {
   "display_name": "Python 3 (ipykernel)",
   "language": "python",
   "name": "python3"
  },
  "language_info": {
   "codemirror_mode": {
    "name": "ipython",
    "version": 3
   },
   "file_extension": ".py",
   "mimetype": "text/x-python",
   "name": "python",
   "nbconvert_exporter": "python",
   "pygments_lexer": "ipython3",
   "version": "3.8.12"
  }
 },
 "nbformat": 4,
 "nbformat_minor": 5
}
